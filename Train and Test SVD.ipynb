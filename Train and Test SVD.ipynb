{
 "cells": [
  {
   "cell_type": "code",
   "execution_count": 1,
   "metadata": {},
   "outputs": [],
   "source": [
    "import pandas as pd\n",
    "import numpy as np\n",
    "from sklearn.metrics import mean_squared_error\n",
    "from CustomSVD import CustomSVD\n",
    "from CustomSVD import Hypothesis1"
   ]
  },
  {
   "cell_type": "code",
   "execution_count": 2,
   "metadata": {},
   "outputs": [],
   "source": [
    "a = np.load('./preprocessed/collaborative_input/train_STC.npy')\n",
    "b = np.load('./preprocessed/collaborative_input/test_STC.npy')\n",
    "train_sample = pd.read_pickle('./preprocessed/collaborative_input/new_train_sample.pkl')\n",
    "test_sample = pd.read_pickle('./preprocessed/collaborative_input/new_test_sample.pkl')\n",
    "train_sample['STC'] = a\n",
    "test_sample['STC'] = b\n",
    "from sklearn.model_selection import train_test_split\n",
    "\n",
    "val_sample, test_sample = train_test_split(test_sample, test_size=0.5, random_state=42)"
   ]
  },
  {
   "cell_type": "code",
   "execution_count": 11,
   "metadata": {},
   "outputs": [
    {
     "name": "stdout",
     "output_type": "stream",
     "text": [
      "The length of the training data: 88116\n",
      "The length of the validation data: 12356\n",
      "The length of the testing data: 12357\n"
     ]
    }
   ],
   "source": [
    "print(f\"The length of the training data: {len(train_sample)}\")\n",
    "print(f\"The length of the validation data: {len(val_sample)}\")\n",
    "print(f\"The length of the testing data: {len(test_sample)}\")"
   ]
  },
  {
   "cell_type": "code",
   "execution_count": 3,
   "metadata": {},
   "outputs": [],
   "source": [
    "import math\n",
    "#custom grid search for CustomKNN classes\n",
    "def grid_search(model, params_list):\n",
    "    lowest_mse = math.inf\n",
    "    lowest_params = []\n",
    "    if(model is CustomSVD):\n",
    "        m = model(train_sample, 'reviewerID', 'movieID', 'overall')\n",
    "    else:\n",
    "        m = model(train_sample, 'reviewerID', 'movieID', 'overall', 'STC')\n",
    "        \n",
    "    for d in params_list:\n",
    "        m.train(**d)\n",
    "        predictions = m.predict(val_sample)\n",
    "        val_loss = mean_squared_error(val_sample['overall'],predictions)\n",
    "        if(val_loss < lowest_mse):\n",
    "            lowest_mse = val_loss\n",
    "            lowest_params = d\n",
    "    return lowest_params"
   ]
  },
  {
   "cell_type": "code",
   "execution_count": 4,
   "metadata": {},
   "outputs": [
    {
     "name": "stdout",
     "output_type": "stream",
     "text": [
      "Epoch 0, training mse: 1.4131732627684541\n",
      "Epoch 1, training mse: 1.2751305974993763\n",
      "Epoch 2, training mse: 1.1777969896033063\n",
      "Epoch 3, training mse: 1.1017225828368848\n",
      "Epoch 4, training mse: 1.039197737879077\n",
      "Epoch 5, training mse: 0.9860238463808805\n",
      "Epoch 6, training mse: 0.9396157366545961\n",
      "Epoch 7, training mse: 0.8982680571582023\n",
      "Epoch 8, training mse: 0.860803701275353\n",
      "Epoch 9, training mse: 0.8263774204542927\n",
      "Epoch 10, training mse: 0.794365656123357\n",
      "Epoch 11, training mse: 0.7642958237264782\n",
      "Epoch 12, training mse: 0.7358048458336237\n",
      "Epoch 13, training mse: 0.7086118232390218\n",
      "Epoch 14, training mse: 0.6824979351803626\n",
      "Epoch 15, training mse: 0.6572928743670662\n",
      "Epoch 16, training mse: 0.6328653026156255\n",
      "Epoch 17, training mse: 0.609115667148962\n",
      "Epoch 18, training mse: 0.5859705071126333\n",
      "Epoch 19, training mse: 0.5633784597096526\n",
      "Epoch 0, training mse: 0.5413059064903455\n",
      "Epoch 1, training mse: 0.5197337130471211\n",
      "Epoch 2, training mse: 0.49865472030700875\n",
      "Epoch 3, training mse: 0.4780705652920675\n",
      "Epoch 4, training mse: 0.45798958374025855\n",
      "Epoch 5, training mse: 0.4384240144644158\n",
      "Epoch 6, training mse: 0.4193891603454699\n",
      "Epoch 7, training mse: 0.4009009259569479\n",
      "Epoch 8, training mse: 0.3829744872681109\n",
      "Epoch 9, training mse: 0.3656231709239445\n",
      "Epoch 10, training mse: 0.34885831307764065\n",
      "Epoch 11, training mse: 0.3326885111691621\n",
      "Epoch 12, training mse: 0.31711903399041097\n",
      "Epoch 13, training mse: 0.30215169908961115\n",
      "Epoch 14, training mse: 0.28778490456571276\n",
      "Epoch 15, training mse: 0.27401458106758647\n",
      "Epoch 16, training mse: 0.2608338128792368\n",
      "Epoch 17, training mse: 0.24823292132267283\n",
      "Epoch 18, training mse: 0.23619993528679506\n",
      "Epoch 19, training mse: 0.22472106759169647\n",
      "Epoch 20, training mse: 0.2137804743222855\n",
      "Epoch 21, training mse: 0.20336205256030457\n",
      "Epoch 22, training mse: 0.193448613209364\n",
      "Epoch 23, training mse: 0.18402211517725994\n",
      "Epoch 24, training mse: 0.1750640641658965\n",
      "Epoch 0, training mse: 0.16761042002441404\n",
      "Epoch 1, training mse: 0.15152486380896674\n",
      "Epoch 2, training mse: 0.1370718560637221\n",
      "Epoch 3, training mse: 0.12410226171961909\n",
      "Epoch 4, training mse: 0.11247339073766374\n",
      "Epoch 5, training mse: 0.10205162562150535\n",
      "Epoch 6, training mse: 0.09271354494550531\n",
      "Epoch 7, training mse: 0.08434626639603286\n",
      "Epoch 8, training mse: 0.07684733006946581\n",
      "Epoch 9, training mse: 0.07012421133237706\n",
      "Epoch 10, training mse: 0.06409370616879491\n",
      "Epoch 11, training mse: 0.05868122137816989\n",
      "Epoch 12, training mse: 0.05382005527967647\n",
      "Epoch 13, training mse: 0.049450671898180615\n",
      "Epoch 14, training mse: 0.04552002638860682\n",
      "Epoch 15, training mse: 0.041980896373113016\n",
      "Epoch 16, training mse: 0.03879126581433568\n",
      "Epoch 17, training mse: 0.035913769689318746\n",
      "Epoch 18, training mse: 0.033315194949636244\n",
      "Epoch 19, training mse: 0.030966023028996394\n",
      "Epoch 0, training mse: 0.028840026215719804\n",
      "Epoch 1, training mse: 0.026913890516906347\n",
      "Epoch 2, training mse: 0.025166886044555522\n",
      "Epoch 3, training mse: 0.023580571184176044\n",
      "Epoch 4, training mse: 0.02213852988931252\n",
      "Epoch 5, training mse: 0.020826142841069907\n",
      "Epoch 6, training mse: 0.019630381909473693\n",
      "Epoch 7, training mse: 0.018539630544472288\n",
      "Epoch 8, training mse: 0.017543522234231553\n",
      "Epoch 9, training mse: 0.01663279856214517\n",
      "Epoch 10, training mse: 0.015799185598437113\n",
      "Epoch 11, training mse: 0.015035280899909551\n",
      "Epoch 12, training mse: 0.014334456086257705\n",
      "Epoch 13, training mse: 0.013690772293929168\n",
      "Epoch 14, training mse: 0.0130989023065683\n",
      "Epoch 15, training mse: 0.012554063947714527\n",
      "Epoch 16, training mse: 0.012051960794812137\n",
      "Epoch 17, training mse: 0.011588728488378535\n",
      "Epoch 18, training mse: 0.011160887220945182\n",
      "Epoch 19, training mse: 0.010765301420848276\n",
      "Epoch 20, training mse: 0.01039914320625708\n",
      "Epoch 21, training mse: 0.010059859211026255\n",
      "Epoch 22, training mse: 0.009745142263493413\n",
      "Epoch 23, training mse: 0.009452905122303873\n",
      "Epoch 24, training mse: 0.00918125795372253\n"
     ]
    },
    {
     "data": {
      "text/plain": [
       "{'n_epochs': 20, 'learning_rate': 0.005, 'regularization_parameter': 0.02}"
      ]
     },
     "execution_count": 4,
     "metadata": {},
     "output_type": "execute_result"
    }
   ],
   "source": [
    "grid_search(CustomSVD, [{\"n_epochs\":20,\"learning_rate\":0.005,\"regularization_parameter\":0.02},{\"n_epochs\":25,\"learning_rate\":0.005,\"regularization_parameter\":0.02},{\"n_epochs\":20,\"learning_rate\":0.01,\"regularization_parameter\":0.02},{\"n_epochs\":25,\"learning_rate\":0.01,\"regularization_parameter\":0.02}])"
   ]
  },
  {
   "cell_type": "code",
   "execution_count": 5,
   "metadata": {},
   "outputs": [
    {
     "name": "stdout",
     "output_type": "stream",
     "text": [
      "Epoch 0, training mse: 1.4029889573325638\n",
      "Epoch 1, training mse: 1.2915865290684596\n",
      "Epoch 2, training mse: 1.2168872049711887\n",
      "Epoch 3, training mse: 1.1609876606331584\n",
      "Epoch 4, training mse: 1.1170032708343507\n",
      "Epoch 5, training mse: 1.0812418683032474\n",
      "Epoch 6, training mse: 1.0514564431277176\n",
      "Epoch 7, training mse: 1.026181212547586\n",
      "Epoch 8, training mse: 1.0044138748313902\n",
      "Epoch 9, training mse: 0.9854423564363405\n",
      "Epoch 10, training mse: 0.968743645494522\n",
      "Epoch 11, training mse: 0.9539216268190273\n",
      "Epoch 12, training mse: 0.9406717644317594\n",
      "Epoch 13, training mse: 0.9287542876010118\n",
      "Epoch 14, training mse: 0.9179790577040001\n",
      "Epoch 15, training mse: 0.908191167484785\n",
      "Epoch 16, training mse: 0.8992641359869505\n",
      "Epoch 17, training mse: 0.8910923226219276\n",
      "Epoch 18, training mse: 0.8835871162881156\n",
      "Epoch 19, training mse: 0.8766733213647099\n",
      "Epoch 0, training mse: 0.8702864099058525\n",
      "Epoch 1, training mse: 0.8643710803825885\n",
      "Epoch 2, training mse: 0.8588803538997156\n",
      "Epoch 3, training mse: 0.8537728945800727\n",
      "Epoch 4, training mse: 0.8490126585231722\n",
      "Epoch 5, training mse: 0.8445680219360697\n",
      "Epoch 6, training mse: 0.8404109196286738\n",
      "Epoch 7, training mse: 0.8365164348088586\n",
      "Epoch 8, training mse: 0.8328625041712296\n",
      "Epoch 9, training mse: 0.8294294164638877\n",
      "Epoch 10, training mse: 0.8261994498718508\n",
      "Epoch 11, training mse: 0.8231569338805648\n",
      "Epoch 12, training mse: 0.8202876900460906\n",
      "Epoch 13, training mse: 0.8175785644319128\n",
      "Epoch 14, training mse: 0.8150174375704758\n",
      "Epoch 15, training mse: 0.812593974904612\n",
      "Epoch 16, training mse: 0.8102984234753715\n",
      "Epoch 17, training mse: 0.8081223693037538\n",
      "Epoch 18, training mse: 0.8060576209171587\n",
      "Epoch 19, training mse: 0.804096741964359\n",
      "Epoch 20, training mse: 0.8022325935171873\n",
      "Epoch 21, training mse: 0.8004589546158664\n",
      "Epoch 22, training mse: 0.798769875487941\n",
      "Epoch 23, training mse: 0.7971600507895574\n",
      "Epoch 24, training mse: 0.7956251257429551\n",
      "Epoch 0, training mse: 0.8008598880373405\n",
      "Epoch 1, training mse: 0.798235408558751\n",
      "Epoch 2, training mse: 0.7958039452777194\n",
      "Epoch 3, training mse: 0.7935615734034613\n",
      "Epoch 4, training mse: 0.7914945841393051\n",
      "Epoch 5, training mse: 0.7895875771543465\n",
      "Epoch 6, training mse: 0.7878262681494185\n",
      "Epoch 7, training mse: 0.7861960681012591\n",
      "Epoch 8, training mse: 0.7846856172934328\n",
      "Epoch 9, training mse: 0.7832842494834155\n",
      "Epoch 10, training mse: 0.7819821597876778\n",
      "Epoch 11, training mse: 0.7807710239388624\n",
      "Epoch 12, training mse: 0.7796427451517355\n",
      "Epoch 13, training mse: 0.7785901332765437\n",
      "Epoch 14, training mse: 0.7776064093191511\n",
      "Epoch 15, training mse: 0.7766852949187358\n",
      "Epoch 16, training mse: 0.7758224691181977\n",
      "Epoch 17, training mse: 0.7750133184510234\n",
      "Epoch 18, training mse: 0.7742536087205979\n",
      "Epoch 19, training mse: 0.7735393530116121\n",
      "Epoch 0, training mse: 0.7728674796565144\n",
      "Epoch 1, training mse: 0.7722348066603971\n",
      "Epoch 2, training mse: 0.7716379634432263\n",
      "Epoch 3, training mse: 0.7710746124353423\n",
      "Epoch 4, training mse: 0.770542226623292\n",
      "Epoch 5, training mse: 0.7700390090371528\n",
      "Epoch 6, training mse: 0.7695629943482762\n",
      "Epoch 7, training mse: 0.7691122838889736\n",
      "Epoch 8, training mse: 0.7686849354786605\n",
      "Epoch 9, training mse: 0.7682795991460412\n",
      "Epoch 10, training mse: 0.7678949541760968\n",
      "Epoch 11, training mse: 0.7675293371973135\n",
      "Epoch 12, training mse: 0.7671816789340726\n",
      "Epoch 13, training mse: 0.7668510583472586\n",
      "Epoch 14, training mse: 0.7665364097985908\n",
      "Epoch 15, training mse: 0.766236567066621\n",
      "Epoch 16, training mse: 0.765950674541431\n",
      "Epoch 17, training mse: 0.765677968732321\n",
      "Epoch 18, training mse: 0.7654177074885334\n",
      "Epoch 19, training mse: 0.765169122547378\n",
      "Epoch 20, training mse: 0.7649316385223375\n",
      "Epoch 21, training mse: 0.7647046604585078\n",
      "Epoch 22, training mse: 0.7644874571446301\n",
      "Epoch 23, training mse: 0.764279614328321\n",
      "Epoch 24, training mse: 0.7640805986289194\n"
     ]
    },
    {
     "data": {
      "text/plain": [
       "{'n_epochs': 20, 'learning_rate': 0.005, 'regularization_parameter': 0.02}"
      ]
     },
     "execution_count": 5,
     "metadata": {},
     "output_type": "execute_result"
    }
   ],
   "source": [
    "grid_search(Hypothesis1, [{\"n_epochs\":20,\"learning_rate\":0.005,\"regularization_parameter\":0.02},{\"n_epochs\":25,\"learning_rate\":0.005,\"regularization_parameter\":0.02},{\"n_epochs\":20,\"learning_rate\":0.01,\"regularization_parameter\":0.02},{\"n_epochs\":25,\"learning_rate\":0.01,\"regularization_parameter\":0.02}])"
   ]
  },
  {
   "cell_type": "code",
   "execution_count": null,
   "metadata": {},
   "outputs": [],
   "source": []
  },
  {
   "cell_type": "markdown",
   "metadata": {},
   "source": [
    "Final Test MSE based on hyperparams found through grid search on val data."
   ]
  },
  {
   "cell_type": "code",
   "execution_count": 7,
   "metadata": {},
   "outputs": [
    {
     "name": "stdout",
     "output_type": "stream",
     "text": [
      "Epoch 0, training mse: 1.4119780040804284\n",
      "Epoch 1, training mse: 1.2740364346541702\n",
      "Epoch 2, training mse: 1.1768367680365022\n",
      "Epoch 3, training mse: 1.1008816071088952\n",
      "Epoch 4, training mse: 1.038459283023134\n",
      "Epoch 5, training mse: 0.9853678007011002\n",
      "Epoch 6, training mse: 0.9390255460627237\n",
      "Epoch 7, training mse: 0.897730713521161\n",
      "Epoch 8, training mse: 0.8603080494714159\n",
      "Epoch 9, training mse: 0.8259143534141451\n",
      "Epoch 10, training mse: 0.7939269136788257\n",
      "Epoch 11, training mse: 0.76387606814935\n",
      "Epoch 12, training mse: 0.7354008784978711\n",
      "Epoch 13, training mse: 0.7082219995909327\n",
      "Epoch 14, training mse: 0.6821218132627246\n",
      "Epoch 15, training mse: 0.6569314691834406\n",
      "Epoch 16, training mse: 0.6325209451731799\n",
      "Epoch 17, training mse: 0.608791973494372\n",
      "Epoch 18, training mse: 0.5856722644906754\n",
      "Epoch 19, training mse: 0.5631111075209523\n"
     ]
    },
    {
     "data": {
      "text/plain": [
       "1.1661065135510786"
      ]
     },
     "execution_count": 7,
     "metadata": {},
     "output_type": "execute_result"
    }
   ],
   "source": [
    "svd = CustomSVD(train_sample, 'reviewerID', 'movieID', 'overall')\n",
    "svd.train(n_epochs=20, learning_rate=0.005, regularization_parameter=0.02)\n",
    "predictions = svd.predict(test_sample)\n",
    "mean_squared_error(test_sample['overall'].to_numpy(),predictions)"
   ]
  },
  {
   "cell_type": "code",
   "execution_count": 8,
   "metadata": {},
   "outputs": [
    {
     "name": "stdout",
     "output_type": "stream",
     "text": [
      "Epoch 0, training mse: 1.4029634836930367\n",
      "Epoch 1, training mse: 1.2915883971866933\n",
      "Epoch 2, training mse: 1.2168885694609868\n",
      "Epoch 3, training mse: 1.1609886058854417\n",
      "Epoch 4, training mse: 1.1170039418305604\n",
      "Epoch 5, training mse: 1.0812423608511894\n",
      "Epoch 6, training mse: 1.0514568151279997\n",
      "Epoch 7, training mse: 1.02618150194233\n",
      "Epoch 8, training mse: 1.004414105000013\n",
      "Epoch 9, training mse: 0.9854425438027135\n",
      "Epoch 10, training mse: 0.9687437999251627\n",
      "Epoch 11, training mse: 0.9539217547416774\n",
      "Epoch 12, training mse: 0.9406718740505935\n",
      "Epoch 13, training mse: 0.928754379117605\n",
      "Epoch 14, training mse: 0.9179791341826377\n",
      "Epoch 15, training mse: 0.9081912325828618\n",
      "Epoch 16, training mse: 0.8992641899574788\n",
      "Epoch 17, training mse: 0.8910923677490135\n",
      "Epoch 18, training mse: 0.8835871544264196\n",
      "Epoch 19, training mse: 0.8766733527786923\n"
     ]
    },
    {
     "data": {
      "text/plain": [
       "1.151145451787785"
      ]
     },
     "execution_count": 8,
     "metadata": {},
     "output_type": "execute_result"
    }
   ],
   "source": [
    "svd = Hypothesis1(train_sample, 'reviewerID', 'movieID', 'overall','STC')\n",
    "svd.train(n_epochs=20, learning_rate=0.005, regularization_parameter=0.02)\n",
    "predictions = svd.predict(test_sample)\n",
    "mean_squared_error(test_sample['overall'].to_numpy(),predictions)"
   ]
  },
  {
   "cell_type": "code",
   "execution_count": null,
   "metadata": {},
   "outputs": [],
   "source": []
  },
  {
   "cell_type": "code",
   "execution_count": null,
   "metadata": {},
   "outputs": [],
   "source": [
    "mean_squared_error(test_sample['overall'].to_numpy(),predictions)"
   ]
  },
  {
   "cell_type": "code",
   "execution_count": null,
   "metadata": {},
   "outputs": [],
   "source": [
    "h1 = Hypothesis1(train_sample, 'reviewerID', 'movieID', 'overall', 'STC')"
   ]
  },
  {
   "cell_type": "code",
   "execution_count": null,
   "metadata": {},
   "outputs": [],
   "source": [
    "h1.train()"
   ]
  },
  {
   "cell_type": "code",
   "execution_count": null,
   "metadata": {},
   "outputs": [],
   "source": [
    "predictions_h1 = h1.predict(test_sample)"
   ]
  },
  {
   "cell_type": "code",
   "execution_count": null,
   "metadata": {},
   "outputs": [],
   "source": [
    "mean_squared_error(test_sample['overall'],predictions_h1)"
   ]
  },
  {
   "cell_type": "code",
   "execution_count": null,
   "metadata": {},
   "outputs": [],
   "source": []
  },
  {
   "cell_type": "code",
   "execution_count": null,
   "metadata": {},
   "outputs": [],
   "source": []
  },
  {
   "cell_type": "code",
   "execution_count": 9,
   "metadata": {},
   "outputs": [],
   "source": [
    "'''\n",
    "from surprise import Dataset\n",
    "from surprise import Reader\n",
    "from surprise import accuracy\n",
    "from surprise.model_selection import train_test_split\n",
    "from surprise.model_selection import cross_validate\n",
    "from surprise import SVD'''"
   ]
  },
  {
   "cell_type": "code",
   "execution_count": 10,
   "metadata": {},
   "outputs": [
    {
     "name": "stdout",
     "output_type": "stream",
     "text": [
      "MSE: 1.1736\n"
     ]
    },
    {
     "data": {
      "text/plain": [
       "1.1735943646079383"
      ]
     },
     "execution_count": 10,
     "metadata": {},
     "output_type": "execute_result"
    }
   ],
   "source": [
    "'''\n",
    "reader = Reader(rating_scale=(1, 5))\n",
    "# Loads Pandas dataframe\n",
    "train_data = Dataset.load_from_df(train_sample[[\"reviewerID\", \"movieID\", \"overall\"]], reader)\n",
    "trainset = train_data.build_full_trainset()\n",
    "\n",
    "algo3 = SVD(biased=True, random_state=42)\n",
    "algo3.fit(trainset)\n",
    "\n",
    "test_data = Dataset.load_from_df(test_sample[['reviewerID','movieID','overall']], reader)\n",
    "NA, test = train_test_split(test_data, test_size=1.0)\n",
    "predictions3 = algo3.test(test)\n",
    "accuracy.mse(predictions3)'''"
   ]
  },
  {
   "cell_type": "code",
   "execution_count": null,
   "metadata": {},
   "outputs": [],
   "source": []
  }
 ],
 "metadata": {
  "kernelspec": {
   "display_name": "Python 3",
   "language": "python",
   "name": "python3"
  },
  "language_info": {
   "codemirror_mode": {
    "name": "ipython",
    "version": 3
   },
   "file_extension": ".py",
   "mimetype": "text/x-python",
   "name": "python",
   "nbconvert_exporter": "python",
   "pygments_lexer": "ipython3",
   "version": "3.6.10"
  }
 },
 "nbformat": 4,
 "nbformat_minor": 4
}
