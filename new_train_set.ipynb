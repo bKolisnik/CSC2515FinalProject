{
 "metadata": {
  "language_info": {
   "codemirror_mode": {
    "name": "ipython",
    "version": 3
   },
   "file_extension": ".py",
   "mimetype": "text/x-python",
   "name": "python",
   "nbconvert_exporter": "python",
   "pygments_lexer": "ipython3",
   "version": "3.8.5-final"
  },
  "orig_nbformat": 2,
  "kernelspec": {
   "name": "python3",
   "display_name": "Python 3"
  }
 },
 "nbformat": 4,
 "nbformat_minor": 2,
 "cells": [
  {
   "cell_type": "code",
   "execution_count": 1,
   "metadata": {},
   "outputs": [],
   "source": [
    "import pandas as pd\n",
    "import numpy as np\n",
    "import gzip\n",
    "import json"
   ]
  },
  {
   "cell_type": "code",
   "execution_count": 6,
   "metadata": {},
   "outputs": [],
   "source": [
    "def parse(path, num_rows):\n",
    "  g = gzip.open(path, 'rb')\n",
    "  i = 0\n",
    "  for l in g:\n",
    "    yield json.loads(l)\n",
    "    i += 1\n",
    "    if i == num_rows:\n",
    "      break\n",
    "\n",
    "def getDF(path, num_rows):\n",
    "  i = 0\n",
    "  df = {}\n",
    "  for d in parse(path, num_rows):\n",
    "    df[i] = d\n",
    "    i += 1\n",
    "  return pd.DataFrame.from_dict(df, orient='index')\n",
    "\n",
    "#num_rows = 50000\n",
    "df = getDF('./data/reviews_Movies_and_TV_5.json.gz', 2000000)"
   ]
  },
  {
   "cell_type": "code",
   "execution_count": 7,
   "metadata": {},
   "outputs": [],
   "source": [
    "df['reviewText'] = df['reviewText'].str.replace('\"','')\n",
    "df['summary'] = df['summary'].str.replace('\"','')"
   ]
  },
  {
   "cell_type": "code",
   "execution_count": 8,
   "metadata": {},
   "outputs": [],
   "source": [
    "df = df.rename(columns={'asin':'movieID'})"
   ]
  },
  {
   "cell_type": "code",
   "execution_count": 9,
   "metadata": {},
   "outputs": [
    {
     "output_type": "execute_result",
     "data": {
      "text/plain": [
       "A3LZGLA88K0LA0    2368\n",
       "A16CZRQL23NOIW    2333\n",
       "ANCOMAI0I7LVG     2322\n",
       "ABO2ZI2Y5DQ9T     2301\n",
       "A328S9RN3U5M68    2267\n",
       "                  ... \n",
       "A3O5LOR74EPN53       5\n",
       "A33CZ0M2GF9C7L       5\n",
       "A14XAK6LATEGCJ       5\n",
       "A27JVNK885JP43       5\n",
       "A1ZC83XEZ7BERW       5\n",
       "Name: reviewerID, Length: 123960, dtype: int64"
      ]
     },
     "metadata": {},
     "execution_count": 9
    }
   ],
   "source": [
    "df.reviewerID.value_counts()"
   ]
  },
  {
   "cell_type": "code",
   "execution_count": 10,
   "metadata": {},
   "outputs": [
    {
     "output_type": "execute_result",
     "data": {
      "text/plain": [
       "             reviewerID     movieID                         reviewerName  \\\n",
       "0         ADZPIG9QOCDG5  0005019281  Alice L. Larson \"alice-loves-books\"   \n",
       "1        A35947ZP82G7JH  0005019281                        Amarah Strack   \n",
       "2        A3UORV8A9D5L2E  0005019281                      Amazon Customer   \n",
       "3        A1VKW06X1O2X7V  0005019281           Amazon Customer \"Softmill\"   \n",
       "4        A3R27T4HADWFFJ  0005019281                                 BABE   \n",
       "...                 ...         ...                                  ...   \n",
       "1697528   AV657BUYHHXZ2  B00LT1JHLW                    Mike Rules \"Mike\"   \n",
       "1697529  A17W587EH23J0Q  B00LT1JHLW                        Ron2900 \"Ron\"   \n",
       "1697530  A3DE438TF1A958  B00LT1JHLW                         thomas henry   \n",
       "1697531  A2RWCXDMANY0LW  B00LT1JHLW                                wheev   \n",
       "1697532  A3ROPC55BE2OM9  B00LT1JHLW                               WingLT   \n",
       "\n",
       "          helpful                                         reviewText  overall  \\\n",
       "0          [0, 0]  This is a charming version of the classic Dick...      4.0   \n",
       "1          [0, 0]  It was good but not as emotionally moving as t...      3.0   \n",
       "2          [0, 0]  Don't get me wrong, Winkler is a wonderful cha...      3.0   \n",
       "3          [0, 0]  Henry Winkler is very good in this twist on th...      5.0   \n",
       "4          [0, 0]  This is one of the best Scrooge movies out.  H...      4.0   \n",
       "...           ...                                                ...      ...   \n",
       "1697528   [1, 14]  wow $269.99 for the entire series on Blu Ray??...      1.0   \n",
       "1697529  [32, 48]  Finally, the holy grail of tv-on-dvd boxsets i...      5.0   \n",
       "1697530   [3, 10]  Could this be a true or I'm i dreaming batman ...      5.0   \n",
       "1697531    [0, 4]  I've been a fan of the series since I was a yo...      5.0   \n",
       "1697532  [11, 23]  People seriously need to wake up and realize t...      5.0   \n",
       "\n",
       "                                                   summary  unixReviewTime  \\\n",
       "0                                good version of a classic      1203984000   \n",
       "1                                   Good but not as moving      1388361600   \n",
       "2                    Winkler's Performance was ok at best!      1388361600   \n",
       "3             It's an enjoyable twist on the classic story      1202860800   \n",
       "4                                         Best Scrooge yet      1387670400   \n",
       "...                                                    ...             ...   \n",
       "1697528                      Way to Expensive!! WB = GREED      1406073600   \n",
       "1697529  HOLY BAT-BOXSET, BATMAN... I never thought thi...      1405641600   \n",
       "1697530  prayers have been answered because batman 60s ...      1405728000   \n",
       "1697531                                        can't Wait!      1405987200   \n",
       "1697532  The Price is Insane? People Really Need to Wak...      1405728000   \n",
       "\n",
       "          reviewTime  \n",
       "0        02 26, 2008  \n",
       "1        12 30, 2013  \n",
       "2        12 30, 2013  \n",
       "3        02 13, 2008  \n",
       "4        12 22, 2013  \n",
       "...              ...  \n",
       "1697528  07 23, 2014  \n",
       "1697529  07 18, 2014  \n",
       "1697530  07 19, 2014  \n",
       "1697531  07 22, 2014  \n",
       "1697532  07 19, 2014  \n",
       "\n",
       "[1697533 rows x 9 columns]"
      ],
      "text/html": "<div>\n<style scoped>\n    .dataframe tbody tr th:only-of-type {\n        vertical-align: middle;\n    }\n\n    .dataframe tbody tr th {\n        vertical-align: top;\n    }\n\n    .dataframe thead th {\n        text-align: right;\n    }\n</style>\n<table border=\"1\" class=\"dataframe\">\n  <thead>\n    <tr style=\"text-align: right;\">\n      <th></th>\n      <th>reviewerID</th>\n      <th>movieID</th>\n      <th>reviewerName</th>\n      <th>helpful</th>\n      <th>reviewText</th>\n      <th>overall</th>\n      <th>summary</th>\n      <th>unixReviewTime</th>\n      <th>reviewTime</th>\n    </tr>\n  </thead>\n  <tbody>\n    <tr>\n      <th>0</th>\n      <td>ADZPIG9QOCDG5</td>\n      <td>0005019281</td>\n      <td>Alice L. Larson \"alice-loves-books\"</td>\n      <td>[0, 0]</td>\n      <td>This is a charming version of the classic Dick...</td>\n      <td>4.0</td>\n      <td>good version of a classic</td>\n      <td>1203984000</td>\n      <td>02 26, 2008</td>\n    </tr>\n    <tr>\n      <th>1</th>\n      <td>A35947ZP82G7JH</td>\n      <td>0005019281</td>\n      <td>Amarah Strack</td>\n      <td>[0, 0]</td>\n      <td>It was good but not as emotionally moving as t...</td>\n      <td>3.0</td>\n      <td>Good but not as moving</td>\n      <td>1388361600</td>\n      <td>12 30, 2013</td>\n    </tr>\n    <tr>\n      <th>2</th>\n      <td>A3UORV8A9D5L2E</td>\n      <td>0005019281</td>\n      <td>Amazon Customer</td>\n      <td>[0, 0]</td>\n      <td>Don't get me wrong, Winkler is a wonderful cha...</td>\n      <td>3.0</td>\n      <td>Winkler's Performance was ok at best!</td>\n      <td>1388361600</td>\n      <td>12 30, 2013</td>\n    </tr>\n    <tr>\n      <th>3</th>\n      <td>A1VKW06X1O2X7V</td>\n      <td>0005019281</td>\n      <td>Amazon Customer \"Softmill\"</td>\n      <td>[0, 0]</td>\n      <td>Henry Winkler is very good in this twist on th...</td>\n      <td>5.0</td>\n      <td>It's an enjoyable twist on the classic story</td>\n      <td>1202860800</td>\n      <td>02 13, 2008</td>\n    </tr>\n    <tr>\n      <th>4</th>\n      <td>A3R27T4HADWFFJ</td>\n      <td>0005019281</td>\n      <td>BABE</td>\n      <td>[0, 0]</td>\n      <td>This is one of the best Scrooge movies out.  H...</td>\n      <td>4.0</td>\n      <td>Best Scrooge yet</td>\n      <td>1387670400</td>\n      <td>12 22, 2013</td>\n    </tr>\n    <tr>\n      <th>...</th>\n      <td>...</td>\n      <td>...</td>\n      <td>...</td>\n      <td>...</td>\n      <td>...</td>\n      <td>...</td>\n      <td>...</td>\n      <td>...</td>\n      <td>...</td>\n    </tr>\n    <tr>\n      <th>1697528</th>\n      <td>AV657BUYHHXZ2</td>\n      <td>B00LT1JHLW</td>\n      <td>Mike Rules \"Mike\"</td>\n      <td>[1, 14]</td>\n      <td>wow $269.99 for the entire series on Blu Ray??...</td>\n      <td>1.0</td>\n      <td>Way to Expensive!! WB = GREED</td>\n      <td>1406073600</td>\n      <td>07 23, 2014</td>\n    </tr>\n    <tr>\n      <th>1697529</th>\n      <td>A17W587EH23J0Q</td>\n      <td>B00LT1JHLW</td>\n      <td>Ron2900 \"Ron\"</td>\n      <td>[32, 48]</td>\n      <td>Finally, the holy grail of tv-on-dvd boxsets i...</td>\n      <td>5.0</td>\n      <td>HOLY BAT-BOXSET, BATMAN... I never thought thi...</td>\n      <td>1405641600</td>\n      <td>07 18, 2014</td>\n    </tr>\n    <tr>\n      <th>1697530</th>\n      <td>A3DE438TF1A958</td>\n      <td>B00LT1JHLW</td>\n      <td>thomas henry</td>\n      <td>[3, 10]</td>\n      <td>Could this be a true or I'm i dreaming batman ...</td>\n      <td>5.0</td>\n      <td>prayers have been answered because batman 60s ...</td>\n      <td>1405728000</td>\n      <td>07 19, 2014</td>\n    </tr>\n    <tr>\n      <th>1697531</th>\n      <td>A2RWCXDMANY0LW</td>\n      <td>B00LT1JHLW</td>\n      <td>wheev</td>\n      <td>[0, 4]</td>\n      <td>I've been a fan of the series since I was a yo...</td>\n      <td>5.0</td>\n      <td>can't Wait!</td>\n      <td>1405987200</td>\n      <td>07 22, 2014</td>\n    </tr>\n    <tr>\n      <th>1697532</th>\n      <td>A3ROPC55BE2OM9</td>\n      <td>B00LT1JHLW</td>\n      <td>WingLT</td>\n      <td>[11, 23]</td>\n      <td>People seriously need to wake up and realize t...</td>\n      <td>5.0</td>\n      <td>The Price is Insane? People Really Need to Wak...</td>\n      <td>1405728000</td>\n      <td>07 19, 2014</td>\n    </tr>\n  </tbody>\n</table>\n<p>1697533 rows × 9 columns</p>\n</div>"
     },
     "metadata": {},
     "execution_count": 10
    }
   ],
   "source": [
    "df"
   ]
  },
  {
   "cell_type": "code",
   "execution_count": 11,
   "metadata": {},
   "outputs": [
    {
     "output_type": "stream",
     "name": "stdout",
     "text": [
      "<class 'pandas.core.frame.DataFrame'>\nInt64Index: 1697533 entries, 0 to 1697532\nData columns (total 9 columns):\n #   Column          Dtype  \n---  ------          -----  \n 0   reviewerID      object \n 1   movieID         object \n 2   reviewerName    object \n 3   helpful         object \n 4   reviewText      object \n 5   overall         float64\n 6   summary         object \n 7   unixReviewTime  int64  \n 8   reviewTime      object \ndtypes: float64(1), int64(1), object(7)\nmemory usage: 129.5+ MB\n"
     ]
    }
   ],
   "source": [
    "df.info()"
   ]
  },
  {
   "cell_type": "code",
   "execution_count": 12,
   "metadata": {},
   "outputs": [],
   "source": [
    "df = df.sort_values(by='unixReviewTime')"
   ]
  },
  {
   "cell_type": "code",
   "execution_count": 13,
   "metadata": {},
   "outputs": [],
   "source": [
    "split_time = 1300000000\n",
    "df_split = df[df['unixReviewTime'] < split_time] "
   ]
  },
  {
   "cell_type": "code",
   "execution_count": 14,
   "metadata": {},
   "outputs": [
    {
     "output_type": "execute_result",
     "data": {
      "text/plain": [
       "826627"
      ]
     },
     "metadata": {},
     "execution_count": 14
    }
   ],
   "source": [
    "len(df_split)"
   ]
  },
  {
   "cell_type": "code",
   "execution_count": 51,
   "metadata": {},
   "outputs": [],
   "source": [
    "train_df = df_split.sample(200000)"
   ]
  },
  {
   "cell_type": "code",
   "execution_count": 52,
   "metadata": {},
   "outputs": [],
   "source": [
    "test_df = df[df['unixReviewTime'] > split_time] "
   ]
  },
  {
   "cell_type": "code",
   "execution_count": 53,
   "metadata": {},
   "outputs": [
    {
     "output_type": "execute_result",
     "data": {
      "text/plain": [
       "870906"
      ]
     },
     "metadata": {},
     "execution_count": 53
    }
   ],
   "source": [
    "len(test_df)"
   ]
  },
  {
   "cell_type": "code",
   "execution_count": 54,
   "metadata": {},
   "outputs": [
    {
     "output_type": "execute_result",
     "data": {
      "text/plain": [
       "A16CZRQL23NOIW    489\n",
       "A2NJO6YE954DBH    478\n",
       "A3LZGLA88K0LA0    445\n",
       "ABO2ZI2Y5DQ9T     422\n",
       "A2EDZH51XHFA9B    409\n",
       "                 ... \n",
       "A2Z4XQNJR40SSP      1\n",
       "A244NKEE6EBXB2      1\n",
       "ANUSBCN463G1M       1\n",
       "A39476Z41H9VK3      1\n",
       "A3KJS0TGYIX2O1      1\n",
       "Name: reviewerID, Length: 47714, dtype: int64"
      ]
     },
     "metadata": {},
     "execution_count": 54
    }
   ],
   "source": [
    "train_df.reviewerID.value_counts()"
   ]
  },
  {
   "cell_type": "code",
   "execution_count": 55,
   "metadata": {},
   "outputs": [],
   "source": [
    "train_df = train_df.groupby(['reviewerID']).filter(lambda x: len(x) >= 5)"
   ]
  },
  {
   "cell_type": "code",
   "execution_count": 63,
   "metadata": {},
   "outputs": [
    {
     "output_type": "execute_result",
     "data": {
      "text/plain": [
       "126349"
      ]
     },
     "metadata": {},
     "execution_count": 63
    }
   ],
   "source": [
    "len(train_df)"
   ]
  },
  {
   "cell_type": "code",
   "execution_count": 57,
   "metadata": {},
   "outputs": [],
   "source": [
    "train_reviewers = train_df.reviewerID.unique()"
   ]
  },
  {
   "cell_type": "code",
   "execution_count": 58,
   "metadata": {},
   "outputs": [],
   "source": [
    "test_df = test_df[test_df.reviewerID.isin(train_reviewers)]"
   ]
  },
  {
   "cell_type": "code",
   "execution_count": 59,
   "metadata": {},
   "outputs": [
    {
     "output_type": "execute_result",
     "data": {
      "text/plain": [
       "AV6QDP8Q0ONK4     1660\n",
       "ANCOMAI0I7LVG     1007\n",
       "A29TKSIWA3JKF3     842\n",
       "A1XT8AJB7S9JJG     835\n",
       "A27H9DOUGY9FOS     754\n",
       "                  ... \n",
       "ATSQHC64IC8JI        1\n",
       "AI0PV0FQLGEAY        1\n",
       "A7YJTD4YOV9GN        1\n",
       "A2QWXHB5IU8LCU       1\n",
       "A2VSTCKMUB46LL       1\n",
       "Name: reviewerID, Length: 4098, dtype: int64"
      ]
     },
     "metadata": {},
     "execution_count": 59
    }
   ],
   "source": [
    "test_df.reviewerID.value_counts()"
   ]
  },
  {
   "cell_type": "code",
   "execution_count": 60,
   "metadata": {},
   "outputs": [
    {
     "output_type": "execute_result",
     "data": {
      "text/plain": [
       "27828"
      ]
     },
     "metadata": {},
     "execution_count": 60
    }
   ],
   "source": [
    "train_movies = train_df.movieID.unique()\n",
    "len(train_movies)"
   ]
  },
  {
   "cell_type": "code",
   "execution_count": 61,
   "metadata": {},
   "outputs": [],
   "source": [
    "test_df = test_df[test_df.movieID.isin(train_movies)]"
   ]
  },
  {
   "cell_type": "code",
   "execution_count": 64,
   "metadata": {},
   "outputs": [
    {
     "output_type": "execute_result",
     "data": {
      "text/plain": [
       "44356"
      ]
     },
     "metadata": {},
     "execution_count": 64
    }
   ],
   "source": [
    "len(test_df)"
   ]
  },
  {
   "cell_type": "code",
   "execution_count": 65,
   "metadata": {},
   "outputs": [],
   "source": [
    "train_sample = train_df[['reviewerID','movieID','reviewText','summary','overall']]\n",
    "test_sample = test_df[['reviewerID','movieID','reviewText','summary','overall']]"
   ]
  },
  {
   "cell_type": "code",
   "execution_count": 69,
   "metadata": {},
   "outputs": [],
   "source": [
    "train_sample['reviewText'] = train_sample['reviewText'].str.replace('\"','')\n",
    "train_sample['summary'] = train_sample['summary'].str.replace('\"','')"
   ]
  },
  {
   "cell_type": "code",
   "execution_count": 70,
   "metadata": {},
   "outputs": [],
   "source": [
    "test_sample['reviewText'] = test_sample['reviewText'].str.replace('\"','')\n",
    "test_sample['summary'] = test_sample['summary'].str.replace('\"','')"
   ]
  },
  {
   "cell_type": "code",
   "execution_count": 71,
   "metadata": {},
   "outputs": [],
   "source": [
    "train_sample.to_pickle('./preprocessed/collaborative_input/new_train_sample.pkl', protocol = 4)\n",
    "train_sample[['reviewText']].to_csv('./preprocessed/bert_input/new_train_sample.csv')"
   ]
  },
  {
   "cell_type": "code",
   "execution_count": 72,
   "metadata": {},
   "outputs": [],
   "source": [
    "test_sample.to_pickle('./preprocessed/collaborative_input/new_test_sample.pkl', protocol = 4)\n",
    "test_sample[['reviewText']].to_csv('./preprocessed/bert_input/new_test_sample.csv')"
   ]
  },
  {
   "cell_type": "code",
   "execution_count": 73,
   "metadata": {},
   "outputs": [
    {
     "output_type": "execute_result",
     "data": {
      "text/plain": [
       "             reviewerID     movieID  \\\n",
       "1404443  A2PR6NXG0PA3KY  B004EQAVA0   \n",
       "34113     AZ2YLC0GWTAH2  0780625390   \n",
       "432444   A2GPN2VKS8E77C  6304696515   \n",
       "1390010  A3A4ZAIBQWKOZS  B0049P1VHS   \n",
       "1405314  A1YLX64YW58CVL  B004FUKLK0   \n",
       "...                 ...         ...   \n",
       "16085    A3GGMPRYCQ87CY  0767821513   \n",
       "469248    A6VFFRIHAXKRL  6305565724   \n",
       "876721   A3MV1KKHX51FYT  B00074DY16   \n",
       "1108225   AQ01Q3070LT29  B000WC39KO   \n",
       "1194186   AYZV1PJP6NXPT  B001GCUNYO   \n",
       "\n",
       "                                                reviewText  \\\n",
       "1404443  ... about this film, or some profound objectio...   \n",
       "34113    Thanks to a friend of mine finally cleaning ou...   \n",
       "432444   This adaptation of the novel Les Liaisons Dang...   \n",
       "1390010  T obe clear, this is a review ofThe Walking De...   \n",
       "1405314  Really, what more could you ask for? The Les P...   \n",
       "...                                                    ...   \n",
       "16085    I watched this over the weekend. I remember ha...   \n",
       "469248   Hello out there & welcome to this, this is a r...   \n",
       "876721   Return to Peyton Place, 1961 filmAllison MacKe...   \n",
       "1108225  American Pie Presents: Beta House (2007). Unra...   \n",
       "1194186  Liam Neeson has a way of speaking his lines an...   \n",
       "\n",
       "                                                   summary  overall  \n",
       "1404443          I Wish I Had Something Witty to Write ...      4.0  \n",
       "34113                           The Debut Year Of The Man!      5.0  \n",
       "432444   Sex Is Best Used As A Deadly Weapon. Excellent...      5.0  \n",
       "1390010                   Great release for a great series      5.0  \n",
       "1405314                                As Good as it Gets!      5.0  \n",
       "...                                                    ...      ...  \n",
       "16085                                           Pretty Bad      2.0  \n",
       "469248                 WWF Fully Loaded 1999 review 8.5/10      4.0  \n",
       "876721                            Publicizing a Small Town      4.0  \n",
       "1108225      Education or a beta way of life? Lots of sex.      3.0  \n",
       "1194186                   Good Action but that's about it.      2.0  \n",
       "\n",
       "[44356 rows x 5 columns]"
      ],
      "text/html": "<div>\n<style scoped>\n    .dataframe tbody tr th:only-of-type {\n        vertical-align: middle;\n    }\n\n    .dataframe tbody tr th {\n        vertical-align: top;\n    }\n\n    .dataframe thead th {\n        text-align: right;\n    }\n</style>\n<table border=\"1\" class=\"dataframe\">\n  <thead>\n    <tr style=\"text-align: right;\">\n      <th></th>\n      <th>reviewerID</th>\n      <th>movieID</th>\n      <th>reviewText</th>\n      <th>summary</th>\n      <th>overall</th>\n    </tr>\n  </thead>\n  <tbody>\n    <tr>\n      <th>1404443</th>\n      <td>A2PR6NXG0PA3KY</td>\n      <td>B004EQAVA0</td>\n      <td>... about this film, or some profound objectio...</td>\n      <td>I Wish I Had Something Witty to Write ...</td>\n      <td>4.0</td>\n    </tr>\n    <tr>\n      <th>34113</th>\n      <td>AZ2YLC0GWTAH2</td>\n      <td>0780625390</td>\n      <td>Thanks to a friend of mine finally cleaning ou...</td>\n      <td>The Debut Year Of The Man!</td>\n      <td>5.0</td>\n    </tr>\n    <tr>\n      <th>432444</th>\n      <td>A2GPN2VKS8E77C</td>\n      <td>6304696515</td>\n      <td>This adaptation of the novel Les Liaisons Dang...</td>\n      <td>Sex Is Best Used As A Deadly Weapon. Excellent...</td>\n      <td>5.0</td>\n    </tr>\n    <tr>\n      <th>1390010</th>\n      <td>A3A4ZAIBQWKOZS</td>\n      <td>B0049P1VHS</td>\n      <td>T obe clear, this is a review ofThe Walking De...</td>\n      <td>Great release for a great series</td>\n      <td>5.0</td>\n    </tr>\n    <tr>\n      <th>1405314</th>\n      <td>A1YLX64YW58CVL</td>\n      <td>B004FUKLK0</td>\n      <td>Really, what more could you ask for? The Les P...</td>\n      <td>As Good as it Gets!</td>\n      <td>5.0</td>\n    </tr>\n    <tr>\n      <th>...</th>\n      <td>...</td>\n      <td>...</td>\n      <td>...</td>\n      <td>...</td>\n      <td>...</td>\n    </tr>\n    <tr>\n      <th>16085</th>\n      <td>A3GGMPRYCQ87CY</td>\n      <td>0767821513</td>\n      <td>I watched this over the weekend. I remember ha...</td>\n      <td>Pretty Bad</td>\n      <td>2.0</td>\n    </tr>\n    <tr>\n      <th>469248</th>\n      <td>A6VFFRIHAXKRL</td>\n      <td>6305565724</td>\n      <td>Hello out there &amp; welcome to this, this is a r...</td>\n      <td>WWF Fully Loaded 1999 review 8.5/10</td>\n      <td>4.0</td>\n    </tr>\n    <tr>\n      <th>876721</th>\n      <td>A3MV1KKHX51FYT</td>\n      <td>B00074DY16</td>\n      <td>Return to Peyton Place, 1961 filmAllison MacKe...</td>\n      <td>Publicizing a Small Town</td>\n      <td>4.0</td>\n    </tr>\n    <tr>\n      <th>1108225</th>\n      <td>AQ01Q3070LT29</td>\n      <td>B000WC39KO</td>\n      <td>American Pie Presents: Beta House (2007). Unra...</td>\n      <td>Education or a beta way of life? Lots of sex.</td>\n      <td>3.0</td>\n    </tr>\n    <tr>\n      <th>1194186</th>\n      <td>AYZV1PJP6NXPT</td>\n      <td>B001GCUNYO</td>\n      <td>Liam Neeson has a way of speaking his lines an...</td>\n      <td>Good Action but that's about it.</td>\n      <td>2.0</td>\n    </tr>\n  </tbody>\n</table>\n<p>44356 rows × 5 columns</p>\n</div>"
     },
     "metadata": {},
     "execution_count": 73
    }
   ],
   "source": [
    "test_sample"
   ]
  },
  {
   "cell_type": "code",
   "execution_count": 74,
   "metadata": {},
   "outputs": [
    {
     "output_type": "execute_result",
     "data": {
      "text/plain": [
       "             reviewerID     movieID  \\\n",
       "710147   A153MVFR0FTI6O  B00006AUH9   \n",
       "56502     A4Z72X5C24X2K  0783226799   \n",
       "544971   A2LCGB0APDZM65  B00003ETQN   \n",
       "832687   A1PPIFR51T81IK  B0002F6BI8   \n",
       "171209    AMBFK6N4JS5Z2  1415724784   \n",
       "...                 ...         ...   \n",
       "1036027  A1IWWRZJOXOSYP  B000KX0HH8   \n",
       "460229   A26BWRBPP4V2WF  6305326940   \n",
       "1095518   A8SCX6VUTE05H  B000UNYJWM   \n",
       "783497   A18758S1PUYIDT  B0000TPA6K   \n",
       "209848   A2NQUGGYM0DBM1  6300213978   \n",
       "\n",
       "                                                reviewText  \\\n",
       "710147   With all of the BORING shows on TV which could...   \n",
       "56502           A classic but demand a widescreen version.   \n",
       "544971   Loved it!  All the great sexy videos on a sing...   \n",
       "832687   I have long supported the B category film noir...   \n",
       "171209   This video made me believe in Global Warning.U...   \n",
       "...                                                    ...   \n",
       "1036027  This film promised lots of action.  It deliver...   \n",
       "460229   I know there is a generation of kids out there...   \n",
       "1095518  Hmmmm, this movie looks very familiar. It rese...   \n",
       "783497   This is not your typical teen angst show, thou...   \n",
       "209848   Sometimes timing is everything for a movie.  O...   \n",
       "\n",
       "                                                   summary  overall  \n",
       "710147   NBC (among others), pay attention to what real...      5.0  \n",
       "56502                      Where's the widescreen version?      5.0  \n",
       "544971       Well worth it (with a few MINOR reservations)      5.0  \n",
       "832687                                      One Great Film      4.0  \n",
       "171209             I used to believe it, now I'm not sure.      3.0  \n",
       "...                                                    ...      ...  \n",
       "1036027                                    Trail of Bodies      3.0  \n",
       "460229   A great DVD edition of one of Pixar's lesser o...      3.0  \n",
       "1095518                             Who's your Caddyshack?      1.0  \n",
       "783497   Humor and adventure mixed with angst and struggle      5.0  \n",
       "209848   Does fall short as a Sequel, but it's still To...      4.0  \n",
       "\n",
       "[126349 rows x 5 columns]"
      ],
      "text/html": "<div>\n<style scoped>\n    .dataframe tbody tr th:only-of-type {\n        vertical-align: middle;\n    }\n\n    .dataframe tbody tr th {\n        vertical-align: top;\n    }\n\n    .dataframe thead th {\n        text-align: right;\n    }\n</style>\n<table border=\"1\" class=\"dataframe\">\n  <thead>\n    <tr style=\"text-align: right;\">\n      <th></th>\n      <th>reviewerID</th>\n      <th>movieID</th>\n      <th>reviewText</th>\n      <th>summary</th>\n      <th>overall</th>\n    </tr>\n  </thead>\n  <tbody>\n    <tr>\n      <th>710147</th>\n      <td>A153MVFR0FTI6O</td>\n      <td>B00006AUH9</td>\n      <td>With all of the BORING shows on TV which could...</td>\n      <td>NBC (among others), pay attention to what real...</td>\n      <td>5.0</td>\n    </tr>\n    <tr>\n      <th>56502</th>\n      <td>A4Z72X5C24X2K</td>\n      <td>0783226799</td>\n      <td>A classic but demand a widescreen version.</td>\n      <td>Where's the widescreen version?</td>\n      <td>5.0</td>\n    </tr>\n    <tr>\n      <th>544971</th>\n      <td>A2LCGB0APDZM65</td>\n      <td>B00003ETQN</td>\n      <td>Loved it!  All the great sexy videos on a sing...</td>\n      <td>Well worth it (with a few MINOR reservations)</td>\n      <td>5.0</td>\n    </tr>\n    <tr>\n      <th>832687</th>\n      <td>A1PPIFR51T81IK</td>\n      <td>B0002F6BI8</td>\n      <td>I have long supported the B category film noir...</td>\n      <td>One Great Film</td>\n      <td>4.0</td>\n    </tr>\n    <tr>\n      <th>171209</th>\n      <td>AMBFK6N4JS5Z2</td>\n      <td>1415724784</td>\n      <td>This video made me believe in Global Warning.U...</td>\n      <td>I used to believe it, now I'm not sure.</td>\n      <td>3.0</td>\n    </tr>\n    <tr>\n      <th>...</th>\n      <td>...</td>\n      <td>...</td>\n      <td>...</td>\n      <td>...</td>\n      <td>...</td>\n    </tr>\n    <tr>\n      <th>1036027</th>\n      <td>A1IWWRZJOXOSYP</td>\n      <td>B000KX0HH8</td>\n      <td>This film promised lots of action.  It deliver...</td>\n      <td>Trail of Bodies</td>\n      <td>3.0</td>\n    </tr>\n    <tr>\n      <th>460229</th>\n      <td>A26BWRBPP4V2WF</td>\n      <td>6305326940</td>\n      <td>I know there is a generation of kids out there...</td>\n      <td>A great DVD edition of one of Pixar's lesser o...</td>\n      <td>3.0</td>\n    </tr>\n    <tr>\n      <th>1095518</th>\n      <td>A8SCX6VUTE05H</td>\n      <td>B000UNYJWM</td>\n      <td>Hmmmm, this movie looks very familiar. It rese...</td>\n      <td>Who's your Caddyshack?</td>\n      <td>1.0</td>\n    </tr>\n    <tr>\n      <th>783497</th>\n      <td>A18758S1PUYIDT</td>\n      <td>B0000TPA6K</td>\n      <td>This is not your typical teen angst show, thou...</td>\n      <td>Humor and adventure mixed with angst and struggle</td>\n      <td>5.0</td>\n    </tr>\n    <tr>\n      <th>209848</th>\n      <td>A2NQUGGYM0DBM1</td>\n      <td>6300213978</td>\n      <td>Sometimes timing is everything for a movie.  O...</td>\n      <td>Does fall short as a Sequel, but it's still To...</td>\n      <td>4.0</td>\n    </tr>\n  </tbody>\n</table>\n<p>126349 rows × 5 columns</p>\n</div>"
     },
     "metadata": {},
     "execution_count": 74
    }
   ],
   "source": [
    "train_sample"
   ]
  },
  {
   "cell_type": "code",
   "execution_count": null,
   "metadata": {},
   "outputs": [],
   "source": []
  }
 ]
}