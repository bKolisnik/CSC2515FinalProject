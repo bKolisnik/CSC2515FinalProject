{
 "metadata": {
  "language_info": {
   "codemirror_mode": {
    "name": "ipython",
    "version": 3
   },
   "file_extension": ".py",
   "mimetype": "text/x-python",
   "name": "python",
   "nbconvert_exporter": "python",
   "pygments_lexer": "ipython3",
   "version": "3.8.5-final"
  },
  "orig_nbformat": 2,
  "kernelspec": {
   "name": "python3",
   "display_name": "Python 3"
  }
 },
 "nbformat": 4,
 "nbformat_minor": 2,
 "cells": [
  {
   "cell_type": "code",
   "execution_count": 1,
   "metadata": {},
   "outputs": [],
   "source": [
    "import pandas as pd\n",
    "import numpy as np\n",
    "import gzip\n",
    "import json"
   ]
  },
  {
   "cell_type": "code",
   "execution_count": 6,
   "metadata": {},
   "outputs": [],
   "source": [
    "def parse(path, num_rows):\n",
    "  g = gzip.open(path, 'rb')\n",
    "  i = 0\n",
    "  for l in g:\n",
    "    yield json.loads(l)\n",
    "    i += 1\n",
    "    if i == num_rows:\n",
    "      break\n",
    "\n",
    "def getDF(path, num_rows):\n",
    "  i = 0\n",
    "  df = {}\n",
    "  for d in parse(path, num_rows):\n",
    "    df[i] = d\n",
    "    i += 1\n",
    "  return pd.DataFrame.from_dict(df, orient='index')\n",
    "\n",
    "#num_rows = 50000\n",
    "df = getDF('./data/reviews_Movies_and_TV_5.json.gz', 2000000)"
   ]
  },
  {
   "cell_type": "code",
   "execution_count": 7,
   "metadata": {},
   "outputs": [],
   "source": [
    "df['reviewText'] = df['reviewText'].str.replace('\"','')\n",
    "df['summary'] = df['summary'].str.replace('\"','')"
   ]
  },
  {
   "cell_type": "code",
   "execution_count": 8,
   "metadata": {},
   "outputs": [],
   "source": [
    "df = df.rename(columns={'asin':'movieID'})"
   ]
  },
  {
   "cell_type": "code",
   "execution_count": 9,
   "metadata": {},
   "outputs": [
    {
     "output_type": "execute_result",
     "data": {
      "text/plain": [
       "A3LZGLA88K0LA0    2368\n",
       "A16CZRQL23NOIW    2333\n",
       "ANCOMAI0I7LVG     2322\n",
       "ABO2ZI2Y5DQ9T     2301\n",
       "A328S9RN3U5M68    2267\n",
       "                  ... \n",
       "A3O5LOR74EPN53       5\n",
       "A33CZ0M2GF9C7L       5\n",
       "A14XAK6LATEGCJ       5\n",
       "A27JVNK885JP43       5\n",
       "A1ZC83XEZ7BERW       5\n",
       "Name: reviewerID, Length: 123960, dtype: int64"
      ]
     },
     "metadata": {},
     "execution_count": 9
    }
   ],
   "source": [
    "df.reviewerID.value_counts()"
   ]
  },
  {
   "cell_type": "code",
   "execution_count": 10,
   "metadata": {},
   "outputs": [
    {
     "output_type": "execute_result",
     "data": {
      "text/plain": [
       "             reviewerID     movieID                         reviewerName  \\\n",
       "0         ADZPIG9QOCDG5  0005019281  Alice L. Larson \"alice-loves-books\"   \n",
       "1        A35947ZP82G7JH  0005019281                        Amarah Strack   \n",
       "2        A3UORV8A9D5L2E  0005019281                      Amazon Customer   \n",
       "3        A1VKW06X1O2X7V  0005019281           Amazon Customer \"Softmill\"   \n",
       "4        A3R27T4HADWFFJ  0005019281                                 BABE   \n",
       "...                 ...         ...                                  ...   \n",
       "1697528   AV657BUYHHXZ2  B00LT1JHLW                    Mike Rules \"Mike\"   \n",
       "1697529  A17W587EH23J0Q  B00LT1JHLW                        Ron2900 \"Ron\"   \n",
       "1697530  A3DE438TF1A958  B00LT1JHLW                         thomas henry   \n",
       "1697531  A2RWCXDMANY0LW  B00LT1JHLW                                wheev   \n",
       "1697532  A3ROPC55BE2OM9  B00LT1JHLW                               WingLT   \n",
       "\n",
       "          helpful                                         reviewText  overall  \\\n",
       "0          [0, 0]  This is a charming version of the classic Dick...      4.0   \n",
       "1          [0, 0]  It was good but not as emotionally moving as t...      3.0   \n",
       "2          [0, 0]  Don't get me wrong, Winkler is a wonderful cha...      3.0   \n",
       "3          [0, 0]  Henry Winkler is very good in this twist on th...      5.0   \n",
       "4          [0, 0]  This is one of the best Scrooge movies out.  H...      4.0   \n",
       "...           ...                                                ...      ...   \n",
       "1697528   [1, 14]  wow $269.99 for the entire series on Blu Ray??...      1.0   \n",
       "1697529  [32, 48]  Finally, the holy grail of tv-on-dvd boxsets i...      5.0   \n",
       "1697530   [3, 10]  Could this be a true or I'm i dreaming batman ...      5.0   \n",
       "1697531    [0, 4]  I've been a fan of the series since I was a yo...      5.0   \n",
       "1697532  [11, 23]  People seriously need to wake up and realize t...      5.0   \n",
       "\n",
       "                                                   summary  unixReviewTime  \\\n",
       "0                                good version of a classic      1203984000   \n",
       "1                                   Good but not as moving      1388361600   \n",
       "2                    Winkler's Performance was ok at best!      1388361600   \n",
       "3             It's an enjoyable twist on the classic story      1202860800   \n",
       "4                                         Best Scrooge yet      1387670400   \n",
       "...                                                    ...             ...   \n",
       "1697528                      Way to Expensive!! WB = GREED      1406073600   \n",
       "1697529  HOLY BAT-BOXSET, BATMAN... I never thought thi...      1405641600   \n",
       "1697530  prayers have been answered because batman 60s ...      1405728000   \n",
       "1697531                                        can't Wait!      1405987200   \n",
       "1697532  The Price is Insane? People Really Need to Wak...      1405728000   \n",
       "\n",
       "          reviewTime  \n",
       "0        02 26, 2008  \n",
       "1        12 30, 2013  \n",
       "2        12 30, 2013  \n",
       "3        02 13, 2008  \n",
       "4        12 22, 2013  \n",
       "...              ...  \n",
       "1697528  07 23, 2014  \n",
       "1697529  07 18, 2014  \n",
       "1697530  07 19, 2014  \n",
       "1697531  07 22, 2014  \n",
       "1697532  07 19, 2014  \n",
       "\n",
       "[1697533 rows x 9 columns]"
      ],
      "text/html": "<div>\n<style scoped>\n    .dataframe tbody tr th:only-of-type {\n        vertical-align: middle;\n    }\n\n    .dataframe tbody tr th {\n        vertical-align: top;\n    }\n\n    .dataframe thead th {\n        text-align: right;\n    }\n</style>\n<table border=\"1\" class=\"dataframe\">\n  <thead>\n    <tr style=\"text-align: right;\">\n      <th></th>\n      <th>reviewerID</th>\n      <th>movieID</th>\n      <th>reviewerName</th>\n      <th>helpful</th>\n      <th>reviewText</th>\n      <th>overall</th>\n      <th>summary</th>\n      <th>unixReviewTime</th>\n      <th>reviewTime</th>\n    </tr>\n  </thead>\n  <tbody>\n    <tr>\n      <th>0</th>\n      <td>ADZPIG9QOCDG5</td>\n      <td>0005019281</td>\n      <td>Alice L. Larson \"alice-loves-books\"</td>\n      <td>[0, 0]</td>\n      <td>This is a charming version of the classic Dick...</td>\n      <td>4.0</td>\n      <td>good version of a classic</td>\n      <td>1203984000</td>\n      <td>02 26, 2008</td>\n    </tr>\n    <tr>\n      <th>1</th>\n      <td>A35947ZP82G7JH</td>\n      <td>0005019281</td>\n      <td>Amarah Strack</td>\n      <td>[0, 0]</td>\n      <td>It was good but not as emotionally moving as t...</td>\n      <td>3.0</td>\n      <td>Good but not as moving</td>\n      <td>1388361600</td>\n      <td>12 30, 2013</td>\n    </tr>\n    <tr>\n      <th>2</th>\n      <td>A3UORV8A9D5L2E</td>\n      <td>0005019281</td>\n      <td>Amazon Customer</td>\n      <td>[0, 0]</td>\n      <td>Don't get me wrong, Winkler is a wonderful cha...</td>\n      <td>3.0</td>\n      <td>Winkler's Performance was ok at best!</td>\n      <td>1388361600</td>\n      <td>12 30, 2013</td>\n    </tr>\n    <tr>\n      <th>3</th>\n      <td>A1VKW06X1O2X7V</td>\n      <td>0005019281</td>\n      <td>Amazon Customer \"Softmill\"</td>\n      <td>[0, 0]</td>\n      <td>Henry Winkler is very good in this twist on th...</td>\n      <td>5.0</td>\n      <td>It's an enjoyable twist on the classic story</td>\n      <td>1202860800</td>\n      <td>02 13, 2008</td>\n    </tr>\n    <tr>\n      <th>4</th>\n      <td>A3R27T4HADWFFJ</td>\n      <td>0005019281</td>\n      <td>BABE</td>\n      <td>[0, 0]</td>\n      <td>This is one of the best Scrooge movies out.  H...</td>\n      <td>4.0</td>\n      <td>Best Scrooge yet</td>\n      <td>1387670400</td>\n      <td>12 22, 2013</td>\n    </tr>\n    <tr>\n      <th>...</th>\n      <td>...</td>\n      <td>...</td>\n      <td>...</td>\n      <td>...</td>\n      <td>...</td>\n      <td>...</td>\n      <td>...</td>\n      <td>...</td>\n      <td>...</td>\n    </tr>\n    <tr>\n      <th>1697528</th>\n      <td>AV657BUYHHXZ2</td>\n      <td>B00LT1JHLW</td>\n      <td>Mike Rules \"Mike\"</td>\n      <td>[1, 14]</td>\n      <td>wow $269.99 for the entire series on Blu Ray??...</td>\n      <td>1.0</td>\n      <td>Way to Expensive!! WB = GREED</td>\n      <td>1406073600</td>\n      <td>07 23, 2014</td>\n    </tr>\n    <tr>\n      <th>1697529</th>\n      <td>A17W587EH23J0Q</td>\n      <td>B00LT1JHLW</td>\n      <td>Ron2900 \"Ron\"</td>\n      <td>[32, 48]</td>\n      <td>Finally, the holy grail of tv-on-dvd boxsets i...</td>\n      <td>5.0</td>\n      <td>HOLY BAT-BOXSET, BATMAN... I never thought thi...</td>\n      <td>1405641600</td>\n      <td>07 18, 2014</td>\n    </tr>\n    <tr>\n      <th>1697530</th>\n      <td>A3DE438TF1A958</td>\n      <td>B00LT1JHLW</td>\n      <td>thomas henry</td>\n      <td>[3, 10]</td>\n      <td>Could this be a true or I'm i dreaming batman ...</td>\n      <td>5.0</td>\n      <td>prayers have been answered because batman 60s ...</td>\n      <td>1405728000</td>\n      <td>07 19, 2014</td>\n    </tr>\n    <tr>\n      <th>1697531</th>\n      <td>A2RWCXDMANY0LW</td>\n      <td>B00LT1JHLW</td>\n      <td>wheev</td>\n      <td>[0, 4]</td>\n      <td>I've been a fan of the series since I was a yo...</td>\n      <td>5.0</td>\n      <td>can't Wait!</td>\n      <td>1405987200</td>\n      <td>07 22, 2014</td>\n    </tr>\n    <tr>\n      <th>1697532</th>\n      <td>A3ROPC55BE2OM9</td>\n      <td>B00LT1JHLW</td>\n      <td>WingLT</td>\n      <td>[11, 23]</td>\n      <td>People seriously need to wake up and realize t...</td>\n      <td>5.0</td>\n      <td>The Price is Insane? People Really Need to Wak...</td>\n      <td>1405728000</td>\n      <td>07 19, 2014</td>\n    </tr>\n  </tbody>\n</table>\n<p>1697533 rows × 9 columns</p>\n</div>"
     },
     "metadata": {},
     "execution_count": 10
    }
   ],
   "source": [
    "df"
   ]
  },
  {
   "cell_type": "code",
   "execution_count": 11,
   "metadata": {},
   "outputs": [
    {
     "output_type": "stream",
     "name": "stdout",
     "text": [
      "<class 'pandas.core.frame.DataFrame'>\nInt64Index: 1697533 entries, 0 to 1697532\nData columns (total 9 columns):\n #   Column          Dtype  \n---  ------          -----  \n 0   reviewerID      object \n 1   movieID         object \n 2   reviewerName    object \n 3   helpful         object \n 4   reviewText      object \n 5   overall         float64\n 6   summary         object \n 7   unixReviewTime  int64  \n 8   reviewTime      object \ndtypes: float64(1), int64(1), object(7)\nmemory usage: 129.5+ MB\n"
     ]
    }
   ],
   "source": [
    "df.info()"
   ]
  },
  {
   "cell_type": "code",
   "execution_count": 12,
   "metadata": {},
   "outputs": [],
   "source": [
    "df = df.sort_values(by='unixReviewTime')"
   ]
  },
  {
   "cell_type": "code",
   "execution_count": 13,
   "metadata": {},
   "outputs": [],
   "source": [
    "split_time = 1300000000\n",
    "df_split = df[df['unixReviewTime'] < split_time] "
   ]
  },
  {
   "cell_type": "code",
   "execution_count": 14,
   "metadata": {},
   "outputs": [
    {
     "output_type": "execute_result",
     "data": {
      "text/plain": [
       "826627"
      ]
     },
     "metadata": {},
     "execution_count": 14
    }
   ],
   "source": [
    "len(df_split)"
   ]
  },
  {
   "cell_type": "code",
   "execution_count": 96,
   "metadata": {},
   "outputs": [],
   "source": [
    "train_df = df_split.sample(200000, random_state=42)"
   ]
  },
  {
   "cell_type": "code",
   "execution_count": 97,
   "metadata": {},
   "outputs": [],
   "source": [
    "test_df = df[df['unixReviewTime'] > split_time] "
   ]
  },
  {
   "cell_type": "code",
   "execution_count": 98,
   "metadata": {},
   "outputs": [
    {
     "output_type": "execute_result",
     "data": {
      "text/plain": [
       "870906"
      ]
     },
     "metadata": {},
     "execution_count": 98
    }
   ],
   "source": [
    "len(test_df)"
   ]
  },
  {
   "cell_type": "code",
   "execution_count": 99,
   "metadata": {},
   "outputs": [
    {
     "output_type": "execute_result",
     "data": {
      "text/plain": [
       "A16CZRQL23NOIW    532\n",
       "A2NJO6YE954DBH    482\n",
       "A3LZGLA88K0LA0    479\n",
       "A328S9RN3U5M68    406\n",
       "ABO2ZI2Y5DQ9T     385\n",
       "                 ... \n",
       "A2O0NBU7ZCUF7C      1\n",
       "ATS2855497V0I       1\n",
       "A2SGJYNBVIJ1EA      1\n",
       "ASN79GBT3QDYJ       1\n",
       "A12A4I4X5SCZPM      1\n",
       "Name: reviewerID, Length: 47796, dtype: int64"
      ]
     },
     "metadata": {},
     "execution_count": 99
    }
   ],
   "source": [
    "train_df.reviewerID.value_counts()"
   ]
  },
  {
   "cell_type": "code",
   "execution_count": 100,
   "metadata": {},
   "outputs": [],
   "source": [
    "train_df = train_df.groupby(['reviewerID']).filter(lambda x: len(x) >= 5)\n",
    "train_df = train_df.groupby(['movieID']).filter(lambda x: len(x) >= 5)"
   ]
  },
  {
   "cell_type": "code",
   "execution_count": 101,
   "metadata": {},
   "outputs": [
    {
     "output_type": "execute_result",
     "data": {
      "text/plain": [
       "88116"
      ]
     },
     "metadata": {},
     "execution_count": 101
    }
   ],
   "source": [
    "len(train_df)"
   ]
  },
  {
   "cell_type": "code",
   "execution_count": 102,
   "metadata": {},
   "outputs": [],
   "source": [
    "train_reviewers = train_df.reviewerID.unique()"
   ]
  },
  {
   "cell_type": "code",
   "execution_count": 103,
   "metadata": {},
   "outputs": [],
   "source": [
    "test_df = test_df[test_df.reviewerID.isin(train_reviewers)]"
   ]
  },
  {
   "cell_type": "code",
   "execution_count": 104,
   "metadata": {},
   "outputs": [
    {
     "output_type": "execute_result",
     "data": {
      "text/plain": [
       "AV6QDP8Q0ONK4     1660\n",
       "ANCOMAI0I7LVG     1007\n",
       "A29TKSIWA3JKF3     842\n",
       "A1XT8AJB7S9JJG     835\n",
       "A27H9DOUGY9FOS     754\n",
       "                  ... \n",
       "A1DFQCYOKQ64CU       1\n",
       "A35K84RT618N3A       1\n",
       "A5CWLQF6QO3CN        1\n",
       "A1WL2EKE4TAEJP       1\n",
       "AR37967IAR6ZT        1\n",
       "Name: reviewerID, Length: 3963, dtype: int64"
      ]
     },
     "metadata": {},
     "execution_count": 104
    }
   ],
   "source": [
    "test_df.reviewerID.value_counts()"
   ]
  },
  {
   "cell_type": "code",
   "execution_count": 105,
   "metadata": {},
   "outputs": [
    {
     "output_type": "execute_result",
     "data": {
      "text/plain": [
       "6692"
      ]
     },
     "metadata": {},
     "execution_count": 105
    }
   ],
   "source": [
    "train_movies = train_df.movieID.unique()\n",
    "len(train_movies)"
   ]
  },
  {
   "cell_type": "code",
   "execution_count": 106,
   "metadata": {},
   "outputs": [],
   "source": [
    "test_df = test_df[test_df.movieID.isin(train_movies)]"
   ]
  },
  {
   "cell_type": "code",
   "execution_count": 107,
   "metadata": {},
   "outputs": [
    {
     "output_type": "execute_result",
     "data": {
      "text/plain": [
       "24713"
      ]
     },
     "metadata": {},
     "execution_count": 107
    }
   ],
   "source": [
    "len(test_df)"
   ]
  },
  {
   "cell_type": "code",
   "execution_count": 108,
   "metadata": {},
   "outputs": [],
   "source": [
    "train_sample = train_df[['reviewerID','movieID','reviewText','summary','overall']]\n",
    "test_sample = test_df[['reviewerID','movieID','reviewText','summary','overall']]"
   ]
  },
  {
   "cell_type": "code",
   "execution_count": 109,
   "metadata": {},
   "outputs": [],
   "source": [
    "train_sample['reviewText'] = train_sample['reviewText'].str.replace('\"','')\n",
    "train_sample['summary'] = train_sample['summary'].str.replace('\"','')"
   ]
  },
  {
   "cell_type": "code",
   "execution_count": 110,
   "metadata": {},
   "outputs": [],
   "source": [
    "test_sample['reviewText'] = test_sample['reviewText'].str.replace('\"','')\n",
    "test_sample['summary'] = test_sample['summary'].str.replace('\"','')"
   ]
  },
  {
   "cell_type": "code",
   "execution_count": 111,
   "metadata": {},
   "outputs": [],
   "source": [
    "train_sample.to_pickle('./preprocessed/collaborative_input/new_train_sample.pkl', protocol = 4)\n",
    "train_sample[['reviewText']].to_csv('./preprocessed/bert_input/new_train_sample.csv')"
   ]
  },
  {
   "cell_type": "code",
   "execution_count": 112,
   "metadata": {},
   "outputs": [],
   "source": [
    "test_sample.to_pickle('./preprocessed/collaborative_input/new_test_sample.pkl', protocol = 4)\n",
    "test_sample[['reviewText']].to_csv('./preprocessed/bert_input/new_test_sample.csv')"
   ]
  },
  {
   "cell_type": "code",
   "execution_count": 113,
   "metadata": {},
   "outputs": [
    {
     "output_type": "execute_result",
     "data": {
      "text/plain": [
       "             reviewerID     movieID  \\\n",
       "646479   A3PG0F1KA7ZT3O  B00005JP97   \n",
       "432444   A2GPN2VKS8E77C  6304696515   \n",
       "1297267  A2MIO2RW0JE0C6  B002WNUVJS   \n",
       "1390010  A3A4ZAIBQWKOZS  B0049P1VHS   \n",
       "226942    A106016KSI0YQ  6300247651   \n",
       "...                 ...         ...   \n",
       "1317496  A2QVQB7D93XIPA  B0031RAOVY   \n",
       "90991    A3G2OSOP4XKFZL  0790729644   \n",
       "8564     A3O536E2YOKK4Y  0767807588   \n",
       "876721   A3MV1KKHX51FYT  B00074DY16   \n",
       "1194186   AYZV1PJP6NXPT  B001GCUNYO   \n",
       "\n",
       "                                                reviewText  \\\n",
       "646479   The rhythm of the Blues is birthed down and di...   \n",
       "432444   This adaptation of the novel Les Liaisons Dang...   \n",
       "1297267  Compelling storytelling... Beautiful art direc...   \n",
       "1390010  T obe clear, this is a review ofThe Walking De...   \n",
       "226942   This rich little horror film about a single mo...   \n",
       "...                                                    ...   \n",
       "1317496  A touching tale of love, devotion through the ...   \n",
       "90991    This is a truly great movie.  When ever I sens...   \n",
       "8564     Released in 1993, Bruce Willis' &#34;Striking ...   \n",
       "876721   Return to Peyton Place, 1961 filmAllison MacKe...   \n",
       "1194186  Liam Neeson has a way of speaking his lines an...   \n",
       "\n",
       "                                                   summary  overall  \n",
       "646479           I'm talkin' about the Blues...  Son House      5.0  \n",
       "432444   Sex Is Best Used As A Deadly Weapon. Excellent...      5.0  \n",
       "1297267   Marvel Animated raises its game with PLANET HULK      5.0  \n",
       "1390010                   Great release for a great series      5.0  \n",
       "226942                                    All in her head?      4.0  \n",
       "...                                                    ...      ...  \n",
       "1317496                         Love, loyalty and devotion      5.0  \n",
       "90991                              They have a sign on him      5.0  \n",
       "8564                 Comic book cop thriller in Pittsburgh      4.0  \n",
       "876721                            Publicizing a Small Town      4.0  \n",
       "1194186                   Good Action but that's about it.      2.0  \n",
       "\n",
       "[24713 rows x 5 columns]"
      ],
      "text/html": "<div>\n<style scoped>\n    .dataframe tbody tr th:only-of-type {\n        vertical-align: middle;\n    }\n\n    .dataframe tbody tr th {\n        vertical-align: top;\n    }\n\n    .dataframe thead th {\n        text-align: right;\n    }\n</style>\n<table border=\"1\" class=\"dataframe\">\n  <thead>\n    <tr style=\"text-align: right;\">\n      <th></th>\n      <th>reviewerID</th>\n      <th>movieID</th>\n      <th>reviewText</th>\n      <th>summary</th>\n      <th>overall</th>\n    </tr>\n  </thead>\n  <tbody>\n    <tr>\n      <th>646479</th>\n      <td>A3PG0F1KA7ZT3O</td>\n      <td>B00005JP97</td>\n      <td>The rhythm of the Blues is birthed down and di...</td>\n      <td>I'm talkin' about the Blues...  Son House</td>\n      <td>5.0</td>\n    </tr>\n    <tr>\n      <th>432444</th>\n      <td>A2GPN2VKS8E77C</td>\n      <td>6304696515</td>\n      <td>This adaptation of the novel Les Liaisons Dang...</td>\n      <td>Sex Is Best Used As A Deadly Weapon. Excellent...</td>\n      <td>5.0</td>\n    </tr>\n    <tr>\n      <th>1297267</th>\n      <td>A2MIO2RW0JE0C6</td>\n      <td>B002WNUVJS</td>\n      <td>Compelling storytelling... Beautiful art direc...</td>\n      <td>Marvel Animated raises its game with PLANET HULK</td>\n      <td>5.0</td>\n    </tr>\n    <tr>\n      <th>1390010</th>\n      <td>A3A4ZAIBQWKOZS</td>\n      <td>B0049P1VHS</td>\n      <td>T obe clear, this is a review ofThe Walking De...</td>\n      <td>Great release for a great series</td>\n      <td>5.0</td>\n    </tr>\n    <tr>\n      <th>226942</th>\n      <td>A106016KSI0YQ</td>\n      <td>6300247651</td>\n      <td>This rich little horror film about a single mo...</td>\n      <td>All in her head?</td>\n      <td>4.0</td>\n    </tr>\n    <tr>\n      <th>...</th>\n      <td>...</td>\n      <td>...</td>\n      <td>...</td>\n      <td>...</td>\n      <td>...</td>\n    </tr>\n    <tr>\n      <th>1317496</th>\n      <td>A2QVQB7D93XIPA</td>\n      <td>B0031RAOVY</td>\n      <td>A touching tale of love, devotion through the ...</td>\n      <td>Love, loyalty and devotion</td>\n      <td>5.0</td>\n    </tr>\n    <tr>\n      <th>90991</th>\n      <td>A3G2OSOP4XKFZL</td>\n      <td>0790729644</td>\n      <td>This is a truly great movie.  When ever I sens...</td>\n      <td>They have a sign on him</td>\n      <td>5.0</td>\n    </tr>\n    <tr>\n      <th>8564</th>\n      <td>A3O536E2YOKK4Y</td>\n      <td>0767807588</td>\n      <td>Released in 1993, Bruce Willis' &amp;#34;Striking ...</td>\n      <td>Comic book cop thriller in Pittsburgh</td>\n      <td>4.0</td>\n    </tr>\n    <tr>\n      <th>876721</th>\n      <td>A3MV1KKHX51FYT</td>\n      <td>B00074DY16</td>\n      <td>Return to Peyton Place, 1961 filmAllison MacKe...</td>\n      <td>Publicizing a Small Town</td>\n      <td>4.0</td>\n    </tr>\n    <tr>\n      <th>1194186</th>\n      <td>AYZV1PJP6NXPT</td>\n      <td>B001GCUNYO</td>\n      <td>Liam Neeson has a way of speaking his lines an...</td>\n      <td>Good Action but that's about it.</td>\n      <td>2.0</td>\n    </tr>\n  </tbody>\n</table>\n<p>24713 rows × 5 columns</p>\n</div>"
     },
     "metadata": {},
     "execution_count": 113
    }
   ],
   "source": [
    "test_sample"
   ]
  },
  {
   "cell_type": "code",
   "execution_count": 114,
   "metadata": {},
   "outputs": [
    {
     "output_type": "execute_result",
     "data": {
      "text/plain": [
       "             reviewerID     movieID  \\\n",
       "171125    AER15RIMV8E6D  1415724784   \n",
       "407185   A1D6L5H76KMV6P  630420065X   \n",
       "808445   A2RRO07OFPV06B  B0001JXOUS   \n",
       "364763    AL7LEBKKW8XCC  6303213650   \n",
       "5562     A355WMP0CQBJFX  0767802497   \n",
       "...                 ...         ...   \n",
       "929949   A1Q15TP2FXYYMF  B000AOEPU2   \n",
       "907541    ADTUS88NFTW23  B0009KA7BS   \n",
       "1119076   A9RNMO9MUSMTJ  B000YDOOEQ   \n",
       "1338775  A2OZBJ58CML9OS  B003EV6DBM   \n",
       "600539   A25KKXUQQ0OLWB  B00005JLG3   \n",
       "\n",
       "                                                reviewText  \\\n",
       "171125   This was pretty boring. Listening to the guy w...   \n",
       "407185   A great vision of the old versions, comes with...   \n",
       "808445   A civil war Captain travels to Japan to help t...   \n",
       "364763   Because of their sucess with Fargo, people ten...   \n",
       "5562     who hasn't seen this movie. there's no need to...   \n",
       "...                                                    ...   \n",
       "929949   I truly mean the title and here is why. Bret H...   \n",
       "907541   My introduction to Alan Moore's John Constanti...   \n",
       "1119076  Its like 2 movies in one....a fairy tale and a...   \n",
       "1338775  OK, it's a little premature to judge something...   \n",
       "600539   A charming show that I either passed on in the...   \n",
       "\n",
       "                                             summary  overall  \n",
       "171125                       An Inconvenient Bore!!!      2.0  \n",
       "407185              the First Mission to get crazy!!      5.0  \n",
       "808445                          SUPERB ENTERTAINMENT      5.0  \n",
       "364763                       forgotten coen brothers      5.0  \n",
       "5562           BROUGHT SOME MAD FEAR OF ANACONDAS!!!      4.0  \n",
       "...                                              ...      ...  \n",
       "929949   The Exelence Of Execution Has A DVD Finally      5.0  \n",
       "907541      Worth watching, but didn't blow me away.      3.0  \n",
       "1119076                                Solid 3 stars      3.0  \n",
       "1338775       Brilliant revision of a beloved series      5.0  \n",
       "600539          Charming Show I Missed When It Aired      5.0  \n",
       "\n",
       "[88116 rows x 5 columns]"
      ],
      "text/html": "<div>\n<style scoped>\n    .dataframe tbody tr th:only-of-type {\n        vertical-align: middle;\n    }\n\n    .dataframe tbody tr th {\n        vertical-align: top;\n    }\n\n    .dataframe thead th {\n        text-align: right;\n    }\n</style>\n<table border=\"1\" class=\"dataframe\">\n  <thead>\n    <tr style=\"text-align: right;\">\n      <th></th>\n      <th>reviewerID</th>\n      <th>movieID</th>\n      <th>reviewText</th>\n      <th>summary</th>\n      <th>overall</th>\n    </tr>\n  </thead>\n  <tbody>\n    <tr>\n      <th>171125</th>\n      <td>AER15RIMV8E6D</td>\n      <td>1415724784</td>\n      <td>This was pretty boring. Listening to the guy w...</td>\n      <td>An Inconvenient Bore!!!</td>\n      <td>2.0</td>\n    </tr>\n    <tr>\n      <th>407185</th>\n      <td>A1D6L5H76KMV6P</td>\n      <td>630420065X</td>\n      <td>A great vision of the old versions, comes with...</td>\n      <td>the First Mission to get crazy!!</td>\n      <td>5.0</td>\n    </tr>\n    <tr>\n      <th>808445</th>\n      <td>A2RRO07OFPV06B</td>\n      <td>B0001JXOUS</td>\n      <td>A civil war Captain travels to Japan to help t...</td>\n      <td>SUPERB ENTERTAINMENT</td>\n      <td>5.0</td>\n    </tr>\n    <tr>\n      <th>364763</th>\n      <td>AL7LEBKKW8XCC</td>\n      <td>6303213650</td>\n      <td>Because of their sucess with Fargo, people ten...</td>\n      <td>forgotten coen brothers</td>\n      <td>5.0</td>\n    </tr>\n    <tr>\n      <th>5562</th>\n      <td>A355WMP0CQBJFX</td>\n      <td>0767802497</td>\n      <td>who hasn't seen this movie. there's no need to...</td>\n      <td>BROUGHT SOME MAD FEAR OF ANACONDAS!!!</td>\n      <td>4.0</td>\n    </tr>\n    <tr>\n      <th>...</th>\n      <td>...</td>\n      <td>...</td>\n      <td>...</td>\n      <td>...</td>\n      <td>...</td>\n    </tr>\n    <tr>\n      <th>929949</th>\n      <td>A1Q15TP2FXYYMF</td>\n      <td>B000AOEPU2</td>\n      <td>I truly mean the title and here is why. Bret H...</td>\n      <td>The Exelence Of Execution Has A DVD Finally</td>\n      <td>5.0</td>\n    </tr>\n    <tr>\n      <th>907541</th>\n      <td>ADTUS88NFTW23</td>\n      <td>B0009KA7BS</td>\n      <td>My introduction to Alan Moore's John Constanti...</td>\n      <td>Worth watching, but didn't blow me away.</td>\n      <td>3.0</td>\n    </tr>\n    <tr>\n      <th>1119076</th>\n      <td>A9RNMO9MUSMTJ</td>\n      <td>B000YDOOEQ</td>\n      <td>Its like 2 movies in one....a fairy tale and a...</td>\n      <td>Solid 3 stars</td>\n      <td>3.0</td>\n    </tr>\n    <tr>\n      <th>1338775</th>\n      <td>A2OZBJ58CML9OS</td>\n      <td>B003EV6DBM</td>\n      <td>OK, it's a little premature to judge something...</td>\n      <td>Brilliant revision of a beloved series</td>\n      <td>5.0</td>\n    </tr>\n    <tr>\n      <th>600539</th>\n      <td>A25KKXUQQ0OLWB</td>\n      <td>B00005JLG3</td>\n      <td>A charming show that I either passed on in the...</td>\n      <td>Charming Show I Missed When It Aired</td>\n      <td>5.0</td>\n    </tr>\n  </tbody>\n</table>\n<p>88116 rows × 5 columns</p>\n</div>"
     },
     "metadata": {},
     "execution_count": 114
    }
   ],
   "source": [
    "train_sample"
   ]
  },
  {
   "cell_type": "code",
   "execution_count": null,
   "metadata": {},
   "outputs": [],
   "source": []
  }
 ]
}