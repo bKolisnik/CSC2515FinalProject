{
 "cells": [
  {
   "cell_type": "code",
   "execution_count": 2,
   "metadata": {},
   "outputs": [],
   "source": [
    "import pandas as pd\n",
    "import scipy\n",
    "import numpy as np"
   ]
  },
  {
   "cell_type": "code",
   "execution_count": 3,
   "metadata": {},
   "outputs": [],
   "source": [
    "a = np.load('./preprocessed/collaborative_input/expertise.npy')\n",
    "b = np.load('./preprocessed/collaborative_input/test_expertise.npy')"
   ]
  },
  {
   "cell_type": "code",
   "execution_count": 4,
   "metadata": {},
   "outputs": [],
   "source": [
    "train_sample = pd.read_pickle('./preprocessed/collaborative_input/train_sample.pkl')"
   ]
  },
  {
   "cell_type": "code",
   "execution_count": 5,
   "metadata": {},
   "outputs": [],
   "source": [
    "test_sample = pd.read_pickle('./preprocessed/collaborative_input/test_sample.pkl')"
   ]
  },
  {
   "cell_type": "code",
   "execution_count": 24,
   "metadata": {},
   "outputs": [],
   "source": [
    "def calculate_percentage_star(df,star):\n",
    "    return len(df.loc[df['overall']==star])/len(df)"
   ]
  },
  {
   "cell_type": "code",
   "execution_count": 28,
   "metadata": {},
   "outputs": [
    {
     "name": "stdout",
     "output_type": "stream",
     "text": [
      "The number of unique reviewers in train 25315\n",
      "The number of unique movies in train 16988\n",
      "The distribution of overall in train: 1 star 0.08827%\n",
      "The distribution of overall in train: 2 star 0.06781%\n",
      "The distribution of overall in train: 3 star 0.10624%\n",
      "The distribution of overall in train: 4 star 0.21079%\n",
      "The distribution of overall in train: 5 star 0.52689%\n"
     ]
    }
   ],
   "source": [
    "print(f\"The number of unique reviewers in train {len(train_sample['reviewerID'].unique())}\")\n",
    "print(f\"The number of unique movies in train {len(train_sample['movieID'].unique())}\")\n",
    "print(f\"The distribution of overall in train: 1 star {str(calculate_percentage_star(train_sample,1))}%\")\n",
    "print(f\"The distribution of overall in train: 2 star {str(calculate_percentage_star(train_sample,2))}%\")\n",
    "print(f\"The distribution of overall in train: 3 star {str(calculate_percentage_star(train_sample,3))}%\")\n",
    "print(f\"The distribution of overall in train: 4 star {str(calculate_percentage_star(train_sample,4))}%\")\n",
    "print(f\"The distribution of overall in train: 5 star {str(calculate_percentage_star(train_sample,5))}%\")"
   ]
  },
  {
   "cell_type": "code",
   "execution_count": 39,
   "metadata": {},
   "outputs": [
    {
     "data": {
      "text/plain": [
       "(0.0, 0.55)"
      ]
     },
     "execution_count": 39,
     "metadata": {},
     "output_type": "execute_result"
    },
    {
     "data": {
      "image/png": "[encoded data removed]",
      "text/plain": [
       "<Figure size 432x288 with 1 Axes>"
      ]
     },
     "metadata": {
      "needs_background": "light"
     },
     "output_type": "display_data"
    }
   ],
   "source": [
    "import matplotlib.pyplot as plt\n",
    "import seaborn as sns\n",
    "stars = ['1 Star','2 Star', '3 Star', '4 Star', '5 Star']\n",
    "percentage = [calculate_percentage_star(train_sample,1),calculate_percentage_star(train_sample,2),calculate_percentage_star(train_sample,3),calculate_percentage_star(train_sample,4),calculate_percentage_star(train_sample,5)]\n",
    "d = {'Star Rating':stars,'Probability':percentage}\n",
    "star_df_train = pd.DataFrame(d)\n",
    "star_df_train\n",
    "\n",
    "\n",
    "sns.barplot(x='Star Rating', y='Probability',data=star_df_train)\n",
    "plt.title('Train Rating Distribution')\n",
    "plt.ylim(top=0.55)\n"
   ]
  },
  {
   "cell_type": "code",
   "execution_count": 40,
   "metadata": {},
   "outputs": [
    {
     "data": {
      "text/plain": [
       "(0.0, 0.55)"
      ]
     },
     "execution_count": 40,
     "metadata": {},
     "output_type": "execute_result"
    },
    {
     "data": {
      "image/png": "[encoded data removed]",
      "text/plain": [
       "<Figure size 432x288 with 1 Axes>"
      ]
     },
     "metadata": {
      "needs_background": "light"
     },
     "output_type": "display_data"
    }
   ],
   "source": [
    "import seaborn as sns\n",
    "stars = ['1 Star','2 Star', '3 Star', '4 Star', '5 Star']\n",
    "percentage = [calculate_percentage_star(test_sample,1),calculate_percentage_star(test_sample,2),calculate_percentage_star(test_sample,3),calculate_percentage_star(test_sample,4),calculate_percentage_star(test_sample,5)]\n",
    "d = {'Star Rating':stars,'Probability':percentage}\n",
    "star_df_train = pd.DataFrame(d)\n",
    "star_df_train\n",
    "\n",
    "sns.barplot(x='Star Rating', y='Probability',data=star_df_train)\n",
    "plt.title('Test Rating Distribution')\n",
    "plt.ylim(top=0.55)"
   ]
  },
  {
   "cell_type": "code",
   "execution_count": 29,
   "metadata": {},
   "outputs": [
    {
     "name": "stdout",
     "output_type": "stream",
     "text": [
      "The number of unique reviewers in test 1942\n",
      "The number of unique movies in test 5789\n",
      "The distribution of overall in test: 1 star 0.0582%\n",
      "The distribution of overall in test: 2 star 0.0783%\n",
      "The distribution of overall in test: 3 star 0.13915%\n",
      "The distribution of overall in test: 4 star 0.2669%\n",
      "The distribution of overall in test: 5 star 0.45745%\n"
     ]
    }
   ],
   "source": [
    "print(f\"The number of unique reviewers in test {len(test_sample['reviewerID'].unique())}\")\n",
    "print(f\"The number of unique movies in test {len(test_sample['movieID'].unique())}\")\n",
    "print(f\"The distribution of overall in test: 1 star {str(calculate_percentage_star(test_sample,1))}%\")\n",
    "print(f\"The distribution of overall in test: 2 star {str(calculate_percentage_star(test_sample,2))}%\")\n",
    "print(f\"The distribution of overall in test: 3 star {str(calculate_percentage_star(test_sample,3))}%\")\n",
    "print(f\"The distribution of overall in test: 4 star {str(calculate_percentage_star(test_sample,4))}%\")\n",
    "print(f\"The distribution of overall in test: 5 star {str(calculate_percentage_star(test_sample,5))}%\")"
   ]
  },
  {
   "cell_type": "code",
   "execution_count": null,
   "metadata": {},
   "outputs": [],
   "source": []
  },
  {
   "cell_type": "code",
   "execution_count": 9,
   "metadata": {},
   "outputs": [
    {
     "data": {
      "text/plain": [
       "5.88650812338121e-05"
      ]
     },
     "execution_count": 9,
     "metadata": {},
     "output_type": "execute_result"
    }
   ],
   "source": [
    "#Sparsity\n",
    "total_ratings = len(train_sample)\n",
    "\n",
    "#distinct reviewerIDs\n",
    "num_reviewers = len(train_sample['reviewerID'].unique())\n",
    "num_movies = len(train_sample['movieID'].unique())\n",
    "\n",
    "denom = num_reviewers*num_movies\n",
    "\n",
    "sparsity_train = num_reviewers/denom\n",
    "sparsity_train"
   ]
  },
  {
   "cell_type": "code",
   "execution_count": 10,
   "metadata": {},
   "outputs": [
    {
     "data": {
      "text/plain": [
       "0.00017274140611504577"
      ]
     },
     "execution_count": 10,
     "metadata": {},
     "output_type": "execute_result"
    }
   ],
   "source": [
    "#Sparsity for test\n",
    "total_ratings = len(test_sample)\n",
    "\n",
    "#distinct reviewerIDs\n",
    "num_reviewers = len(test_sample['reviewerID'].unique())\n",
    "num_movies = len(test_sample['movieID'].unique())\n",
    "\n",
    "denom = num_reviewers*num_movies\n",
    "\n",
    "sparsity_test = num_reviewers/denom\n",
    "sparsity_test"
   ]
  },
  {
   "cell_type": "markdown",
   "metadata": {},
   "source": [
    "The sparsity metric is the number of cells in a matrix that contain a rating divided by the total number of values that matrix could hold given the number of users and items (movies)"
   ]
  },
  {
   "cell_type": "code",
   "execution_count": 41,
   "metadata": {},
   "outputs": [
    {
     "data": {
      "text/html": [
       "<div>\n",
       "<style scoped>\n",
       "    .dataframe tbody tr th:only-of-type {\n",
       "        vertical-align: middle;\n",
       "    }\n",
       "\n",
       "    .dataframe tbody tr th {\n",
       "        vertical-align: top;\n",
       "    }\n",
       "\n",
       "    .dataframe thead th {\n",
       "        text-align: right;\n",
       "    }\n",
       "</style>\n",
       "<table border=\"1\" class=\"dataframe\">\n",
       "  <thead>\n",
       "    <tr style=\"text-align: right;\">\n",
       "      <th></th>\n",
       "      <th>reviewerID</th>\n",
       "      <th>movieID</th>\n",
       "      <th>reviewerName</th>\n",
       "      <th>helpful</th>\n",
       "      <th>reviewText</th>\n",
       "      <th>overall</th>\n",
       "      <th>summary</th>\n",
       "      <th>unixReviewTime</th>\n",
       "      <th>reviewTime</th>\n",
       "      <th>reviewer_count</th>\n",
       "    </tr>\n",
       "  </thead>\n",
       "  <tbody>\n",
       "    <tr>\n",
       "      <th>0</th>\n",
       "      <td>A1127LKNR08JJK</td>\n",
       "      <td>630174411X</td>\n",
       "      <td>acwpython@juno.com</td>\n",
       "      <td>[0, 4]</td>\n",
       "      <td>The movie was ok but it did lack a few things....</td>\n",
       "      <td>4.0</td>\n",
       "      <td>GREAT</td>\n",
       "      <td>879379200</td>\n",
       "      <td>1997-11-13</td>\n",
       "      <td>0</td>\n",
       "    </tr>\n",
       "    <tr>\n",
       "      <th>1</th>\n",
       "      <td>A1127LKNR08JJK</td>\n",
       "      <td>0767824571</td>\n",
       "      <td>acwpython@juno.com</td>\n",
       "      <td>[0, 0]</td>\n",
       "      <td>This movie rules.  It has humor, love, suspens...</td>\n",
       "      <td>5.0</td>\n",
       "      <td>Best Movie Ever!!!</td>\n",
       "      <td>879465600</td>\n",
       "      <td>1997-11-14</td>\n",
       "      <td>1</td>\n",
       "    </tr>\n",
       "    <tr>\n",
       "      <th>2</th>\n",
       "      <td>A1127LKNR08JJK</td>\n",
       "      <td>0783222068</td>\n",
       "      <td>acwpython@juno.com</td>\n",
       "      <td>[0, 0]</td>\n",
       "      <td>HA HA HA!!! THose were the first words anyone ...</td>\n",
       "      <td>5.0</td>\n",
       "      <td>Hilarious</td>\n",
       "      <td>879465600</td>\n",
       "      <td>1997-11-14</td>\n",
       "      <td>2</td>\n",
       "    </tr>\n",
       "    <tr>\n",
       "      <th>3</th>\n",
       "      <td>A1127LKNR08JJK</td>\n",
       "      <td>0780022181</td>\n",
       "      <td>acwpython@juno.com</td>\n",
       "      <td>[1, 2]</td>\n",
       "      <td>This is one of the best movies in the world.  ...</td>\n",
       "      <td>5.0</td>\n",
       "      <td>This should get a 15</td>\n",
       "      <td>879897600</td>\n",
       "      <td>1997-11-19</td>\n",
       "      <td>3</td>\n",
       "    </tr>\n",
       "    <tr>\n",
       "      <th>4</th>\n",
       "      <td>A1127LKNR08JJK</td>\n",
       "      <td>6303094880</td>\n",
       "      <td>acwpython@juno.com</td>\n",
       "      <td>[2, 3]</td>\n",
       "      <td>This is so funny.  It has a lot of good jokes ...</td>\n",
       "      <td>5.0</td>\n",
       "      <td>Awesome</td>\n",
       "      <td>879897600</td>\n",
       "      <td>1997-11-19</td>\n",
       "      <td>4</td>\n",
       "    </tr>\n",
       "    <tr>\n",
       "      <th>...</th>\n",
       "      <td>...</td>\n",
       "      <td>...</td>\n",
       "      <td>...</td>\n",
       "      <td>...</td>\n",
       "      <td>...</td>\n",
       "      <td>...</td>\n",
       "      <td>...</td>\n",
       "      <td>...</td>\n",
       "      <td>...</td>\n",
       "      <td>...</td>\n",
       "    </tr>\n",
       "    <tr>\n",
       "      <th>19995</th>\n",
       "      <td>A3KXFQQFBPJTQE</td>\n",
       "      <td>0767836286</td>\n",
       "      <td>Mr N Forbes-warren \"author of RESURGENCE and ...</td>\n",
       "      <td>[3, 3]</td>\n",
       "      <td>Along with ENEMY OF THE STATE, this is one of ...</td>\n",
       "      <td>5.0</td>\n",
       "      <td>Suspenseful and holds your attention!</td>\n",
       "      <td>974505600</td>\n",
       "      <td>2000-11-18</td>\n",
       "      <td>42</td>\n",
       "    </tr>\n",
       "    <tr>\n",
       "      <th>19996</th>\n",
       "      <td>A1345VRK5MYG7</td>\n",
       "      <td>0790744945</td>\n",
       "      <td>James L.</td>\n",
       "      <td>[2, 8]</td>\n",
       "      <td>James Cagney stars as a pilot who agrees to &amp;q...</td>\n",
       "      <td>3.0</td>\n",
       "      <td>Cactuses Are Sharp, But Not the Comedy</td>\n",
       "      <td>974505600</td>\n",
       "      <td>2000-11-18</td>\n",
       "      <td>119</td>\n",
       "    </tr>\n",
       "    <tr>\n",
       "      <th>19997</th>\n",
       "      <td>A1345VRK5MYG7</td>\n",
       "      <td>6301442962</td>\n",
       "      <td>James L.</td>\n",
       "      <td>[6, 7]</td>\n",
       "      <td>Oddly enough, I never saw this film as a child...</td>\n",
       "      <td>5.0</td>\n",
       "      <td>No Room For Cynics</td>\n",
       "      <td>974505600</td>\n",
       "      <td>2000-11-18</td>\n",
       "      <td>120</td>\n",
       "    </tr>\n",
       "    <tr>\n",
       "      <th>19998</th>\n",
       "      <td>A24DBUIAWDQXA2</td>\n",
       "      <td>B00004Z4VI</td>\n",
       "      <td>S. C. Smith</td>\n",
       "      <td>[11, 11]</td>\n",
       "      <td>I had a smile on my face a mile wide throughou...</td>\n",
       "      <td>5.0</td>\n",
       "      <td>A smile a mile wide.</td>\n",
       "      <td>974505600</td>\n",
       "      <td>2000-11-18</td>\n",
       "      <td>9</td>\n",
       "    </tr>\n",
       "    <tr>\n",
       "      <th>19999</th>\n",
       "      <td>A1TDC511IET8A2</td>\n",
       "      <td>6305426678</td>\n",
       "      <td>Sashie</td>\n",
       "      <td>[1, 2]</td>\n",
       "      <td>I realy liked this movie, even though the basi...</td>\n",
       "      <td>5.0</td>\n",
       "      <td>i could watch it over and over</td>\n",
       "      <td>974505600</td>\n",
       "      <td>2000-11-18</td>\n",
       "      <td>6</td>\n",
       "    </tr>\n",
       "  </tbody>\n",
       "</table>\n",
       "<p>120000 rows × 10 columns</p>\n",
       "</div>"
      ],
      "text/plain": [
       "           reviewerID     movieID  \\\n",
       "0      A1127LKNR08JJK  630174411X   \n",
       "1      A1127LKNR08JJK  0767824571   \n",
       "2      A1127LKNR08JJK  0783222068   \n",
       "3      A1127LKNR08JJK  0780022181   \n",
       "4      A1127LKNR08JJK  6303094880   \n",
       "...               ...         ...   \n",
       "19995  A3KXFQQFBPJTQE  0767836286   \n",
       "19996   A1345VRK5MYG7  0790744945   \n",
       "19997   A1345VRK5MYG7  6301442962   \n",
       "19998  A24DBUIAWDQXA2  B00004Z4VI   \n",
       "19999  A1TDC511IET8A2  6305426678   \n",
       "\n",
       "                                           reviewerName   helpful  \\\n",
       "0                                    acwpython@juno.com    [0, 4]   \n",
       "1                                    acwpython@juno.com    [0, 0]   \n",
       "2                                    acwpython@juno.com    [0, 0]   \n",
       "3                                    acwpython@juno.com    [1, 2]   \n",
       "4                                    acwpython@juno.com    [2, 3]   \n",
       "...                                                 ...       ...   \n",
       "19995  Mr N Forbes-warren \"author of RESURGENCE and ...    [3, 3]   \n",
       "19996                                          James L.    [2, 8]   \n",
       "19997                                          James L.    [6, 7]   \n",
       "19998                                       S. C. Smith  [11, 11]   \n",
       "19999                                            Sashie    [1, 2]   \n",
       "\n",
       "                                              reviewText  overall  \\\n",
       "0      The movie was ok but it did lack a few things....      4.0   \n",
       "1      This movie rules.  It has humor, love, suspens...      5.0   \n",
       "2      HA HA HA!!! THose were the first words anyone ...      5.0   \n",
       "3      This is one of the best movies in the world.  ...      5.0   \n",
       "4      This is so funny.  It has a lot of good jokes ...      5.0   \n",
       "...                                                  ...      ...   \n",
       "19995  Along with ENEMY OF THE STATE, this is one of ...      5.0   \n",
       "19996  James Cagney stars as a pilot who agrees to &q...      3.0   \n",
       "19997  Oddly enough, I never saw this film as a child...      5.0   \n",
       "19998  I had a smile on my face a mile wide throughou...      5.0   \n",
       "19999  I realy liked this movie, even though the basi...      5.0   \n",
       "\n",
       "                                      summary  unixReviewTime reviewTime  \\\n",
       "0                                       GREAT       879379200 1997-11-13   \n",
       "1                          Best Movie Ever!!!       879465600 1997-11-14   \n",
       "2                                   Hilarious       879465600 1997-11-14   \n",
       "3                        This should get a 15       879897600 1997-11-19   \n",
       "4                                     Awesome       879897600 1997-11-19   \n",
       "...                                       ...             ...        ...   \n",
       "19995   Suspenseful and holds your attention!       974505600 2000-11-18   \n",
       "19996  Cactuses Are Sharp, But Not the Comedy       974505600 2000-11-18   \n",
       "19997                      No Room For Cynics       974505600 2000-11-18   \n",
       "19998                    A smile a mile wide.       974505600 2000-11-18   \n",
       "19999          i could watch it over and over       974505600 2000-11-18   \n",
       "\n",
       "       reviewer_count  \n",
       "0                   0  \n",
       "1                   1  \n",
       "2                   2  \n",
       "3                   3  \n",
       "4                   4  \n",
       "...               ...  \n",
       "19995              42  \n",
       "19996             119  \n",
       "19997             120  \n",
       "19998               9  \n",
       "19999               6  \n",
       "\n",
       "[120000 rows x 10 columns]"
      ]
     },
     "execution_count": 41,
     "metadata": {},
     "output_type": "execute_result"
    }
   ],
   "source": [
    "frames = [train_sample, test_sample]\n",
    "\n",
    "data = pd.concat(frames)\n",
    "data"
   ]
  },
  {
   "cell_type": "code",
   "execution_count": 42,
   "metadata": {},
   "outputs": [
    {
     "name": "stdout",
     "output_type": "stream",
     "text": [
      "The number of unique reviewers in data 25315\n",
      "The number of unique movies in data 17662\n",
      "The distribution of overall in data: 1 star 0.08325833333333334%\n",
      "The distribution of overall in data: 2 star 0.06955833333333333%\n",
      "The distribution of overall in data: 3 star 0.111725%\n",
      "The distribution of overall in data: 4 star 0.22014166666666668%\n",
      "The distribution of overall in data: 5 star 0.5153166666666666%\n"
     ]
    }
   ],
   "source": [
    "print(f\"The number of unique reviewers in data {len(data['reviewerID'].unique())}\")\n",
    "print(f\"The number of unique movies in data {len(data['movieID'].unique())}\")\n",
    "print(f\"The distribution of overall in data: 1 star {str(calculate_percentage_star(data,1))}%\")\n",
    "print(f\"The distribution of overall in data: 2 star {str(calculate_percentage_star(data,2))}%\")\n",
    "print(f\"The distribution of overall in data: 3 star {str(calculate_percentage_star(data,3))}%\")\n",
    "print(f\"The distribution of overall in data: 4 star {str(calculate_percentage_star(data,4))}%\")\n",
    "print(f\"The distribution of overall in data: 5 star {str(calculate_percentage_star(data,5))}%\")"
   ]
  },
  {
   "cell_type": "code",
   "execution_count": 44,
   "metadata": {},
   "outputs": [
    {
     "data": {
      "text/plain": [
       "(0.0, 0.55)"
      ]
     },
     "execution_count": 44,
     "metadata": {},
     "output_type": "execute_result"
    },
    {
     "data": {
      "image/png": "[encoded data removed]",
      "text/plain": [
       "<Figure size 432x288 with 1 Axes>"
      ]
     },
     "metadata": {
      "needs_background": "light"
     },
     "output_type": "display_data"
    }
   ],
   "source": [
    "import seaborn as sns\n",
    "stars = ['1 Star','2 Star', '3 Star', '4 Star', '5 Star']\n",
    "percentage = [calculate_percentage_star(data,1),calculate_percentage_star(data,2),calculate_percentage_star(data,3),calculate_percentage_star(data,4),calculate_percentage_star(data,5)]\n",
    "d = {'Star Rating':stars,'Probability':percentage}\n",
    "star_df_train = pd.DataFrame(d)\n",
    "star_df_train\n",
    "\n",
    "sns.barplot(x='Star Rating', y='Probability',data=star_df_train)\n",
    "plt.title('Rating Distribution')\n",
    "plt.ylim(top=0.55)"
   ]
  },
  {
   "cell_type": "code",
   "execution_count": 45,
   "metadata": {},
   "outputs": [
    {
     "data": {
      "text/plain": [
       "5.661872947571056e-05"
      ]
     },
     "execution_count": 45,
     "metadata": {},
     "output_type": "execute_result"
    }
   ],
   "source": [
    "#Sparsity for test\n",
    "total_ratings = len(data)\n",
    "\n",
    "#distinct reviewerIDs\n",
    "num_reviewers = len(data['reviewerID'].unique())\n",
    "num_movies = len(data['movieID'].unique())\n",
    "\n",
    "denom = num_reviewers*num_movies\n",
    "\n",
    "sparsity_test = num_reviewers/denom\n",
    "sparsity_test"
   ]
  },
  {
   "cell_type": "code",
   "execution_count": null,
   "metadata": {},
   "outputs": [],
   "source": []
  }
 ],
 "metadata": {
  "kernelspec": {
   "display_name": "Python 3",
   "language": "python",
   "name": "python3"
  },
  "language_info": {
   "codemirror_mode": {
    "name": "ipython",
    "version": 3
   },
   "file_extension": ".py",
   "mimetype": "text/x-python",
   "name": "python",
   "nbconvert_exporter": "python",
   "pygments_lexer": "ipython3",
   "version": "3.6.10"
  }
 },
 "nbformat": 4,
 "nbformat_minor": 4
}
