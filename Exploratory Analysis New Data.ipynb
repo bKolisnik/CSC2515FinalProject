{
 "cells": [
  {
   "cell_type": "code",
   "execution_count": 1,
   "metadata": {},
   "outputs": [],
   "source": [
    "import pandas as pd\n",
    "import scipy\n",
    "import numpy as np"
   ]
  },
  {
   "cell_type": "code",
   "execution_count": 2,
   "metadata": {},
   "outputs": [],
   "source": [
    "a = np.load('./preprocessed/collaborative_input/expertise.npy')\n",
    "b = np.load('./preprocessed/collaborative_input/test_expertise.npy')"
   ]
  },
  {
   "cell_type": "code",
   "execution_count": 3,
   "metadata": {},
   "outputs": [],
   "source": [
    "train_sample = pd.read_pickle('./preprocessed/collaborative_input/new_train_sample.pkl')"
   ]
  },
  {
   "cell_type": "code",
   "execution_count": 4,
   "metadata": {},
   "outputs": [],
   "source": [
    "test_sample = pd.read_pickle('./preprocessed/collaborative_input/new_test_sample.pkl')"
   ]
  },
  {
   "cell_type": "code",
   "execution_count": 5,
   "metadata": {},
   "outputs": [],
   "source": [
    "def calculate_percentage_star(df,star):\n",
    "    return len(df.loc[df['overall']==star])/len(df)"
   ]
  },
  {
   "cell_type": "code",
   "execution_count": 6,
   "metadata": {},
   "outputs": [
    {
     "name": "stdout",
     "output_type": "stream",
     "text": [
      "The number of unique reviewers in train 8351\n",
      "The number of unique movies in train 6692\n",
      "The distribution of overall in train: 1 star 0.06326887284942576%\n",
      "The distribution of overall in train: 2 star 0.07915702029143402%\n",
      "The distribution of overall in train: 3 star 0.14796404739207408%\n",
      "The distribution of overall in train: 4 star 0.27149439375368833%\n",
      "The distribution of overall in train: 5 star 0.43811566571337784%\n"
     ]
    }
   ],
   "source": [
    "print(f\"The number of unique reviewers in train {len(train_sample['reviewerID'].unique())}\")\n",
    "print(f\"The number of unique movies in train {len(train_sample['movieID'].unique())}\")\n",
    "print(f\"The distribution of overall in train: 1 star {str(calculate_percentage_star(train_sample,1))}%\")\n",
    "print(f\"The distribution of overall in train: 2 star {str(calculate_percentage_star(train_sample,2))}%\")\n",
    "print(f\"The distribution of overall in train: 3 star {str(calculate_percentage_star(train_sample,3))}%\")\n",
    "print(f\"The distribution of overall in train: 4 star {str(calculate_percentage_star(train_sample,4))}%\")\n",
    "print(f\"The distribution of overall in train: 5 star {str(calculate_percentage_star(train_sample,5))}%\")"
   ]
  },
  {
   "cell_type": "code",
   "execution_count": 7,
   "metadata": {},
   "outputs": [
    {
     "name": "stdout",
     "output_type": "stream",
     "text": [
      "The number of unique reviewers in test 2604\n",
      "The number of unique movies in test 5658\n",
      "The distribution of overall in test: 1 star 0.06296281309432282%\n",
      "The distribution of overall in test: 2 star 0.0818192853963501%\n",
      "The distribution of overall in test: 3 star 0.1496783069639461%\n",
      "The distribution of overall in test: 4 star 0.2687654271031441%\n",
      "The distribution of overall in test: 5 star 0.4367741674422369%\n"
     ]
    }
   ],
   "source": [
    "print(f\"The number of unique reviewers in test {len(test_sample['reviewerID'].unique())}\")\n",
    "print(f\"The number of unique movies in test {len(test_sample['movieID'].unique())}\")\n",
    "print(f\"The distribution of overall in test: 1 star {str(calculate_percentage_star(test_sample,1))}%\")\n",
    "print(f\"The distribution of overall in test: 2 star {str(calculate_percentage_star(test_sample,2))}%\")\n",
    "print(f\"The distribution of overall in test: 3 star {str(calculate_percentage_star(test_sample,3))}%\")\n",
    "print(f\"The distribution of overall in test: 4 star {str(calculate_percentage_star(test_sample,4))}%\")\n",
    "print(f\"The distribution of overall in test: 5 star {str(calculate_percentage_star(test_sample,5))}%\")"
   ]
  },
  {
   "cell_type": "code",
   "execution_count": 8,
   "metadata": {},
   "outputs": [
    {
     "data": {
      "text/plain": [
       "(0.0, 0.55)"
      ]
     },
     "execution_count": 8,
     "metadata": {},
     "output_type": "execute_result"
    },
    {
     "data": {
      "image/png": "[encoded data removed]",
      "text/plain": [
       "<Figure size 432x288 with 1 Axes>"
      ]
     },
     "metadata": {
      "needs_background": "light"
     },
     "output_type": "display_data"
    }
   ],
   "source": [
    "import matplotlib.pyplot as plt\n",
    "import seaborn as sns\n",
    "stars = ['1 Star','2 Star', '3 Star', '4 Star', '5 Star']\n",
    "percentage = [calculate_percentage_star(train_sample,1),calculate_percentage_star(train_sample,2),calculate_percentage_star(train_sample,3),calculate_percentage_star(train_sample,4),calculate_percentage_star(train_sample,5)]\n",
    "d = {'Star Rating':stars,'Probability':percentage}\n",
    "star_df_train = pd.DataFrame(d)\n",
    "star_df_train\n",
    "\n",
    "\n",
    "sns.barplot(x='Star Rating', y='Probability',data=star_df_train)\n",
    "plt.title('Train Rating Distribution')\n",
    "plt.ylim(top=0.55)"
   ]
  },
  {
   "cell_type": "code",
   "execution_count": 9,
   "metadata": {},
   "outputs": [
    {
     "data": {
      "text/plain": [
       "(0.0, 0.55)"
      ]
     },
     "execution_count": 9,
     "metadata": {},
     "output_type": "execute_result"
    },
    {
     "data": {
      "image/png": "[encoded data removed]",
      "text/plain": [
       "<Figure size 432x288 with 1 Axes>"
      ]
     },
     "metadata": {
      "needs_background": "light"
     },
     "output_type": "display_data"
    }
   ],
   "source": [
    "stars = ['1 Star','2 Star', '3 Star', '4 Star', '5 Star']\n",
    "percentage = [calculate_percentage_star(test_sample,1),calculate_percentage_star(test_sample,2),calculate_percentage_star(test_sample,3),calculate_percentage_star(test_sample,4),calculate_percentage_star(test_sample,5)]\n",
    "d = {'Star Rating':stars,'Probability':percentage}\n",
    "star_df_train = pd.DataFrame(d)\n",
    "star_df_train\n",
    "\n",
    "sns.barplot(x='Star Rating', y='Probability',data=star_df_train)\n",
    "plt.title('Test Rating Distribution')\n",
    "plt.ylim(top=0.55)"
   ]
  },
  {
   "cell_type": "code",
   "execution_count": 10,
   "metadata": {},
   "outputs": [],
   "source": [
    "def calculate_sparsity(df):\n",
    "    numerator = len(df)\n",
    "    num_reviewers = len(df['reviewerID'].unique())\n",
    "    num_movies = len(df['movieID'].unique())\n",
    "    denom = num_reviewers*num_movies\n",
    "    \n",
    "    return numerator/denom"
   ]
  },
  {
   "cell_type": "code",
   "execution_count": 11,
   "metadata": {},
   "outputs": [
    {
     "data": {
      "text/plain": [
       "0.001576740991107221"
      ]
     },
     "execution_count": 11,
     "metadata": {},
     "output_type": "execute_result"
    }
   ],
   "source": [
    "sparsity_train = calculate_sparsity(train_sample)\n",
    "sparsity_train"
   ]
  },
  {
   "cell_type": "code",
   "execution_count": 12,
   "metadata": {},
   "outputs": [
    {
     "data": {
      "text/plain": [
       "0.001677341708299872"
      ]
     },
     "execution_count": 12,
     "metadata": {},
     "output_type": "execute_result"
    }
   ],
   "source": [
    "sparsity_test = calculate_sparsity(test_sample)\n",
    "sparsity_test"
   ]
  },
  {
   "cell_type": "markdown",
   "metadata": {},
   "source": [
    "The sparsity metric is the number of cells in a matrix that contain a rating divided by the total number of values that matrix could hold given the number of users and items (movies)"
   ]
  },
  {
   "cell_type": "code",
   "execution_count": 13,
   "metadata": {},
   "outputs": [
    {
     "data": {
      "text/html": [
       "<div>\n",
       "<style scoped>\n",
       "    .dataframe tbody tr th:only-of-type {\n",
       "        vertical-align: middle;\n",
       "    }\n",
       "\n",
       "    .dataframe tbody tr th {\n",
       "        vertical-align: top;\n",
       "    }\n",
       "\n",
       "    .dataframe thead th {\n",
       "        text-align: right;\n",
       "    }\n",
       "</style>\n",
       "<table border=\"1\" class=\"dataframe\">\n",
       "  <thead>\n",
       "    <tr style=\"text-align: right;\">\n",
       "      <th></th>\n",
       "      <th>reviewerID</th>\n",
       "      <th>movieID</th>\n",
       "      <th>reviewText</th>\n",
       "      <th>summary</th>\n",
       "      <th>overall</th>\n",
       "    </tr>\n",
       "  </thead>\n",
       "  <tbody>\n",
       "    <tr>\n",
       "      <th>171125</th>\n",
       "      <td>AER15RIMV8E6D</td>\n",
       "      <td>1415724784</td>\n",
       "      <td>This was pretty boring. Listening to the guy w...</td>\n",
       "      <td>An Inconvenient Bore!!!</td>\n",
       "      <td>2.0</td>\n",
       "    </tr>\n",
       "    <tr>\n",
       "      <th>407185</th>\n",
       "      <td>A1D6L5H76KMV6P</td>\n",
       "      <td>630420065X</td>\n",
       "      <td>A great vision of the old versions, comes with...</td>\n",
       "      <td>the First Mission to get crazy!!</td>\n",
       "      <td>5.0</td>\n",
       "    </tr>\n",
       "    <tr>\n",
       "      <th>808445</th>\n",
       "      <td>A2RRO07OFPV06B</td>\n",
       "      <td>B0001JXOUS</td>\n",
       "      <td>A civil war Captain travels to Japan to help t...</td>\n",
       "      <td>SUPERB ENTERTAINMENT</td>\n",
       "      <td>5.0</td>\n",
       "    </tr>\n",
       "    <tr>\n",
       "      <th>364763</th>\n",
       "      <td>AL7LEBKKW8XCC</td>\n",
       "      <td>6303213650</td>\n",
       "      <td>Because of their sucess with Fargo, people ten...</td>\n",
       "      <td>forgotten coen brothers</td>\n",
       "      <td>5.0</td>\n",
       "    </tr>\n",
       "    <tr>\n",
       "      <th>5562</th>\n",
       "      <td>A355WMP0CQBJFX</td>\n",
       "      <td>0767802497</td>\n",
       "      <td>who hasn't seen this movie. there's no need to...</td>\n",
       "      <td>BROUGHT SOME MAD FEAR OF ANACONDAS!!!</td>\n",
       "      <td>4.0</td>\n",
       "    </tr>\n",
       "    <tr>\n",
       "      <th>...</th>\n",
       "      <td>...</td>\n",
       "      <td>...</td>\n",
       "      <td>...</td>\n",
       "      <td>...</td>\n",
       "      <td>...</td>\n",
       "    </tr>\n",
       "    <tr>\n",
       "      <th>1317496</th>\n",
       "      <td>A2QVQB7D93XIPA</td>\n",
       "      <td>B0031RAOVY</td>\n",
       "      <td>A touching tale of love, devotion through the ...</td>\n",
       "      <td>Love, loyalty and devotion</td>\n",
       "      <td>5.0</td>\n",
       "    </tr>\n",
       "    <tr>\n",
       "      <th>90991</th>\n",
       "      <td>A3G2OSOP4XKFZL</td>\n",
       "      <td>0790729644</td>\n",
       "      <td>This is a truly great movie.  When ever I sens...</td>\n",
       "      <td>They have a sign on him</td>\n",
       "      <td>5.0</td>\n",
       "    </tr>\n",
       "    <tr>\n",
       "      <th>8564</th>\n",
       "      <td>A3O536E2YOKK4Y</td>\n",
       "      <td>0767807588</td>\n",
       "      <td>Released in 1993, Bruce Willis' &amp;#34;Striking ...</td>\n",
       "      <td>Comic book cop thriller in Pittsburgh</td>\n",
       "      <td>4.0</td>\n",
       "    </tr>\n",
       "    <tr>\n",
       "      <th>876721</th>\n",
       "      <td>A3MV1KKHX51FYT</td>\n",
       "      <td>B00074DY16</td>\n",
       "      <td>Return to Peyton Place, 1961 filmAllison MacKe...</td>\n",
       "      <td>Publicizing a Small Town</td>\n",
       "      <td>4.0</td>\n",
       "    </tr>\n",
       "    <tr>\n",
       "      <th>1194186</th>\n",
       "      <td>AYZV1PJP6NXPT</td>\n",
       "      <td>B001GCUNYO</td>\n",
       "      <td>Liam Neeson has a way of speaking his lines an...</td>\n",
       "      <td>Good Action but that's about it.</td>\n",
       "      <td>2.0</td>\n",
       "    </tr>\n",
       "  </tbody>\n",
       "</table>\n",
       "<p>112829 rows × 5 columns</p>\n",
       "</div>"
      ],
      "text/plain": [
       "             reviewerID     movieID  \\\n",
       "171125    AER15RIMV8E6D  1415724784   \n",
       "407185   A1D6L5H76KMV6P  630420065X   \n",
       "808445   A2RRO07OFPV06B  B0001JXOUS   \n",
       "364763    AL7LEBKKW8XCC  6303213650   \n",
       "5562     A355WMP0CQBJFX  0767802497   \n",
       "...                 ...         ...   \n",
       "1317496  A2QVQB7D93XIPA  B0031RAOVY   \n",
       "90991    A3G2OSOP4XKFZL  0790729644   \n",
       "8564     A3O536E2YOKK4Y  0767807588   \n",
       "876721   A3MV1KKHX51FYT  B00074DY16   \n",
       "1194186   AYZV1PJP6NXPT  B001GCUNYO   \n",
       "\n",
       "                                                reviewText  \\\n",
       "171125   This was pretty boring. Listening to the guy w...   \n",
       "407185   A great vision of the old versions, comes with...   \n",
       "808445   A civil war Captain travels to Japan to help t...   \n",
       "364763   Because of their sucess with Fargo, people ten...   \n",
       "5562     who hasn't seen this movie. there's no need to...   \n",
       "...                                                    ...   \n",
       "1317496  A touching tale of love, devotion through the ...   \n",
       "90991    This is a truly great movie.  When ever I sens...   \n",
       "8564     Released in 1993, Bruce Willis' &#34;Striking ...   \n",
       "876721   Return to Peyton Place, 1961 filmAllison MacKe...   \n",
       "1194186  Liam Neeson has a way of speaking his lines an...   \n",
       "\n",
       "                                       summary  overall  \n",
       "171125                 An Inconvenient Bore!!!      2.0  \n",
       "407185        the First Mission to get crazy!!      5.0  \n",
       "808445                    SUPERB ENTERTAINMENT      5.0  \n",
       "364763                 forgotten coen brothers      5.0  \n",
       "5562     BROUGHT SOME MAD FEAR OF ANACONDAS!!!      4.0  \n",
       "...                                        ...      ...  \n",
       "1317496             Love, loyalty and devotion      5.0  \n",
       "90991                  They have a sign on him      5.0  \n",
       "8564     Comic book cop thriller in Pittsburgh      4.0  \n",
       "876721                Publicizing a Small Town      4.0  \n",
       "1194186       Good Action but that's about it.      2.0  \n",
       "\n",
       "[112829 rows x 5 columns]"
      ]
     },
     "execution_count": 13,
     "metadata": {},
     "output_type": "execute_result"
    }
   ],
   "source": [
    "frames = [train_sample, test_sample]\n",
    "\n",
    "data = pd.concat(frames)\n",
    "data"
   ]
  },
  {
   "cell_type": "code",
   "execution_count": 14,
   "metadata": {},
   "outputs": [
    {
     "name": "stdout",
     "output_type": "stream",
     "text": [
      "The number of unique reviewers in data 8351\n",
      "The number of unique movies in data 6692\n",
      "The distribution of overall in data: 1 star 0.06320183640730663%\n",
      "The distribution of overall in data: 2 star 0.079740137730548%\n",
      "The distribution of overall in data: 3 star 0.1483395226404559%\n",
      "The distribution of overall in data: 4 star 0.2708966666371234%\n",
      "The distribution of overall in data: 5 star 0.437821836584566%\n"
     ]
    }
   ],
   "source": [
    "print(f\"The number of unique reviewers in data {len(data['reviewerID'].unique())}\")\n",
    "print(f\"The number of unique movies in data {len(data['movieID'].unique())}\")\n",
    "print(f\"The distribution of overall in data: 1 star {str(calculate_percentage_star(data,1))}%\")\n",
    "print(f\"The distribution of overall in data: 2 star {str(calculate_percentage_star(data,2))}%\")\n",
    "print(f\"The distribution of overall in data: 3 star {str(calculate_percentage_star(data,3))}%\")\n",
    "print(f\"The distribution of overall in data: 4 star {str(calculate_percentage_star(data,4))}%\")\n",
    "print(f\"The distribution of overall in data: 5 star {str(calculate_percentage_star(data,5))}%\")"
   ]
  },
  {
   "cell_type": "code",
   "execution_count": 22,
   "metadata": {},
   "outputs": [
    {
     "data": {
      "text/plain": [
       "(0.0, 0.55)"
      ]
     },
     "execution_count": 22,
     "metadata": {},
     "output_type": "execute_result"
    },
    {
     "data": {
      "image/png": "[encoded data removed]",
      "text/plain": [
       "<Figure size 432x288 with 1 Axes>"
      ]
     },
     "metadata": {
      "needs_background": "light"
     },
     "output_type": "display_data"
    }
   ],
   "source": [
    "stars = ['1 Star','2 Star', '3 Star', '4 Star', '5 Star']\n",
    "percentage = [calculate_percentage_star(data,1),calculate_percentage_star(data,2),calculate_percentage_star(data,3),calculate_percentage_star(data,4),calculate_percentage_star(data,5)]\n",
    "d = {'Star Rating':stars,'Probability':percentage}\n",
    "star_df_train = pd.DataFrame(d)\n",
    "star_df_train\n",
    "\n",
    "sns.barplot(x='Star Rating', y='Probability',data=star_df_train)\n",
    "#plt.title('Rating Distribution')\n",
    "plt.ylim(top=0.55)"
   ]
  },
  {
   "cell_type": "code",
   "execution_count": 16,
   "metadata": {},
   "outputs": [
    {
     "data": {
      "text/plain": [
       "0.00201895353041033"
      ]
     },
     "execution_count": 16,
     "metadata": {},
     "output_type": "execute_result"
    }
   ],
   "source": [
    "sparsity_data = calculate_sparsity(data)\n",
    "sparsity_data"
   ]
  },
  {
   "cell_type": "code",
   "execution_count": 17,
   "metadata": {},
   "outputs": [
    {
     "data": {
      "text/plain": [
       "reviewerID\n",
       "A100JCBNALJFAW    12\n",
       "A1027EV8A9PV1O     3\n",
       "A102B8D74H64TO     8\n",
       "A102YM3H3O003E     5\n",
       "A103KNDW8GN92L    14\n",
       "                  ..\n",
       "AZXHK8IO25FL6      7\n",
       "AZXTPGNAB366A      5\n",
       "AZXUFTJVXJWL0      5\n",
       "AZYJ9TS07B02W      7\n",
       "AZZ1KF8RAO1BR      6\n",
       "Name: overall, Length: 8351, dtype: int64"
      ]
     },
     "execution_count": 17,
     "metadata": {},
     "output_type": "execute_result"
    }
   ],
   "source": [
    "reviewer_dist_train = train_sample.groupby(['reviewerID'])['overall'].count()\n",
    "reviewer_dist_train"
   ]
  },
  {
   "cell_type": "code",
   "execution_count": 18,
   "metadata": {},
   "outputs": [
    {
     "data": {
      "text/plain": [
       "(0, 100)"
      ]
     },
     "execution_count": 18,
     "metadata": {},
     "output_type": "execute_result"
    },
    {
     "data": {
      "image/png": "[encoded data removed]",
      "text/plain": [
       "<Figure size 432x288 with 1 Axes>"
      ]
     },
     "metadata": {
      "needs_background": "light"
     },
     "output_type": "display_data"
    }
   ],
   "source": [
    "#Number of times each reviewer appeared in training dataset.\n",
    "plt.title('Count Distribution Train')\n",
    "sns.distplot(reviewer_dist_train,kde=False)\n",
    "plt.xlabel('# Appearances')\n",
    "plt.xlim(0,100)"
   ]
  },
  {
   "cell_type": "code",
   "execution_count": 19,
   "metadata": {},
   "outputs": [
    {
     "data": {
      "text/plain": [
       "reviewerID\n",
       "A1027EV8A9PV1O     3\n",
       "A103KNDW8GN92L     9\n",
       "A103QX7NUHBOUF     2\n",
       "A106016KSI0YQ     13\n",
       "A107H3XGCV6Y4Q     1\n",
       "                  ..\n",
       "AZSN1TO0JI87B     31\n",
       "AZUBX0AYYNTFF      9\n",
       "AZXGPM8EKSHE9      2\n",
       "AZXHK8IO25FL6      3\n",
       "AZXUFTJVXJWL0      1\n",
       "Name: overall, Length: 2604, dtype: int64"
      ]
     },
     "execution_count": 19,
     "metadata": {},
     "output_type": "execute_result"
    }
   ],
   "source": [
    "reviewer_dist_test = test_sample.groupby(['reviewerID'])['overall'].count()\n",
    "reviewer_dist_test"
   ]
  },
  {
   "cell_type": "code",
   "execution_count": 20,
   "metadata": {},
   "outputs": [
    {
     "data": {
      "text/plain": [
       "(0, 100)"
      ]
     },
     "execution_count": 20,
     "metadata": {},
     "output_type": "execute_result"
    },
    {
     "data": {
      "image/png": "[encoded data removed]",
      "text/plain": [
       "<Figure size 432x288 with 1 Axes>"
      ]
     },
     "metadata": {
      "needs_background": "light"
     },
     "output_type": "display_data"
    }
   ],
   "source": [
    "plt.title('Count Distribution Test')\n",
    "sns.distplot(reviewer_dist_test,kde=False,)\n",
    "plt.xlabel('# Appearances')\n",
    "plt.xlim(0,100)"
   ]
  }
 ],
 "metadata": {
  "kernelspec": {
   "display_name": "Python 3",
   "language": "python",
   "name": "python3"
  },
  "language_info": {
   "codemirror_mode": {
    "name": "ipython",
    "version": 3
   },
   "file_extension": ".py",
   "mimetype": "text/x-python",
   "name": "python",
   "nbconvert_exporter": "python",
   "pygments_lexer": "ipython3",
   "version": "3.6.10"
  }
 },
 "nbformat": 4,
 "nbformat_minor": 4
}
