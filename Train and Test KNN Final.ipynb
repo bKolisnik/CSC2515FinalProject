{
 "cells": [
  {
   "cell_type": "code",
   "execution_count": 1,
   "metadata": {},
   "outputs": [],
   "source": [
    "import pandas as pd\n",
    "import numpy as np\n",
    "from sklearn.metrics import mean_squared_error\n",
    "from CustomKNN import Hypothesis1\n",
    "from CustomKNN import Hypothesis2\n",
    "from CustomKNN import CustomKNN\n",
    "from CustomKNN import Hypothesis1Version2"
   ]
  },
  {
   "cell_type": "code",
   "execution_count": 2,
   "metadata": {},
   "outputs": [],
   "source": [
    "a = np.load('./preprocessed/collaborative_input/train_STC.npy')\n",
    "b = np.load('./preprocessed/collaborative_input/test_STC.npy')\n",
    "train_sample = pd.read_pickle('./preprocessed/collaborative_input/new_train_sample.pkl')\n",
    "test_sample = pd.read_pickle('./preprocessed/collaborative_input/new_test_sample.pkl')\n",
    "train_sample['STC'] = a\n",
    "test_sample['STC'] = b\n",
    "from sklearn.model_selection import train_test_split\n",
    "\n",
    "val_sample, test_sample = train_test_split(test_sample, test_size=0.5, random_state=42)\n"
   ]
  },
  {
   "cell_type": "code",
   "execution_count": 3,
   "metadata": {},
   "outputs": [],
   "source": [
    "import math\n",
    "#custom grid search for CustomKNN classes\n",
    "def grid_search(model, params_list):\n",
    "    lowest_mse = math.inf\n",
    "    lowest_params = []\n",
    "    if(model is CustomKNN):\n",
    "        m = model(train_sample)\n",
    "    else:\n",
    "        m = model(train_sample, 'STC')\n",
    "        \n",
    "    m.train()\n",
    "    for tup in params_list:\n",
    "        val_sample['predictions'] = val_sample[['reviewerID','movieID']].apply(m.test_real, args=tup, axis=1)\n",
    "        val_loss = mean_squared_error(val_sample['overall'],val_sample['predictions'])\n",
    "        if(val_loss < lowest_mse):\n",
    "            lowest_mse = val_loss\n",
    "            lowest_params = tup\n",
    "    return lowest_params"
   ]
  },
  {
   "cell_type": "code",
   "execution_count": 4,
   "metadata": {},
   "outputs": [
    {
     "data": {
      "text/plain": [
       "(40,)"
      ]
     },
     "execution_count": 4,
     "metadata": {},
     "output_type": "execute_result"
    }
   ],
   "source": [
    "grid_search(CustomKNN, [(5,),(10,),(20,),(40,)])"
   ]
  },
  {
   "cell_type": "code",
   "execution_count": 5,
   "metadata": {},
   "outputs": [
    {
     "data": {
      "text/plain": [
       "(40, 0.15)"
      ]
     },
     "execution_count": 5,
     "metadata": {},
     "output_type": "execute_result"
    }
   ],
   "source": [
    "grid_search(Hypothesis1, [(40, 0.1),(40,0.15),(40,0.20),(40,0.25)])"
   ]
  },
  {
   "cell_type": "code",
   "execution_count": 6,
   "metadata": {},
   "outputs": [
    {
     "data": {
      "text/plain": [
       "(40, 0.25)"
      ]
     },
     "execution_count": 6,
     "metadata": {},
     "output_type": "execute_result"
    }
   ],
   "source": [
    "grid_search(Hypothesis2, [(40, 0.1),(40,0.15),(40,0.20),(40,0.25)])"
   ]
  },
  {
   "cell_type": "code",
   "execution_count": 7,
   "metadata": {},
   "outputs": [
    {
     "data": {
      "text/plain": [
       "(40, 0.1)"
      ]
     },
     "execution_count": 7,
     "metadata": {},
     "output_type": "execute_result"
    }
   ],
   "source": [
    "grid_search(Hypothesis1Version2, [(40, 0.1),(40,0.15),(40,0.20),(40,0.25)])"
   ]
  },
  {
   "cell_type": "code",
   "execution_count": null,
   "metadata": {},
   "outputs": [],
   "source": []
  },
  {
   "cell_type": "code",
   "execution_count": 9,
   "metadata": {},
   "outputs": [
    {
     "data": {
      "text/plain": [
       "1.4590015388498903"
      ]
     },
     "execution_count": 9,
     "metadata": {},
     "output_type": "execute_result"
    }
   ],
   "source": [
    "knn = CustomKNN(train_sample)\n",
    "knn.train()\n",
    "test_sample['predictions'] = test_sample[['reviewerID','movieID']].apply(knn.test_real, args=(40,), axis=1)\n",
    "mean_squared_error(test_sample['overall'],test_sample['predictions'])"
   ]
  },
  {
   "cell_type": "code",
   "execution_count": 10,
   "metadata": {},
   "outputs": [
    {
     "data": {
      "text/plain": [
       "1.4485823536463902"
      ]
     },
     "execution_count": 10,
     "metadata": {},
     "output_type": "execute_result"
    }
   ],
   "source": [
    "knn = Hypothesis1(train_sample, 'STC')\n",
    "knn.train()\n",
    "test_sample['predictions'] = test_sample[['reviewerID','movieID']].apply(knn.test_real, args=(40,0.15), axis=1)\n",
    "mean_squared_error(test_sample['overall'],test_sample['predictions'])"
   ]
  },
  {
   "cell_type": "code",
   "execution_count": 11,
   "metadata": {},
   "outputs": [
    {
     "data": {
      "text/plain": [
       "1.4338662239857467"
      ]
     },
     "execution_count": 11,
     "metadata": {},
     "output_type": "execute_result"
    }
   ],
   "source": [
    "knn = Hypothesis2(train_sample, 'STC')\n",
    "knn.train()\n",
    "test_sample['predictions'] = test_sample[['reviewerID','movieID']].apply(knn.test_real, args=(40,0.25), axis=1)\n",
    "mean_squared_error(test_sample['overall'],test_sample['predictions'])"
   ]
  },
  {
   "cell_type": "code",
   "execution_count": 12,
   "metadata": {},
   "outputs": [
    {
     "data": {
      "text/plain": [
       "1.464892020066456"
      ]
     },
     "execution_count": 12,
     "metadata": {},
     "output_type": "execute_result"
    }
   ],
   "source": [
    "knn = Hypothesis1Version2(train_sample, 'STC')\n",
    "knn.train()\n",
    "test_sample['predictions'] = test_sample[['reviewerID','movieID']].apply(knn.test_real, args=(40,0.1), axis=1)\n",
    "mean_squared_error(test_sample['overall'],test_sample['predictions'])"
   ]
  },
  {
   "cell_type": "code",
   "execution_count": null,
   "metadata": {},
   "outputs": [],
   "source": []
  }
 ],
 "metadata": {
  "kernelspec": {
   "display_name": "Python 3",
   "language": "python",
   "name": "python3"
  },
  "language_info": {
   "codemirror_mode": {
    "name": "ipython",
    "version": 3
   },
   "file_extension": ".py",
   "mimetype": "text/x-python",
   "name": "python",
   "nbconvert_exporter": "python",
   "pygments_lexer": "ipython3",
   "version": "3.6.10"
  }
 },
 "nbformat": 4,
 "nbformat_minor": 4
}
