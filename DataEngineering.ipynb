{
 "cells": [
  {
   "cell_type": "code",
   "execution_count": 1,
   "metadata": {},
   "outputs": [],
   "source": [
    "import pandas as pd\n",
    "import numpy as np\n",
    "import gzip\n",
    "import json"
   ]
  },
  {
   "cell_type": "code",
   "execution_count": 2,
   "metadata": {},
   "outputs": [],
   "source": [
    "def parse(path, num_rows):\n",
    "  g = gzip.open(path, 'rb')\n",
    "  i = 0\n",
    "  for l in g:\n",
    "    yield json.loads(l)\n",
    "    i += 1\n",
    "    if i == num_rows:\n",
    "      break\n",
    "\n",
    "def getDF(path, num_rows):\n",
    "  i = 0\n",
    "  df = {}\n",
    "  for d in parse(path, num_rows):\n",
    "    df[i] = d\n",
    "    i += 1\n",
    "  return pd.DataFrame.from_dict(df, orient='index')\n",
    "\n",
    "#num_rows = 50000\n",
    "df = getDF('./data/reviews_Movies_and_TV_5.json.gz', 1500000)"
   ]
  },
  {
   "cell_type": "code",
   "execution_count": 3,
   "metadata": {},
   "outputs": [],
   "source": [
    "train_sample_size=100000\n",
    "test_sample_size=20000"
   ]
  },
  {
   "cell_type": "code",
   "execution_count": 4,
   "metadata": {},
   "outputs": [],
   "source": [
    "df['reviewText'] = df['reviewText'].str.replace('\"','')\n",
    "df['summary'] = df['summary'].str.replace('\"','')"
   ]
  },
  {
   "cell_type": "code",
   "execution_count": 5,
   "metadata": {},
   "outputs": [],
   "source": [
    "bert_training = df.tail(100000)\n",
    "df = df.head(1400000)"
   ]
  },
  {
   "cell_type": "code",
   "execution_count": 27,
   "metadata": {},
   "outputs": [
    {
     "output_type": "execute_result",
     "data": {
      "text/plain": [
       "                                           review_content  dataSource\n",
       "0       The original cast is back (sans one) and they ...         0.0\n",
       "1       I really enjoyed this movie.Great story line. ...         0.0\n",
       "2       I love this series and this latest one is of c...         0.0\n",
       "3       **1/2Fast Five, so named because it is the fif...         0.0\n",
       "4       Slow to get going but after that.... lots of b...         0.0\n",
       "...                                                   ...         ...\n",
       "199995  Because we haven't been told what to think, th...         1.0\n",
       "199996  It's a rare piece of family entertainment that...         1.0\n",
       "199997  The strength of director Jacques Audiard's fil...         1.0\n",
       "199998  The film is beautiful to look at, rotoscoped w...         1.0\n",
       "199999  It's too bad that Phillips fumbles for comic g...         1.0\n",
       "\n",
       "[200000 rows x 2 columns]"
      ],
      "text/html": "<div>\n<style scoped>\n    .dataframe tbody tr th:only-of-type {\n        vertical-align: middle;\n    }\n\n    .dataframe tbody tr th {\n        vertical-align: top;\n    }\n\n    .dataframe thead th {\n        text-align: right;\n    }\n</style>\n<table border=\"1\" class=\"dataframe\">\n  <thead>\n    <tr style=\"text-align: right;\">\n      <th></th>\n      <th>review_content</th>\n      <th>dataSource</th>\n    </tr>\n  </thead>\n  <tbody>\n    <tr>\n      <th>0</th>\n      <td>The original cast is back (sans one) and they ...</td>\n      <td>0.0</td>\n    </tr>\n    <tr>\n      <th>1</th>\n      <td>I really enjoyed this movie.Great story line. ...</td>\n      <td>0.0</td>\n    </tr>\n    <tr>\n      <th>2</th>\n      <td>I love this series and this latest one is of c...</td>\n      <td>0.0</td>\n    </tr>\n    <tr>\n      <th>3</th>\n      <td>**1/2Fast Five, so named because it is the fif...</td>\n      <td>0.0</td>\n    </tr>\n    <tr>\n      <th>4</th>\n      <td>Slow to get going but after that.... lots of b...</td>\n      <td>0.0</td>\n    </tr>\n    <tr>\n      <th>...</th>\n      <td>...</td>\n      <td>...</td>\n    </tr>\n    <tr>\n      <th>199995</th>\n      <td>Because we haven't been told what to think, th...</td>\n      <td>1.0</td>\n    </tr>\n    <tr>\n      <th>199996</th>\n      <td>It's a rare piece of family entertainment that...</td>\n      <td>1.0</td>\n    </tr>\n    <tr>\n      <th>199997</th>\n      <td>The strength of director Jacques Audiard's fil...</td>\n      <td>1.0</td>\n    </tr>\n    <tr>\n      <th>199998</th>\n      <td>The film is beautiful to look at, rotoscoped w...</td>\n      <td>1.0</td>\n    </tr>\n    <tr>\n      <th>199999</th>\n      <td>It's too bad that Phillips fumbles for comic g...</td>\n      <td>1.0</td>\n    </tr>\n  </tbody>\n</table>\n<p>200000 rows × 2 columns</p>\n</div>"
     },
     "metadata": {},
     "execution_count": 27
    }
   ],
   "source": [
    "# Combine the rotten tomatoes and amazon dataset\n",
    "rotten_df = pd.read_csv('./data/rotten_tomatoes_critic_reviews.csv.zip')\n",
    "rotten_df = rotten_df[rotten_df.critic_name.notna()]\n",
    "rotten_df = rotten_df[rotten_df.review_content.notna()]\n",
    "\n",
    "rotten_df_num_rows = 100000\n",
    "rotten_df = rotten_df[['review_content']].sample(n = rotten_df_num_rows)\n",
    "\n",
    "rotten_df['review_content'] = rotten_df['review_content'].str.replace('\"','')\n",
    "\n",
    "rotten_df['dataSource'] = np.ones(len(rotten_df))\n",
    "bert_training['dataSource'] = np.zeros(len(bert_training))\n",
    "\n",
    "mix_df = bert_training[['reviewText', 'dataSource']]\n",
    "mix_df.columns = ['review_content', 'dataSource']\n",
    "mix_df = mix_df.append(rotten_df, ignore_index = True)\n",
    "\n",
    "mix_df"
   ]
  },
  {
   "cell_type": "code",
   "execution_count": 31,
   "metadata": {},
   "outputs": [],
   "source": [
    "mix_df.to_csv('./preprocessed/bert_input/mix_df.csv')\n",
    "# bert_training.to_pickle('./preprocessed/bert_input/bert_training.pkl')"
   ]
  },
  {
   "cell_type": "code",
   "execution_count": 7,
   "metadata": {},
   "outputs": [
    {
     "output_type": "execute_result",
     "data": {
      "text/plain": [
       "             reviewerID     movieID                         reviewerName  \\\n",
       "0         ADZPIG9QOCDG5  0005019281  Alice L. Larson \"alice-loves-books\"   \n",
       "1        A35947ZP82G7JH  0005019281                        Amarah Strack   \n",
       "2        A3UORV8A9D5L2E  0005019281                      Amazon Customer   \n",
       "3        A1VKW06X1O2X7V  0005019281           Amazon Customer \"Softmill\"   \n",
       "4        A3R27T4HADWFFJ  0005019281                                 BABE   \n",
       "...                 ...         ...                                  ...   \n",
       "1399995  A13IAD6WL2Y8D0  B004EPYZQC                                Revae   \n",
       "1399996  A3OBJ6YTIK70LJ  B004EPYZQC                   ricky norris \"sly\"   \n",
       "1399997  A2GISQ90CZVKZC  B004EPYZQC                                  RKG   \n",
       "1399998  A218E0QIPUKP4B  B004EPYZQC         R. M. Bigger \"dragon keeper\"   \n",
       "1399999   ABIQD08BCPPY8  B004EPYZQC               Roberta A. Santa Croce   \n",
       "\n",
       "        helpful                                         reviewText  overall  \\\n",
       "0        [0, 0]  This is a charming version of the classic Dick...      4.0   \n",
       "1        [0, 0]  It was good but not as emotionally moving as t...      3.0   \n",
       "2        [0, 0]  Don't get me wrong, Winkler is a wonderful cha...      3.0   \n",
       "3        [0, 0]  Henry Winkler is very good in this twist on th...      5.0   \n",
       "4        [0, 0]  This is one of the best Scrooge movies out.  H...      4.0   \n",
       "...         ...                                                ...      ...   \n",
       "1399995  [1, 1]  Let me preface this review by saying that if y...      5.0   \n",
       "1399996  [0, 0]  I have seen a lot of movies involving a bank r...      5.0   \n",
       "1399997  [0, 0]  It is hard to review a song or video... what c...      5.0   \n",
       "1399998  [0, 0]  I liked it.  You get exactly what you expect f...      4.0   \n",
       "1399999  [0, 0]  WHOA!  YUMMY!  If you're a guy my guess is you...      5.0   \n",
       "\n",
       "                                              summary  unixReviewTime  \\\n",
       "0                           good version of a classic      1203984000   \n",
       "1                              Good but not as moving      1388361600   \n",
       "2               Winkler's Performance was ok at best!      1388361600   \n",
       "3        It's an enjoyable twist on the classic story      1202860800   \n",
       "4                                    Best Scrooge yet      1387670400   \n",
       "...                                               ...             ...   \n",
       "1399995                     My favorite of the movies      1322438400   \n",
       "1399996                     THE FAST vs. THE FURIOUS.      1378857600   \n",
       "1399997                                      Love it.      1370131200   \n",
       "1399998                           Very action packed.      1356480000   \n",
       "1399999                       Vin Diesel and the Rock      1376092800   \n",
       "\n",
       "          reviewTime  \n",
       "0        02 26, 2008  \n",
       "1        12 30, 2013  \n",
       "2        12 30, 2013  \n",
       "3        02 13, 2008  \n",
       "4        12 22, 2013  \n",
       "...              ...  \n",
       "1399995  11 28, 2011  \n",
       "1399996  09 11, 2013  \n",
       "1399997   06 2, 2013  \n",
       "1399998  12 26, 2012  \n",
       "1399999  08 10, 2013  \n",
       "\n",
       "[1400000 rows x 9 columns]"
      ],
      "text/html": "<div>\n<style scoped>\n    .dataframe tbody tr th:only-of-type {\n        vertical-align: middle;\n    }\n\n    .dataframe tbody tr th {\n        vertical-align: top;\n    }\n\n    .dataframe thead th {\n        text-align: right;\n    }\n</style>\n<table border=\"1\" class=\"dataframe\">\n  <thead>\n    <tr style=\"text-align: right;\">\n      <th></th>\n      <th>reviewerID</th>\n      <th>movieID</th>\n      <th>reviewerName</th>\n      <th>helpful</th>\n      <th>reviewText</th>\n      <th>overall</th>\n      <th>summary</th>\n      <th>unixReviewTime</th>\n      <th>reviewTime</th>\n    </tr>\n  </thead>\n  <tbody>\n    <tr>\n      <th>0</th>\n      <td>ADZPIG9QOCDG5</td>\n      <td>0005019281</td>\n      <td>Alice L. Larson \"alice-loves-books\"</td>\n      <td>[0, 0]</td>\n      <td>This is a charming version of the classic Dick...</td>\n      <td>4.0</td>\n      <td>good version of a classic</td>\n      <td>1203984000</td>\n      <td>02 26, 2008</td>\n    </tr>\n    <tr>\n      <th>1</th>\n      <td>A35947ZP82G7JH</td>\n      <td>0005019281</td>\n      <td>Amarah Strack</td>\n      <td>[0, 0]</td>\n      <td>It was good but not as emotionally moving as t...</td>\n      <td>3.0</td>\n      <td>Good but not as moving</td>\n      <td>1388361600</td>\n      <td>12 30, 2013</td>\n    </tr>\n    <tr>\n      <th>2</th>\n      <td>A3UORV8A9D5L2E</td>\n      <td>0005019281</td>\n      <td>Amazon Customer</td>\n      <td>[0, 0]</td>\n      <td>Don't get me wrong, Winkler is a wonderful cha...</td>\n      <td>3.0</td>\n      <td>Winkler's Performance was ok at best!</td>\n      <td>1388361600</td>\n      <td>12 30, 2013</td>\n    </tr>\n    <tr>\n      <th>3</th>\n      <td>A1VKW06X1O2X7V</td>\n      <td>0005019281</td>\n      <td>Amazon Customer \"Softmill\"</td>\n      <td>[0, 0]</td>\n      <td>Henry Winkler is very good in this twist on th...</td>\n      <td>5.0</td>\n      <td>It's an enjoyable twist on the classic story</td>\n      <td>1202860800</td>\n      <td>02 13, 2008</td>\n    </tr>\n    <tr>\n      <th>4</th>\n      <td>A3R27T4HADWFFJ</td>\n      <td>0005019281</td>\n      <td>BABE</td>\n      <td>[0, 0]</td>\n      <td>This is one of the best Scrooge movies out.  H...</td>\n      <td>4.0</td>\n      <td>Best Scrooge yet</td>\n      <td>1387670400</td>\n      <td>12 22, 2013</td>\n    </tr>\n    <tr>\n      <th>...</th>\n      <td>...</td>\n      <td>...</td>\n      <td>...</td>\n      <td>...</td>\n      <td>...</td>\n      <td>...</td>\n      <td>...</td>\n      <td>...</td>\n      <td>...</td>\n    </tr>\n    <tr>\n      <th>1399995</th>\n      <td>A13IAD6WL2Y8D0</td>\n      <td>B004EPYZQC</td>\n      <td>Revae</td>\n      <td>[1, 1]</td>\n      <td>Let me preface this review by saying that if y...</td>\n      <td>5.0</td>\n      <td>My favorite of the movies</td>\n      <td>1322438400</td>\n      <td>11 28, 2011</td>\n    </tr>\n    <tr>\n      <th>1399996</th>\n      <td>A3OBJ6YTIK70LJ</td>\n      <td>B004EPYZQC</td>\n      <td>ricky norris \"sly\"</td>\n      <td>[0, 0]</td>\n      <td>I have seen a lot of movies involving a bank r...</td>\n      <td>5.0</td>\n      <td>THE FAST vs. THE FURIOUS.</td>\n      <td>1378857600</td>\n      <td>09 11, 2013</td>\n    </tr>\n    <tr>\n      <th>1399997</th>\n      <td>A2GISQ90CZVKZC</td>\n      <td>B004EPYZQC</td>\n      <td>RKG</td>\n      <td>[0, 0]</td>\n      <td>It is hard to review a song or video... what c...</td>\n      <td>5.0</td>\n      <td>Love it.</td>\n      <td>1370131200</td>\n      <td>06 2, 2013</td>\n    </tr>\n    <tr>\n      <th>1399998</th>\n      <td>A218E0QIPUKP4B</td>\n      <td>B004EPYZQC</td>\n      <td>R. M. Bigger \"dragon keeper\"</td>\n      <td>[0, 0]</td>\n      <td>I liked it.  You get exactly what you expect f...</td>\n      <td>4.0</td>\n      <td>Very action packed.</td>\n      <td>1356480000</td>\n      <td>12 26, 2012</td>\n    </tr>\n    <tr>\n      <th>1399999</th>\n      <td>ABIQD08BCPPY8</td>\n      <td>B004EPYZQC</td>\n      <td>Roberta A. Santa Croce</td>\n      <td>[0, 0]</td>\n      <td>WHOA!  YUMMY!  If you're a guy my guess is you...</td>\n      <td>5.0</td>\n      <td>Vin Diesel and the Rock</td>\n      <td>1376092800</td>\n      <td>08 10, 2013</td>\n    </tr>\n  </tbody>\n</table>\n<p>1400000 rows × 9 columns</p>\n</div>"
     },
     "metadata": {},
     "execution_count": 7
    }
   ],
   "source": [
    "df = df.rename(columns={'asin':'movieID'})\n",
    "df"
   ]
  },
  {
   "cell_type": "code",
   "execution_count": 8,
   "metadata": {},
   "outputs": [],
   "source": [
    "df = df.groupby(['reviewerID']).filter(lambda x: len(x) >= 5)"
   ]
  },
  {
   "cell_type": "code",
   "execution_count": 9,
   "metadata": {},
   "outputs": [],
   "source": [
    "df['reviewTime'] = pd.to_datetime(df['reviewTime'])"
   ]
  },
  {
   "cell_type": "code",
   "execution_count": 10,
   "metadata": {},
   "outputs": [
    {
     "output_type": "execute_result",
     "data": {
      "text/plain": [
       "             reviewerID     movieID                    reviewerName helpful  \\\n",
       "263519   A1127LKNR08JJK  630174411X              acwpython@juno.com  [0, 4]   \n",
       "17471    A1127LKNR08JJK  0767824571              acwpython@juno.com  [0, 0]   \n",
       "49404    A1127LKNR08JJK  0783222068              acwpython@juno.com  [0, 0]   \n",
       "26150    A1127LKNR08JJK  0780022181              acwpython@juno.com  [1, 2]   \n",
       "355639   A1127LKNR08JJK  6303094880              acwpython@juno.com  [2, 3]   \n",
       "...                 ...         ...                             ...     ...   \n",
       "226605    AX3YHACFZOI40  6300247406                             NaN  [0, 0]   \n",
       "786104    AX3YHACFZOI40  B0000VCZMK                             NaN  [0, 0]   \n",
       "305722    AX3YHACFZOI40  6302283612                             NaN  [0, 0]   \n",
       "492742    AX3YHACFZOI40  B000005XN6                             NaN  [0, 0]   \n",
       "1056025  A336FCPK8ZVMYT  B000NDDU1K  Gerald Williams \"booklistener\"  [0, 0]   \n",
       "\n",
       "                                                reviewText  overall  \\\n",
       "263519   The movie was ok but it did lack a few things....      4.0   \n",
       "17471    This movie rules.  It has humor, love, suspens...      5.0   \n",
       "49404    HA HA HA!!! THose were the first words anyone ...      5.0   \n",
       "26150    This is one of the best movies in the world.  ...      5.0   \n",
       "355639   This is so funny.  It has a lot of good jokes ...      5.0   \n",
       "...                                                    ...      ...   \n",
       "226605                                     funny and weird      5.0   \n",
       "786104                                gross but funny too!      5.0   \n",
       "305722                                   scary great movie      5.0   \n",
       "492742             took 30 years to find.  worth the wait!      5.0   \n",
       "1056025                 Old people like me need subtitles.      4.0   \n",
       "\n",
       "                      summary  unixReviewTime reviewTime  \n",
       "263519                  GREAT       879379200 1997-11-13  \n",
       "17471      Best Movie Ever!!!       879465600 1997-11-14  \n",
       "49404               Hilarious       879465600 1997-11-14  \n",
       "26150    This should get a 15       879897600 1997-11-19  \n",
       "355639                Awesome       879897600 1997-11-19  \n",
       "...                       ...             ...        ...  \n",
       "226605             Five Stars      1405900800 2014-07-21  \n",
       "786104             Five Stars      1405900800 2014-07-21  \n",
       "305722             Five Stars      1405900800 2014-07-21  \n",
       "492742             Five Stars      1405900800 2014-07-21  \n",
       "1056025            Four Stars      1405987200 2014-07-22  \n",
       "\n",
       "[1303092 rows x 9 columns]"
      ],
      "text/html": "<div>\n<style scoped>\n    .dataframe tbody tr th:only-of-type {\n        vertical-align: middle;\n    }\n\n    .dataframe tbody tr th {\n        vertical-align: top;\n    }\n\n    .dataframe thead th {\n        text-align: right;\n    }\n</style>\n<table border=\"1\" class=\"dataframe\">\n  <thead>\n    <tr style=\"text-align: right;\">\n      <th></th>\n      <th>reviewerID</th>\n      <th>movieID</th>\n      <th>reviewerName</th>\n      <th>helpful</th>\n      <th>reviewText</th>\n      <th>overall</th>\n      <th>summary</th>\n      <th>unixReviewTime</th>\n      <th>reviewTime</th>\n    </tr>\n  </thead>\n  <tbody>\n    <tr>\n      <th>263519</th>\n      <td>A1127LKNR08JJK</td>\n      <td>630174411X</td>\n      <td>acwpython@juno.com</td>\n      <td>[0, 4]</td>\n      <td>The movie was ok but it did lack a few things....</td>\n      <td>4.0</td>\n      <td>GREAT</td>\n      <td>879379200</td>\n      <td>1997-11-13</td>\n    </tr>\n    <tr>\n      <th>17471</th>\n      <td>A1127LKNR08JJK</td>\n      <td>0767824571</td>\n      <td>acwpython@juno.com</td>\n      <td>[0, 0]</td>\n      <td>This movie rules.  It has humor, love, suspens...</td>\n      <td>5.0</td>\n      <td>Best Movie Ever!!!</td>\n      <td>879465600</td>\n      <td>1997-11-14</td>\n    </tr>\n    <tr>\n      <th>49404</th>\n      <td>A1127LKNR08JJK</td>\n      <td>0783222068</td>\n      <td>acwpython@juno.com</td>\n      <td>[0, 0]</td>\n      <td>HA HA HA!!! THose were the first words anyone ...</td>\n      <td>5.0</td>\n      <td>Hilarious</td>\n      <td>879465600</td>\n      <td>1997-11-14</td>\n    </tr>\n    <tr>\n      <th>26150</th>\n      <td>A1127LKNR08JJK</td>\n      <td>0780022181</td>\n      <td>acwpython@juno.com</td>\n      <td>[1, 2]</td>\n      <td>This is one of the best movies in the world.  ...</td>\n      <td>5.0</td>\n      <td>This should get a 15</td>\n      <td>879897600</td>\n      <td>1997-11-19</td>\n    </tr>\n    <tr>\n      <th>355639</th>\n      <td>A1127LKNR08JJK</td>\n      <td>6303094880</td>\n      <td>acwpython@juno.com</td>\n      <td>[2, 3]</td>\n      <td>This is so funny.  It has a lot of good jokes ...</td>\n      <td>5.0</td>\n      <td>Awesome</td>\n      <td>879897600</td>\n      <td>1997-11-19</td>\n    </tr>\n    <tr>\n      <th>...</th>\n      <td>...</td>\n      <td>...</td>\n      <td>...</td>\n      <td>...</td>\n      <td>...</td>\n      <td>...</td>\n      <td>...</td>\n      <td>...</td>\n      <td>...</td>\n    </tr>\n    <tr>\n      <th>226605</th>\n      <td>AX3YHACFZOI40</td>\n      <td>6300247406</td>\n      <td>NaN</td>\n      <td>[0, 0]</td>\n      <td>funny and weird</td>\n      <td>5.0</td>\n      <td>Five Stars</td>\n      <td>1405900800</td>\n      <td>2014-07-21</td>\n    </tr>\n    <tr>\n      <th>786104</th>\n      <td>AX3YHACFZOI40</td>\n      <td>B0000VCZMK</td>\n      <td>NaN</td>\n      <td>[0, 0]</td>\n      <td>gross but funny too!</td>\n      <td>5.0</td>\n      <td>Five Stars</td>\n      <td>1405900800</td>\n      <td>2014-07-21</td>\n    </tr>\n    <tr>\n      <th>305722</th>\n      <td>AX3YHACFZOI40</td>\n      <td>6302283612</td>\n      <td>NaN</td>\n      <td>[0, 0]</td>\n      <td>scary great movie</td>\n      <td>5.0</td>\n      <td>Five Stars</td>\n      <td>1405900800</td>\n      <td>2014-07-21</td>\n    </tr>\n    <tr>\n      <th>492742</th>\n      <td>AX3YHACFZOI40</td>\n      <td>B000005XN6</td>\n      <td>NaN</td>\n      <td>[0, 0]</td>\n      <td>took 30 years to find.  worth the wait!</td>\n      <td>5.0</td>\n      <td>Five Stars</td>\n      <td>1405900800</td>\n      <td>2014-07-21</td>\n    </tr>\n    <tr>\n      <th>1056025</th>\n      <td>A336FCPK8ZVMYT</td>\n      <td>B000NDDU1K</td>\n      <td>Gerald Williams \"booklistener\"</td>\n      <td>[0, 0]</td>\n      <td>Old people like me need subtitles.</td>\n      <td>4.0</td>\n      <td>Four Stars</td>\n      <td>1405987200</td>\n      <td>2014-07-22</td>\n    </tr>\n  </tbody>\n</table>\n<p>1303092 rows × 9 columns</p>\n</div>"
     },
     "metadata": {},
     "execution_count": 10
    }
   ],
   "source": [
    "df = df.sort_values(by='reviewTime')\n",
    "df"
   ]
  },
  {
   "cell_type": "code",
   "execution_count": 11,
   "metadata": {},
   "outputs": [
    {
     "output_type": "execute_result",
     "data": {
      "text/plain": [
       "263519     0\n",
       "17471      1\n",
       "49404      2\n",
       "26150      3\n",
       "355639     4\n",
       "          ..\n",
       "226605     4\n",
       "786104     5\n",
       "305722     6\n",
       "492742     7\n",
       "1056025    7\n",
       "Length: 1303092, dtype: int64"
      ]
     },
     "metadata": {},
     "execution_count": 11
    }
   ],
   "source": [
    "df.groupby('reviewerID').cumcount()"
   ]
  },
  {
   "cell_type": "code",
   "execution_count": 12,
   "metadata": {},
   "outputs": [],
   "source": [
    "df['reviewer_count'] = df.groupby('reviewerID').cumcount()"
   ]
  },
  {
   "cell_type": "code",
   "execution_count": 13,
   "metadata": {},
   "outputs": [
    {
     "output_type": "execute_result",
     "data": {
      "text/plain": [
       "            reviewerID     movieID        reviewerName helpful  \\\n",
       "263519  A1127LKNR08JJK  630174411X  acwpython@juno.com  [0, 4]   \n",
       "17471   A1127LKNR08JJK  0767824571  acwpython@juno.com  [0, 0]   \n",
       "49404   A1127LKNR08JJK  0783222068  acwpython@juno.com  [0, 0]   \n",
       "26150   A1127LKNR08JJK  0780022181  acwpython@juno.com  [1, 2]   \n",
       "355639  A1127LKNR08JJK  6303094880  acwpython@juno.com  [2, 3]   \n",
       "\n",
       "                                               reviewText  overall  \\\n",
       "263519  The movie was ok but it did lack a few things....      4.0   \n",
       "17471   This movie rules.  It has humor, love, suspens...      5.0   \n",
       "49404   HA HA HA!!! THose were the first words anyone ...      5.0   \n",
       "26150   This is one of the best movies in the world.  ...      5.0   \n",
       "355639  This is so funny.  It has a lot of good jokes ...      5.0   \n",
       "\n",
       "                     summary  unixReviewTime reviewTime  reviewer_count  \n",
       "263519                 GREAT       879379200 1997-11-13               0  \n",
       "17471     Best Movie Ever!!!       879465600 1997-11-14               1  \n",
       "49404              Hilarious       879465600 1997-11-14               2  \n",
       "26150   This should get a 15       879897600 1997-11-19               3  \n",
       "355639               Awesome       879897600 1997-11-19               4  "
      ],
      "text/html": "<div>\n<style scoped>\n    .dataframe tbody tr th:only-of-type {\n        vertical-align: middle;\n    }\n\n    .dataframe tbody tr th {\n        vertical-align: top;\n    }\n\n    .dataframe thead th {\n        text-align: right;\n    }\n</style>\n<table border=\"1\" class=\"dataframe\">\n  <thead>\n    <tr style=\"text-align: right;\">\n      <th></th>\n      <th>reviewerID</th>\n      <th>movieID</th>\n      <th>reviewerName</th>\n      <th>helpful</th>\n      <th>reviewText</th>\n      <th>overall</th>\n      <th>summary</th>\n      <th>unixReviewTime</th>\n      <th>reviewTime</th>\n      <th>reviewer_count</th>\n    </tr>\n  </thead>\n  <tbody>\n    <tr>\n      <th>263519</th>\n      <td>A1127LKNR08JJK</td>\n      <td>630174411X</td>\n      <td>acwpython@juno.com</td>\n      <td>[0, 4]</td>\n      <td>The movie was ok but it did lack a few things....</td>\n      <td>4.0</td>\n      <td>GREAT</td>\n      <td>879379200</td>\n      <td>1997-11-13</td>\n      <td>0</td>\n    </tr>\n    <tr>\n      <th>17471</th>\n      <td>A1127LKNR08JJK</td>\n      <td>0767824571</td>\n      <td>acwpython@juno.com</td>\n      <td>[0, 0]</td>\n      <td>This movie rules.  It has humor, love, suspens...</td>\n      <td>5.0</td>\n      <td>Best Movie Ever!!!</td>\n      <td>879465600</td>\n      <td>1997-11-14</td>\n      <td>1</td>\n    </tr>\n    <tr>\n      <th>49404</th>\n      <td>A1127LKNR08JJK</td>\n      <td>0783222068</td>\n      <td>acwpython@juno.com</td>\n      <td>[0, 0]</td>\n      <td>HA HA HA!!! THose were the first words anyone ...</td>\n      <td>5.0</td>\n      <td>Hilarious</td>\n      <td>879465600</td>\n      <td>1997-11-14</td>\n      <td>2</td>\n    </tr>\n    <tr>\n      <th>26150</th>\n      <td>A1127LKNR08JJK</td>\n      <td>0780022181</td>\n      <td>acwpython@juno.com</td>\n      <td>[1, 2]</td>\n      <td>This is one of the best movies in the world.  ...</td>\n      <td>5.0</td>\n      <td>This should get a 15</td>\n      <td>879897600</td>\n      <td>1997-11-19</td>\n      <td>3</td>\n    </tr>\n    <tr>\n      <th>355639</th>\n      <td>A1127LKNR08JJK</td>\n      <td>6303094880</td>\n      <td>acwpython@juno.com</td>\n      <td>[2, 3]</td>\n      <td>This is so funny.  It has a lot of good jokes ...</td>\n      <td>5.0</td>\n      <td>Awesome</td>\n      <td>879897600</td>\n      <td>1997-11-19</td>\n      <td>4</td>\n    </tr>\n  </tbody>\n</table>\n</div>"
     },
     "metadata": {},
     "execution_count": 13
    }
   ],
   "source": [
    "df.head(5)"
   ]
  },
  {
   "cell_type": "code",
   "execution_count": 14,
   "metadata": {},
   "outputs": [],
   "source": [
    "train = df.loc[df['reviewer_count']<5]\n",
    "test = df.loc[df['reviewer_count']>=5]"
   ]
  },
  {
   "cell_type": "code",
   "execution_count": 15,
   "metadata": {},
   "outputs": [
    {
     "output_type": "execute_result",
     "data": {
      "text/plain": [
       "            reviewerID     movieID        reviewerName helpful  \\\n",
       "0       A1127LKNR08JJK  630174411X  acwpython@juno.com  [0, 4]   \n",
       "1       A1127LKNR08JJK  0767824571  acwpython@juno.com  [0, 0]   \n",
       "2       A1127LKNR08JJK  0783222068  acwpython@juno.com  [0, 0]   \n",
       "3       A1127LKNR08JJK  0780022181  acwpython@juno.com  [1, 2]   \n",
       "4       A1127LKNR08JJK  6303094880  acwpython@juno.com  [2, 3]   \n",
       "...                ...         ...                 ...     ...   \n",
       "448565   AX3YHACFZOI40  B000058TIE                 NaN  [0, 0]   \n",
       "448566   AX3YHACFZOI40  B0000542CM                 NaN  [0, 0]   \n",
       "448567   AX3YHACFZOI40  0792843606                 NaN  [0, 0]   \n",
       "448568   AX3YHACFZOI40  6303588980                 NaN  [0, 0]   \n",
       "448569   AX3YHACFZOI40  6300247406                 NaN  [0, 0]   \n",
       "\n",
       "                                               reviewText  overall  \\\n",
       "0       The movie was ok but it did lack a few things....      4.0   \n",
       "1       This movie rules.  It has humor, love, suspens...      5.0   \n",
       "2       HA HA HA!!! THose were the first words anyone ...      5.0   \n",
       "3       This is one of the best movies in the world.  ...      5.0   \n",
       "4       This is so funny.  It has a lot of good jokes ...      5.0   \n",
       "...                                                   ...      ...   \n",
       "448565                                             funny!      5.0   \n",
       "448566                                        love him!!!      5.0   \n",
       "448567                                great classic movie      5.0   \n",
       "448568                                          fun movie      5.0   \n",
       "448569                                    funny and weird      5.0   \n",
       "\n",
       "                     summary  unixReviewTime reviewTime  reviewer_count  \n",
       "0                      GREAT       879379200 1997-11-13               0  \n",
       "1         Best Movie Ever!!!       879465600 1997-11-14               1  \n",
       "2                  Hilarious       879465600 1997-11-14               2  \n",
       "3       This should get a 15       879897600 1997-11-19               3  \n",
       "4                    Awesome       879897600 1997-11-19               4  \n",
       "...                      ...             ...        ...             ...  \n",
       "448565            Five Stars      1405900800 2014-07-21               0  \n",
       "448566            Five Stars      1405900800 2014-07-21               1  \n",
       "448567            Five Stars      1405900800 2014-07-21               2  \n",
       "448568            Five Stars      1405900800 2014-07-21               3  \n",
       "448569            Five Stars      1405900800 2014-07-21               4  \n",
       "\n",
       "[448570 rows x 10 columns]"
      ],
      "text/html": "<div>\n<style scoped>\n    .dataframe tbody tr th:only-of-type {\n        vertical-align: middle;\n    }\n\n    .dataframe tbody tr th {\n        vertical-align: top;\n    }\n\n    .dataframe thead th {\n        text-align: right;\n    }\n</style>\n<table border=\"1\" class=\"dataframe\">\n  <thead>\n    <tr style=\"text-align: right;\">\n      <th></th>\n      <th>reviewerID</th>\n      <th>movieID</th>\n      <th>reviewerName</th>\n      <th>helpful</th>\n      <th>reviewText</th>\n      <th>overall</th>\n      <th>summary</th>\n      <th>unixReviewTime</th>\n      <th>reviewTime</th>\n      <th>reviewer_count</th>\n    </tr>\n  </thead>\n  <tbody>\n    <tr>\n      <th>0</th>\n      <td>A1127LKNR08JJK</td>\n      <td>630174411X</td>\n      <td>acwpython@juno.com</td>\n      <td>[0, 4]</td>\n      <td>The movie was ok but it did lack a few things....</td>\n      <td>4.0</td>\n      <td>GREAT</td>\n      <td>879379200</td>\n      <td>1997-11-13</td>\n      <td>0</td>\n    </tr>\n    <tr>\n      <th>1</th>\n      <td>A1127LKNR08JJK</td>\n      <td>0767824571</td>\n      <td>acwpython@juno.com</td>\n      <td>[0, 0]</td>\n      <td>This movie rules.  It has humor, love, suspens...</td>\n      <td>5.0</td>\n      <td>Best Movie Ever!!!</td>\n      <td>879465600</td>\n      <td>1997-11-14</td>\n      <td>1</td>\n    </tr>\n    <tr>\n      <th>2</th>\n      <td>A1127LKNR08JJK</td>\n      <td>0783222068</td>\n      <td>acwpython@juno.com</td>\n      <td>[0, 0]</td>\n      <td>HA HA HA!!! THose were the first words anyone ...</td>\n      <td>5.0</td>\n      <td>Hilarious</td>\n      <td>879465600</td>\n      <td>1997-11-14</td>\n      <td>2</td>\n    </tr>\n    <tr>\n      <th>3</th>\n      <td>A1127LKNR08JJK</td>\n      <td>0780022181</td>\n      <td>acwpython@juno.com</td>\n      <td>[1, 2]</td>\n      <td>This is one of the best movies in the world.  ...</td>\n      <td>5.0</td>\n      <td>This should get a 15</td>\n      <td>879897600</td>\n      <td>1997-11-19</td>\n      <td>3</td>\n    </tr>\n    <tr>\n      <th>4</th>\n      <td>A1127LKNR08JJK</td>\n      <td>6303094880</td>\n      <td>acwpython@juno.com</td>\n      <td>[2, 3]</td>\n      <td>This is so funny.  It has a lot of good jokes ...</td>\n      <td>5.0</td>\n      <td>Awesome</td>\n      <td>879897600</td>\n      <td>1997-11-19</td>\n      <td>4</td>\n    </tr>\n    <tr>\n      <th>...</th>\n      <td>...</td>\n      <td>...</td>\n      <td>...</td>\n      <td>...</td>\n      <td>...</td>\n      <td>...</td>\n      <td>...</td>\n      <td>...</td>\n      <td>...</td>\n      <td>...</td>\n    </tr>\n    <tr>\n      <th>448565</th>\n      <td>AX3YHACFZOI40</td>\n      <td>B000058TIE</td>\n      <td>NaN</td>\n      <td>[0, 0]</td>\n      <td>funny!</td>\n      <td>5.0</td>\n      <td>Five Stars</td>\n      <td>1405900800</td>\n      <td>2014-07-21</td>\n      <td>0</td>\n    </tr>\n    <tr>\n      <th>448566</th>\n      <td>AX3YHACFZOI40</td>\n      <td>B0000542CM</td>\n      <td>NaN</td>\n      <td>[0, 0]</td>\n      <td>love him!!!</td>\n      <td>5.0</td>\n      <td>Five Stars</td>\n      <td>1405900800</td>\n      <td>2014-07-21</td>\n      <td>1</td>\n    </tr>\n    <tr>\n      <th>448567</th>\n      <td>AX3YHACFZOI40</td>\n      <td>0792843606</td>\n      <td>NaN</td>\n      <td>[0, 0]</td>\n      <td>great classic movie</td>\n      <td>5.0</td>\n      <td>Five Stars</td>\n      <td>1405900800</td>\n      <td>2014-07-21</td>\n      <td>2</td>\n    </tr>\n    <tr>\n      <th>448568</th>\n      <td>AX3YHACFZOI40</td>\n      <td>6303588980</td>\n      <td>NaN</td>\n      <td>[0, 0]</td>\n      <td>fun movie</td>\n      <td>5.0</td>\n      <td>Five Stars</td>\n      <td>1405900800</td>\n      <td>2014-07-21</td>\n      <td>3</td>\n    </tr>\n    <tr>\n      <th>448569</th>\n      <td>AX3YHACFZOI40</td>\n      <td>6300247406</td>\n      <td>NaN</td>\n      <td>[0, 0]</td>\n      <td>funny and weird</td>\n      <td>5.0</td>\n      <td>Five Stars</td>\n      <td>1405900800</td>\n      <td>2014-07-21</td>\n      <td>4</td>\n    </tr>\n  </tbody>\n</table>\n<p>448570 rows × 10 columns</p>\n</div>"
     },
     "metadata": {},
     "execution_count": 15
    }
   ],
   "source": [
    "train = train.reset_index(drop=True)\n",
    "train"
   ]
  },
  {
   "cell_type": "code",
   "execution_count": 16,
   "metadata": {},
   "outputs": [
    {
     "output_type": "execute_result",
     "data": {
      "text/plain": [
       "            reviewerID     movieID                           reviewerName  \\\n",
       "0       A1127LKNR08JJK  6302952727                     acwpython@juno.com   \n",
       "1       A1127LKNR08JJK  6300248526                     acwpython@juno.com   \n",
       "2       A1127LKNR08JJK  079283318X                     acwpython@juno.com   \n",
       "3       A25W58TZK09YET  079074774X  Charles Culbertson (cculbert@cfw.com)   \n",
       "4       A25W58TZK09YET  6302682606  Charles Culbertson (cculbert@cfw.com)   \n",
       "...                ...         ...                                    ...   \n",
       "854517  A11YIHB6IW352W  B00006FDHI                Theodore J. Jackson Sr.   \n",
       "854518   AX3YHACFZOI40  B0000VCZMK                                    NaN   \n",
       "854519   AX3YHACFZOI40  6302283612                                    NaN   \n",
       "854520   AX3YHACFZOI40  B000005XN6                                    NaN   \n",
       "854521  A336FCPK8ZVMYT  B000NDDU1K         Gerald Williams \"booklistener\"   \n",
       "\n",
       "         helpful                                         reviewText  overall  \\\n",
       "0        [2, 51]  THis is the shortest movie but the funniest.  ...      5.0   \n",
       "1         [0, 4]  This is one of the greatest shows i have ever ...      5.0   \n",
       "2         [0, 0]  This is the best 007 movie ever.  It has a lot...      5.0   \n",
       "3       [13, 14]  Errol Flynn made several films about World War...      5.0   \n",
       "4       [56, 59]  &quot;The Edge of Darkness&quot; is one of the...      5.0   \n",
       "...          ...                                                ...      ...   \n",
       "854517    [0, 0]  One of my favorite movies. Have watched it sev...      5.0   \n",
       "854518    [0, 0]                               gross but funny too!      5.0   \n",
       "854519    [0, 0]                                  scary great movie      5.0   \n",
       "854520    [0, 0]            took 30 years to find.  worth the wait!      5.0   \n",
       "854521    [0, 0]                 Old people like me need subtitles.      4.0   \n",
       "\n",
       "                                 summary  unixReviewTime reviewTime  \\\n",
       "0                                     no       879897600 1997-11-19   \n",
       "1       why do we have to fill this out?       879897600 1997-11-19   \n",
       "2                             Suspensful       882489600 1997-12-19   \n",
       "3               Exceptional Combat Drama       892771200 1998-04-17   \n",
       "4            Gripping World War II Drama       892771200 1998-04-17   \n",
       "...                                  ...             ...        ...   \n",
       "854517                        Five Stars      1405900800 2014-07-21   \n",
       "854518                        Five Stars      1405900800 2014-07-21   \n",
       "854519                        Five Stars      1405900800 2014-07-21   \n",
       "854520                        Five Stars      1405900800 2014-07-21   \n",
       "854521                        Four Stars      1405987200 2014-07-22   \n",
       "\n",
       "        reviewer_count  \n",
       "0                    5  \n",
       "1                    6  \n",
       "2                    7  \n",
       "3                    5  \n",
       "4                    6  \n",
       "...                ...  \n",
       "854517              21  \n",
       "854518               5  \n",
       "854519               6  \n",
       "854520               7  \n",
       "854521               7  \n",
       "\n",
       "[854522 rows x 10 columns]"
      ],
      "text/html": "<div>\n<style scoped>\n    .dataframe tbody tr th:only-of-type {\n        vertical-align: middle;\n    }\n\n    .dataframe tbody tr th {\n        vertical-align: top;\n    }\n\n    .dataframe thead th {\n        text-align: right;\n    }\n</style>\n<table border=\"1\" class=\"dataframe\">\n  <thead>\n    <tr style=\"text-align: right;\">\n      <th></th>\n      <th>reviewerID</th>\n      <th>movieID</th>\n      <th>reviewerName</th>\n      <th>helpful</th>\n      <th>reviewText</th>\n      <th>overall</th>\n      <th>summary</th>\n      <th>unixReviewTime</th>\n      <th>reviewTime</th>\n      <th>reviewer_count</th>\n    </tr>\n  </thead>\n  <tbody>\n    <tr>\n      <th>0</th>\n      <td>A1127LKNR08JJK</td>\n      <td>6302952727</td>\n      <td>acwpython@juno.com</td>\n      <td>[2, 51]</td>\n      <td>THis is the shortest movie but the funniest.  ...</td>\n      <td>5.0</td>\n      <td>no</td>\n      <td>879897600</td>\n      <td>1997-11-19</td>\n      <td>5</td>\n    </tr>\n    <tr>\n      <th>1</th>\n      <td>A1127LKNR08JJK</td>\n      <td>6300248526</td>\n      <td>acwpython@juno.com</td>\n      <td>[0, 4]</td>\n      <td>This is one of the greatest shows i have ever ...</td>\n      <td>5.0</td>\n      <td>why do we have to fill this out?</td>\n      <td>879897600</td>\n      <td>1997-11-19</td>\n      <td>6</td>\n    </tr>\n    <tr>\n      <th>2</th>\n      <td>A1127LKNR08JJK</td>\n      <td>079283318X</td>\n      <td>acwpython@juno.com</td>\n      <td>[0, 0]</td>\n      <td>This is the best 007 movie ever.  It has a lot...</td>\n      <td>5.0</td>\n      <td>Suspensful</td>\n      <td>882489600</td>\n      <td>1997-12-19</td>\n      <td>7</td>\n    </tr>\n    <tr>\n      <th>3</th>\n      <td>A25W58TZK09YET</td>\n      <td>079074774X</td>\n      <td>Charles Culbertson (cculbert@cfw.com)</td>\n      <td>[13, 14]</td>\n      <td>Errol Flynn made several films about World War...</td>\n      <td>5.0</td>\n      <td>Exceptional Combat Drama</td>\n      <td>892771200</td>\n      <td>1998-04-17</td>\n      <td>5</td>\n    </tr>\n    <tr>\n      <th>4</th>\n      <td>A25W58TZK09YET</td>\n      <td>6302682606</td>\n      <td>Charles Culbertson (cculbert@cfw.com)</td>\n      <td>[56, 59]</td>\n      <td>&amp;quot;The Edge of Darkness&amp;quot; is one of the...</td>\n      <td>5.0</td>\n      <td>Gripping World War II Drama</td>\n      <td>892771200</td>\n      <td>1998-04-17</td>\n      <td>6</td>\n    </tr>\n    <tr>\n      <th>...</th>\n      <td>...</td>\n      <td>...</td>\n      <td>...</td>\n      <td>...</td>\n      <td>...</td>\n      <td>...</td>\n      <td>...</td>\n      <td>...</td>\n      <td>...</td>\n      <td>...</td>\n    </tr>\n    <tr>\n      <th>854517</th>\n      <td>A11YIHB6IW352W</td>\n      <td>B00006FDHI</td>\n      <td>Theodore J. Jackson Sr.</td>\n      <td>[0, 0]</td>\n      <td>One of my favorite movies. Have watched it sev...</td>\n      <td>5.0</td>\n      <td>Five Stars</td>\n      <td>1405900800</td>\n      <td>2014-07-21</td>\n      <td>21</td>\n    </tr>\n    <tr>\n      <th>854518</th>\n      <td>AX3YHACFZOI40</td>\n      <td>B0000VCZMK</td>\n      <td>NaN</td>\n      <td>[0, 0]</td>\n      <td>gross but funny too!</td>\n      <td>5.0</td>\n      <td>Five Stars</td>\n      <td>1405900800</td>\n      <td>2014-07-21</td>\n      <td>5</td>\n    </tr>\n    <tr>\n      <th>854519</th>\n      <td>AX3YHACFZOI40</td>\n      <td>6302283612</td>\n      <td>NaN</td>\n      <td>[0, 0]</td>\n      <td>scary great movie</td>\n      <td>5.0</td>\n      <td>Five Stars</td>\n      <td>1405900800</td>\n      <td>2014-07-21</td>\n      <td>6</td>\n    </tr>\n    <tr>\n      <th>854520</th>\n      <td>AX3YHACFZOI40</td>\n      <td>B000005XN6</td>\n      <td>NaN</td>\n      <td>[0, 0]</td>\n      <td>took 30 years to find.  worth the wait!</td>\n      <td>5.0</td>\n      <td>Five Stars</td>\n      <td>1405900800</td>\n      <td>2014-07-21</td>\n      <td>7</td>\n    </tr>\n    <tr>\n      <th>854521</th>\n      <td>A336FCPK8ZVMYT</td>\n      <td>B000NDDU1K</td>\n      <td>Gerald Williams \"booklistener\"</td>\n      <td>[0, 0]</td>\n      <td>Old people like me need subtitles.</td>\n      <td>4.0</td>\n      <td>Four Stars</td>\n      <td>1405987200</td>\n      <td>2014-07-22</td>\n      <td>7</td>\n    </tr>\n  </tbody>\n</table>\n<p>854522 rows × 10 columns</p>\n</div>"
     },
     "metadata": {},
     "execution_count": 16
    }
   ],
   "source": [
    "test = test.reset_index(drop=True)\n",
    "test"
   ]
  },
  {
   "cell_type": "code",
   "execution_count": 34,
   "metadata": {},
   "outputs": [
    {
     "output_type": "execute_result",
     "data": {
      "text/plain": [
       "           reviewerID     movieID  \\\n",
       "0      A1127LKNR08JJK  630174411X   \n",
       "1      A1127LKNR08JJK  0767824571   \n",
       "2      A1127LKNR08JJK  0783222068   \n",
       "3      A1127LKNR08JJK  0780022181   \n",
       "4      A1127LKNR08JJK  6303094880   \n",
       "...               ...         ...   \n",
       "99995   A9TARC4EV6EXK  B0000C2IVA   \n",
       "99996  A1ART5LIGLOVZO  B0000B1OC4   \n",
       "99997  A1ZJBZYI14PR9B  B0009B16TE   \n",
       "99998  A1AVXIRWZ87MZM  0790731002   \n",
       "99999   AX70DRQPZQQFH  6305020310   \n",
       "\n",
       "                                              reviewText  \\\n",
       "0      The movie was ok but it did lack a few things....   \n",
       "1      This movie rules.  It has humor, love, suspens...   \n",
       "2      HA HA HA!!! THose were the first words anyone ...   \n",
       "3      This is one of the best movies in the world.  ...   \n",
       "4      This is so funny.  It has a lot of good jokes ...   \n",
       "...                                                  ...   \n",
       "99995  This wonderful near miss of a movie was terrib...   \n",
       "99996  Actually, it is extremely hard to find a good ...   \n",
       "99997  The quality of the DVD and the series is excep...   \n",
       "99998  Forget about what everone elese said this film...   \n",
       "99999  this is a good look at the precursor to that k...   \n",
       "\n",
       "                                                 summary  overall  \n",
       "0                                                  GREAT      4.0  \n",
       "1                                     Best Movie Ever!!!      5.0  \n",
       "2                                              Hilarious      5.0  \n",
       "3                                   This should get a 15      5.0  \n",
       "4                                                Awesome      5.0  \n",
       "...                                                  ...      ...  \n",
       "99995                        Ayanna will slice your soul      5.0  \n",
       "99996  A Very Biased Opinion of the Fast Food Industr...      3.0  \n",
       "99997                Bewitched-The Complete First Season      5.0  \n",
       "99998                                 ''WHO IS BATMAN?''      5.0  \n",
       "99999    If you like Kung fu Hustle and Shaolin Soccer..      4.0  \n",
       "\n",
       "[100000 rows x 5 columns]"
      ],
      "text/html": "<div>\n<style scoped>\n    .dataframe tbody tr th:only-of-type {\n        vertical-align: middle;\n    }\n\n    .dataframe tbody tr th {\n        vertical-align: top;\n    }\n\n    .dataframe thead th {\n        text-align: right;\n    }\n</style>\n<table border=\"1\" class=\"dataframe\">\n  <thead>\n    <tr style=\"text-align: right;\">\n      <th></th>\n      <th>reviewerID</th>\n      <th>movieID</th>\n      <th>reviewText</th>\n      <th>summary</th>\n      <th>overall</th>\n    </tr>\n  </thead>\n  <tbody>\n    <tr>\n      <th>0</th>\n      <td>A1127LKNR08JJK</td>\n      <td>630174411X</td>\n      <td>The movie was ok but it did lack a few things....</td>\n      <td>GREAT</td>\n      <td>4.0</td>\n    </tr>\n    <tr>\n      <th>1</th>\n      <td>A1127LKNR08JJK</td>\n      <td>0767824571</td>\n      <td>This movie rules.  It has humor, love, suspens...</td>\n      <td>Best Movie Ever!!!</td>\n      <td>5.0</td>\n    </tr>\n    <tr>\n      <th>2</th>\n      <td>A1127LKNR08JJK</td>\n      <td>0783222068</td>\n      <td>HA HA HA!!! THose were the first words anyone ...</td>\n      <td>Hilarious</td>\n      <td>5.0</td>\n    </tr>\n    <tr>\n      <th>3</th>\n      <td>A1127LKNR08JJK</td>\n      <td>0780022181</td>\n      <td>This is one of the best movies in the world.  ...</td>\n      <td>This should get a 15</td>\n      <td>5.0</td>\n    </tr>\n    <tr>\n      <th>4</th>\n      <td>A1127LKNR08JJK</td>\n      <td>6303094880</td>\n      <td>This is so funny.  It has a lot of good jokes ...</td>\n      <td>Awesome</td>\n      <td>5.0</td>\n    </tr>\n    <tr>\n      <th>...</th>\n      <td>...</td>\n      <td>...</td>\n      <td>...</td>\n      <td>...</td>\n      <td>...</td>\n    </tr>\n    <tr>\n      <th>99995</th>\n      <td>A9TARC4EV6EXK</td>\n      <td>B0000C2IVA</td>\n      <td>This wonderful near miss of a movie was terrib...</td>\n      <td>Ayanna will slice your soul</td>\n      <td>5.0</td>\n    </tr>\n    <tr>\n      <th>99996</th>\n      <td>A1ART5LIGLOVZO</td>\n      <td>B0000B1OC4</td>\n      <td>Actually, it is extremely hard to find a good ...</td>\n      <td>A Very Biased Opinion of the Fast Food Industr...</td>\n      <td>3.0</td>\n    </tr>\n    <tr>\n      <th>99997</th>\n      <td>A1ZJBZYI14PR9B</td>\n      <td>B0009B16TE</td>\n      <td>The quality of the DVD and the series is excep...</td>\n      <td>Bewitched-The Complete First Season</td>\n      <td>5.0</td>\n    </tr>\n    <tr>\n      <th>99998</th>\n      <td>A1AVXIRWZ87MZM</td>\n      <td>0790731002</td>\n      <td>Forget about what everone elese said this film...</td>\n      <td>''WHO IS BATMAN?''</td>\n      <td>5.0</td>\n    </tr>\n    <tr>\n      <th>99999</th>\n      <td>AX70DRQPZQQFH</td>\n      <td>6305020310</td>\n      <td>this is a good look at the precursor to that k...</td>\n      <td>If you like Kung fu Hustle and Shaolin Soccer..</td>\n      <td>4.0</td>\n    </tr>\n  </tbody>\n</table>\n<p>100000 rows × 5 columns</p>\n</div>"
     },
     "metadata": {},
     "execution_count": 34
    }
   ],
   "source": [
    "train_sample = train.loc[:train_sample_size-1,['reviewerID','movieID','reviewText','summary','overall']]\n",
    "train_sample"
   ]
  },
  {
   "cell_type": "code",
   "execution_count": 35,
   "metadata": {},
   "outputs": [],
   "source": [
    "train_sample.to_pickle('./preprocessed/collaborative_input/train_sample.pkl', protocol = 4)\n",
    "train_sample[['reviewText']].to_csv('./preprocessed/bert_input/train_sample.csv')"
   ]
  },
  {
   "cell_type": "code",
   "execution_count": 36,
   "metadata": {},
   "outputs": [],
   "source": [
    "test_sample = test.loc[:test_sample_size-1,:]\n",
    "test_sample.to_pickle('./preprocessed/collaborative_input/test_sample.pkl')"
   ]
  },
  {
   "cell_type": "code",
   "execution_count": 38,
   "metadata": {},
   "outputs": [],
   "source": [
    "test_sample[['reviewText']].to_csv('./preprocessed/bert_input/test_sample.csv')"
   ]
  },
  {
   "cell_type": "code",
   "execution_count": 21,
   "metadata": {},
   "outputs": [],
   "source": [
    "# The rest of this we will put in a new notebook"
   ]
  },
  {
   "cell_type": "code",
   "execution_count": 9,
   "metadata": {},
   "outputs": [
    {
     "data": {
      "text/plain": [
       "count    122155.000000\n",
       "mean         11.460849\n",
       "std          36.461648\n",
       "min           1.000000\n",
       "25%           4.000000\n",
       "50%           6.000000\n",
       "75%           9.000000\n",
       "max        2295.000000\n",
       "Name: overall, dtype: float64"
      ]
     },
     "execution_count": 9,
     "metadata": {},
     "output_type": "execute_result"
    }
   ],
   "source": [
    "df.groupby(['reviewerID'])['overall'].count().describe()"
   ]
  },
  {
   "cell_type": "code",
   "execution_count": 11,
   "metadata": {},
   "outputs": [],
   "source": [
    "reviewer_count = train.groupby(['reviewerID'])['overall'].count()"
   ]
  },
  {
   "cell_type": "code",
   "execution_count": 12,
   "metadata": {},
   "outputs": [],
   "source": [
    "reviewer_count = reviewer_count.reset_index().rename(columns={'overall':'reviewer_count'})"
   ]
  },
  {
   "cell_type": "code",
   "execution_count": 13,
   "metadata": {},
   "outputs": [],
   "source": [
    "movie_count = train.groupby(['movieID'])['overall'].count()"
   ]
  },
  {
   "cell_type": "code",
   "execution_count": 14,
   "metadata": {},
   "outputs": [
    {
     "data": {
      "text/html": [
       "<div>\n",
       "<style scoped>\n",
       "    .dataframe tbody tr th:only-of-type {\n",
       "        vertical-align: middle;\n",
       "    }\n",
       "\n",
       "    .dataframe tbody tr th {\n",
       "        vertical-align: top;\n",
       "    }\n",
       "\n",
       "    .dataframe thead th {\n",
       "        text-align: right;\n",
       "    }\n",
       "</style>\n",
       "<table border=\"1\" class=\"dataframe\">\n",
       "  <thead>\n",
       "    <tr style=\"text-align: right;\">\n",
       "      <th></th>\n",
       "      <th>movieID</th>\n",
       "      <th>movie_count</th>\n",
       "    </tr>\n",
       "  </thead>\n",
       "  <tbody>\n",
       "    <tr>\n",
       "      <th>0</th>\n",
       "      <td>0005019281</td>\n",
       "      <td>45</td>\n",
       "    </tr>\n",
       "    <tr>\n",
       "      <th>1</th>\n",
       "      <td>0005119367</td>\n",
       "      <td>54</td>\n",
       "    </tr>\n",
       "    <tr>\n",
       "      <th>2</th>\n",
       "      <td>0307141985</td>\n",
       "      <td>5</td>\n",
       "    </tr>\n",
       "    <tr>\n",
       "      <th>3</th>\n",
       "      <td>0307142469</td>\n",
       "      <td>26</td>\n",
       "    </tr>\n",
       "    <tr>\n",
       "      <th>4</th>\n",
       "      <td>0307142477</td>\n",
       "      <td>6</td>\n",
       "    </tr>\n",
       "    <tr>\n",
       "      <th>...</th>\n",
       "      <td>...</td>\n",
       "      <td>...</td>\n",
       "    </tr>\n",
       "    <tr>\n",
       "      <th>41880</th>\n",
       "      <td>B004EPYZO4</td>\n",
       "      <td>86</td>\n",
       "    </tr>\n",
       "    <tr>\n",
       "      <th>41881</th>\n",
       "      <td>B004EPYZOO</td>\n",
       "      <td>108</td>\n",
       "    </tr>\n",
       "    <tr>\n",
       "      <th>41882</th>\n",
       "      <td>B004EPYZP8</td>\n",
       "      <td>155</td>\n",
       "    </tr>\n",
       "    <tr>\n",
       "      <th>41883</th>\n",
       "      <td>B004EPYZPS</td>\n",
       "      <td>281</td>\n",
       "    </tr>\n",
       "    <tr>\n",
       "      <th>41884</th>\n",
       "      <td>B004EPYZQC</td>\n",
       "      <td>107</td>\n",
       "    </tr>\n",
       "  </tbody>\n",
       "</table>\n",
       "<p>41885 rows × 2 columns</p>\n",
       "</div>"
      ],
      "text/plain": [
       "          movieID  movie_count\n",
       "0      0005019281           45\n",
       "1      0005119367           54\n",
       "2      0307141985            5\n",
       "3      0307142469           26\n",
       "4      0307142477            6\n",
       "...           ...          ...\n",
       "41880  B004EPYZO4           86\n",
       "41881  B004EPYZOO          108\n",
       "41882  B004EPYZP8          155\n",
       "41883  B004EPYZPS          281\n",
       "41884  B004EPYZQC          107\n",
       "\n",
       "[41885 rows x 2 columns]"
      ]
     },
     "execution_count": 14,
     "metadata": {},
     "output_type": "execute_result"
    }
   ],
   "source": [
    "movie_count = movie_count.reset_index().rename(columns={'overall':'movie_count'})\n",
    "movie_count"
   ]
  },
  {
   "cell_type": "code",
   "execution_count": 15,
   "metadata": {},
   "outputs": [],
   "source": [
    "test = test.merge(reviewer_count,on='reviewerID',how='left')"
   ]
  },
  {
   "cell_type": "code",
   "execution_count": 16,
   "metadata": {},
   "outputs": [
    {
     "data": {
      "text/html": [
       "<div>\n",
       "<style scoped>\n",
       "    .dataframe tbody tr th:only-of-type {\n",
       "        vertical-align: middle;\n",
       "    }\n",
       "\n",
       "    .dataframe tbody tr th {\n",
       "        vertical-align: top;\n",
       "    }\n",
       "\n",
       "    .dataframe thead th {\n",
       "        text-align: right;\n",
       "    }\n",
       "</style>\n",
       "<table border=\"1\" class=\"dataframe\">\n",
       "  <thead>\n",
       "    <tr style=\"text-align: right;\">\n",
       "      <th></th>\n",
       "      <th>reviewerID</th>\n",
       "      <th>movieID</th>\n",
       "      <th>reviewerName</th>\n",
       "      <th>helpful</th>\n",
       "      <th>reviewText</th>\n",
       "      <th>overall</th>\n",
       "      <th>summary</th>\n",
       "      <th>unixReviewTime</th>\n",
       "      <th>reviewTime</th>\n",
       "      <th>reviewer_count</th>\n",
       "      <th>movie_count</th>\n",
       "    </tr>\n",
       "  </thead>\n",
       "  <tbody>\n",
       "    <tr>\n",
       "      <th>0</th>\n",
       "      <td>A3NPBGHQDKBB13</td>\n",
       "      <td>B0001J20QW</td>\n",
       "      <td>Cindy R</td>\n",
       "      <td>[0, 0]</td>\n",
       "      <td>Great holiday movie. So glad to be able to pur...</td>\n",
       "      <td>5.0</td>\n",
       "      <td>Wonderful!</td>\n",
       "      <td>1357084800</td>\n",
       "      <td>2013-01-02</td>\n",
       "      <td>4.0</td>\n",
       "      <td>30.0</td>\n",
       "    </tr>\n",
       "    <tr>\n",
       "      <th>1</th>\n",
       "      <td>A3IXZJ1L73DYTA</td>\n",
       "      <td>B002GSXKQU</td>\n",
       "      <td>Jack E. Levic</td>\n",
       "      <td>[1, 1]</td>\n",
       "      <td>I've reviewed the four films separately so I j...</td>\n",
       "      <td>4.0</td>\n",
       "      <td>SET OF 4 CLASSIC HOLIDAY FILMS</td>\n",
       "      <td>1357084800</td>\n",
       "      <td>2013-01-02</td>\n",
       "      <td>123.0</td>\n",
       "      <td>38.0</td>\n",
       "    </tr>\n",
       "    <tr>\n",
       "      <th>2</th>\n",
       "      <td>A2TUJ8W8UCIROQ</td>\n",
       "      <td>6300216748</td>\n",
       "      <td>chuck</td>\n",
       "      <td>[0, 1]</td>\n",
       "      <td>Great spy thriller.  has a good beginning that...</td>\n",
       "      <td>5.0</td>\n",
       "      <td>Great Movie</td>\n",
       "      <td>1357084800</td>\n",
       "      <td>2013-01-02</td>\n",
       "      <td>1.0</td>\n",
       "      <td>94.0</td>\n",
       "    </tr>\n",
       "    <tr>\n",
       "      <th>3</th>\n",
       "      <td>AZFQHNW5FLCMU</td>\n",
       "      <td>B000A3XY8C</td>\n",
       "      <td>Sue E. Devecka</td>\n",
       "      <td>[0, 0]</td>\n",
       "      <td>I ordered this workout with my amazon.com gift...</td>\n",
       "      <td>5.0</td>\n",
       "      <td>Loved this workout!</td>\n",
       "      <td>1357084800</td>\n",
       "      <td>2013-01-02</td>\n",
       "      <td>2.0</td>\n",
       "      <td>23.0</td>\n",
       "    </tr>\n",
       "    <tr>\n",
       "      <th>4</th>\n",
       "      <td>A3UT71DE0NS65Y</td>\n",
       "      <td>0792147618</td>\n",
       "      <td>Otis L. Solomon</td>\n",
       "      <td>[0, 1]</td>\n",
       "      <td>Great Great mivie in the Alex Cross series pla...</td>\n",
       "      <td>5.0</td>\n",
       "      <td>Kiss the Girls</td>\n",
       "      <td>1357084800</td>\n",
       "      <td>2013-01-02</td>\n",
       "      <td>4.0</td>\n",
       "      <td>66.0</td>\n",
       "    </tr>\n",
       "    <tr>\n",
       "      <th>...</th>\n",
       "      <td>...</td>\n",
       "      <td>...</td>\n",
       "      <td>...</td>\n",
       "      <td>...</td>\n",
       "      <td>...</td>\n",
       "      <td>...</td>\n",
       "      <td>...</td>\n",
       "      <td>...</td>\n",
       "      <td>...</td>\n",
       "      <td>...</td>\n",
       "      <td>...</td>\n",
       "    </tr>\n",
       "    <tr>\n",
       "      <th>402309</th>\n",
       "      <td>A2P23X9QF6OXUT</td>\n",
       "      <td>B000YQAMZI</td>\n",
       "      <td>Rachel Dale \"Consider\"</td>\n",
       "      <td>[0, 0]</td>\n",
       "      <td>I was in a Meryl Streep mood. I always like se...</td>\n",
       "      <td>4.0</td>\n",
       "      <td>An excellent performance</td>\n",
       "      <td>1405987200</td>\n",
       "      <td>2014-07-22</td>\n",
       "      <td>0.0</td>\n",
       "      <td>27.0</td>\n",
       "    </tr>\n",
       "    <tr>\n",
       "      <th>402310</th>\n",
       "      <td>A39UZORCGHK80U</td>\n",
       "      <td>B0000C0FFV</td>\n",
       "      <td>NaN</td>\n",
       "      <td>[0, 0]</td>\n",
       "      <td>I had been looking for this film for quite awh...</td>\n",
       "      <td>4.0</td>\n",
       "      <td>Thought it was one of Reynolds best fulms.</td>\n",
       "      <td>1405987200</td>\n",
       "      <td>2014-07-22</td>\n",
       "      <td>0.0</td>\n",
       "      <td>8.0</td>\n",
       "    </tr>\n",
       "    <tr>\n",
       "      <th>402311</th>\n",
       "      <td>A2HCF3U745WQAK</td>\n",
       "      <td>B000IJ79U2</td>\n",
       "      <td>NaN</td>\n",
       "      <td>[0, 0]</td>\n",
       "      <td>I got the whole set (  well... 3; I think that...</td>\n",
       "      <td>4.0</td>\n",
       "      <td>I got the whole set ( well... ...</td>\n",
       "      <td>1405987200</td>\n",
       "      <td>2014-07-22</td>\n",
       "      <td>0.0</td>\n",
       "      <td>8.0</td>\n",
       "    </tr>\n",
       "    <tr>\n",
       "      <th>402312</th>\n",
       "      <td>A336FCPK8ZVMYT</td>\n",
       "      <td>B000NDDU1K</td>\n",
       "      <td>Gerald Williams \"booklistener\"</td>\n",
       "      <td>[0, 0]</td>\n",
       "      <td>Old people like me need subtitles.</td>\n",
       "      <td>4.0</td>\n",
       "      <td>Four Stars</td>\n",
       "      <td>1405987200</td>\n",
       "      <td>2014-07-22</td>\n",
       "      <td>6.0</td>\n",
       "      <td>3.0</td>\n",
       "    </tr>\n",
       "    <tr>\n",
       "      <th>402313</th>\n",
       "      <td>A216WX511ULMEI</td>\n",
       "      <td>0790746050</td>\n",
       "      <td>GERARD W. GREGOIRE</td>\n",
       "      <td>[0, 0]</td>\n",
       "      <td>I bought it because I saw the movie as a kid. ...</td>\n",
       "      <td>3.0</td>\n",
       "      <td>Don't waste you're time</td>\n",
       "      <td>1405987200</td>\n",
       "      <td>2014-07-22</td>\n",
       "      <td>0.0</td>\n",
       "      <td>102.0</td>\n",
       "    </tr>\n",
       "  </tbody>\n",
       "</table>\n",
       "<p>402314 rows × 11 columns</p>\n",
       "</div>"
      ],
      "text/plain": [
       "            reviewerID     movieID                    reviewerName helpful  \\\n",
       "0       A3NPBGHQDKBB13  B0001J20QW                         Cindy R  [0, 0]   \n",
       "1       A3IXZJ1L73DYTA  B002GSXKQU                   Jack E. Levic  [1, 1]   \n",
       "2       A2TUJ8W8UCIROQ  6300216748                           chuck  [0, 1]   \n",
       "3        AZFQHNW5FLCMU  B000A3XY8C                  Sue E. Devecka  [0, 0]   \n",
       "4       A3UT71DE0NS65Y  0792147618                 Otis L. Solomon  [0, 1]   \n",
       "...                ...         ...                             ...     ...   \n",
       "402309  A2P23X9QF6OXUT  B000YQAMZI          Rachel Dale \"Consider\"  [0, 0]   \n",
       "402310  A39UZORCGHK80U  B0000C0FFV                             NaN  [0, 0]   \n",
       "402311  A2HCF3U745WQAK  B000IJ79U2                             NaN  [0, 0]   \n",
       "402312  A336FCPK8ZVMYT  B000NDDU1K  Gerald Williams \"booklistener\"  [0, 0]   \n",
       "402313  A216WX511ULMEI  0790746050              GERARD W. GREGOIRE  [0, 0]   \n",
       "\n",
       "                                               reviewText  overall  \\\n",
       "0       Great holiday movie. So glad to be able to pur...      5.0   \n",
       "1       I've reviewed the four films separately so I j...      4.0   \n",
       "2       Great spy thriller.  has a good beginning that...      5.0   \n",
       "3       I ordered this workout with my amazon.com gift...      5.0   \n",
       "4       Great Great mivie in the Alex Cross series pla...      5.0   \n",
       "...                                                   ...      ...   \n",
       "402309  I was in a Meryl Streep mood. I always like se...      4.0   \n",
       "402310  I had been looking for this film for quite awh...      4.0   \n",
       "402311  I got the whole set (  well... 3; I think that...      4.0   \n",
       "402312                 Old people like me need subtitles.      4.0   \n",
       "402313  I bought it because I saw the movie as a kid. ...      3.0   \n",
       "\n",
       "                                           summary  unixReviewTime reviewTime  \\\n",
       "0                                       Wonderful!      1357084800 2013-01-02   \n",
       "1                   SET OF 4 CLASSIC HOLIDAY FILMS      1357084800 2013-01-02   \n",
       "2                                      Great Movie      1357084800 2013-01-02   \n",
       "3                              Loved this workout!      1357084800 2013-01-02   \n",
       "4                                   Kiss the Girls      1357084800 2013-01-02   \n",
       "...                                            ...             ...        ...   \n",
       "402309                    An excellent performance      1405987200 2014-07-22   \n",
       "402310  Thought it was one of Reynolds best fulms.      1405987200 2014-07-22   \n",
       "402311           I got the whole set ( well... ...      1405987200 2014-07-22   \n",
       "402312                                  Four Stars      1405987200 2014-07-22   \n",
       "402313                     Don't waste you're time      1405987200 2014-07-22   \n",
       "\n",
       "        reviewer_count  movie_count  \n",
       "0                  4.0         30.0  \n",
       "1                123.0         38.0  \n",
       "2                  1.0         94.0  \n",
       "3                  2.0         23.0  \n",
       "4                  4.0         66.0  \n",
       "...                ...          ...  \n",
       "402309             0.0         27.0  \n",
       "402310             0.0          8.0  \n",
       "402311             0.0          8.0  \n",
       "402312             6.0          3.0  \n",
       "402313             0.0        102.0  \n",
       "\n",
       "[402314 rows x 11 columns]"
      ]
     },
     "execution_count": 16,
     "metadata": {},
     "output_type": "execute_result"
    }
   ],
   "source": [
    "test = test.merge(movie_count,on='movieID',how='left')\n",
    "test['reviewer_count'] = test['reviewer_count'].fillna(0)\n",
    "test['movie_count'] = test['movie_count'].fillna(0)\n",
    "test"
   ]
  },
  {
   "cell_type": "code",
   "execution_count": null,
   "metadata": {},
   "outputs": [],
   "source": []
  }
 ],
 "metadata": {
  "kernelspec": {
   "display_name": "Python 3",
   "language": "python",
   "name": "python3"
  },
  "language_info": {
   "codemirror_mode": {
    "name": "ipython",
    "version": 3
   },
   "file_extension": ".py",
   "mimetype": "text/x-python",
   "name": "python",
   "nbconvert_exporter": "python",
   "pygments_lexer": "ipython3",
   "version": "3.8.5-final"
  }
 },
 "nbformat": 4,
 "nbformat_minor": 4
}