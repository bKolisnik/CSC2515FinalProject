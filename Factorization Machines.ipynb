{
 "cells": [
  {
   "cell_type": "code",
   "execution_count": 1,
   "metadata": {},
   "outputs": [],
   "source": [
    "import pandas as pd\n",
    "import scipy\n",
    "import numpy as np"
   ]
  },
  {
   "cell_type": "code",
   "execution_count": 8,
   "metadata": {},
   "outputs": [],
   "source": [
    "train_expertise = np.load('./preprocessed/collaborative_input/expertise.npy')\n",
    "test_expertise = np.load('./preprocessed/collaborative_input/test_expertise.npy')"
   ]
  },
  {
   "cell_type": "code",
   "execution_count": 3,
   "metadata": {},
   "outputs": [],
   "source": [
    "train_sample = pd.read_pickle('./preprocessed/collaborative_input/train_sample.pkl')"
   ]
  },
  {
   "cell_type": "code",
   "execution_count": 4,
   "metadata": {},
   "outputs": [],
   "source": [
    "test_sample = pd.read_pickle('./preprocessed/collaborative_input/test_sample.pkl')"
   ]
  },
  {
   "cell_type": "code",
   "execution_count": 12,
   "metadata": {},
   "outputs": [],
   "source": [
    "train_sample['expertise'] = train_expertise\n",
    "test_sample['expertise'] = test_expertise"
   ]
  },
  {
   "cell_type": "code",
   "execution_count": 17,
   "metadata": {},
   "outputs": [
    {
     "data": {
      "text/html": [
       "<div>\n",
       "<style scoped>\n",
       "    .dataframe tbody tr th:only-of-type {\n",
       "        vertical-align: middle;\n",
       "    }\n",
       "\n",
       "    .dataframe tbody tr th {\n",
       "        vertical-align: top;\n",
       "    }\n",
       "\n",
       "    .dataframe thead th {\n",
       "        text-align: right;\n",
       "    }\n",
       "</style>\n",
       "<table border=\"1\" class=\"dataframe\">\n",
       "  <thead>\n",
       "    <tr style=\"text-align: right;\">\n",
       "      <th></th>\n",
       "      <th>reviewerID</th>\n",
       "      <th>movieID</th>\n",
       "      <th>reviewerName</th>\n",
       "      <th>helpful</th>\n",
       "      <th>reviewText</th>\n",
       "      <th>overall</th>\n",
       "      <th>summary</th>\n",
       "      <th>unixReviewTime</th>\n",
       "      <th>reviewTime</th>\n",
       "      <th>reviewer_count</th>\n",
       "      <th>expertise</th>\n",
       "    </tr>\n",
       "  </thead>\n",
       "  <tbody>\n",
       "    <tr>\n",
       "      <th>0</th>\n",
       "      <td>A1127LKNR08JJK</td>\n",
       "      <td>630174411X</td>\n",
       "      <td>acwpython@juno.com</td>\n",
       "      <td>[0, 4]</td>\n",
       "      <td>The movie was ok but it did lack a few things....</td>\n",
       "      <td>4.0</td>\n",
       "      <td>GREAT</td>\n",
       "      <td>879379200</td>\n",
       "      <td>1997-11-13</td>\n",
       "      <td>0</td>\n",
       "      <td>0.000265</td>\n",
       "    </tr>\n",
       "    <tr>\n",
       "      <th>1</th>\n",
       "      <td>A1127LKNR08JJK</td>\n",
       "      <td>0767824571</td>\n",
       "      <td>acwpython@juno.com</td>\n",
       "      <td>[0, 0]</td>\n",
       "      <td>This movie rules.  It has humor, love, suspens...</td>\n",
       "      <td>5.0</td>\n",
       "      <td>Best Movie Ever!!!</td>\n",
       "      <td>879465600</td>\n",
       "      <td>1997-11-14</td>\n",
       "      <td>1</td>\n",
       "      <td>0.000334</td>\n",
       "    </tr>\n",
       "  </tbody>\n",
       "</table>\n",
       "</div>"
      ],
      "text/plain": [
       "       reviewerID     movieID        reviewerName helpful  \\\n",
       "0  A1127LKNR08JJK  630174411X  acwpython@juno.com  [0, 4]   \n",
       "1  A1127LKNR08JJK  0767824571  acwpython@juno.com  [0, 0]   \n",
       "\n",
       "                                          reviewText  overall  \\\n",
       "0  The movie was ok but it did lack a few things....      4.0   \n",
       "1  This movie rules.  It has humor, love, suspens...      5.0   \n",
       "\n",
       "              summary  unixReviewTime reviewTime  reviewer_count  expertise  \n",
       "0               GREAT       879379200 1997-11-13               0   0.000265  \n",
       "1  Best Movie Ever!!!       879465600 1997-11-14               1   0.000334  "
      ]
     },
     "execution_count": 17,
     "metadata": {},
     "output_type": "execute_result"
    }
   ],
   "source": [
    "train_sample.head(2)"
   ]
  },
  {
   "cell_type": "code",
   "execution_count": 18,
   "metadata": {},
   "outputs": [
    {
     "data": {
      "text/html": [
       "<div>\n",
       "<style scoped>\n",
       "    .dataframe tbody tr th:only-of-type {\n",
       "        vertical-align: middle;\n",
       "    }\n",
       "\n",
       "    .dataframe tbody tr th {\n",
       "        vertical-align: top;\n",
       "    }\n",
       "\n",
       "    .dataframe thead th {\n",
       "        text-align: right;\n",
       "    }\n",
       "</style>\n",
       "<table border=\"1\" class=\"dataframe\">\n",
       "  <thead>\n",
       "    <tr style=\"text-align: right;\">\n",
       "      <th></th>\n",
       "      <th>reviewerID</th>\n",
       "      <th>movieID</th>\n",
       "      <th>reviewerName</th>\n",
       "      <th>helpful</th>\n",
       "      <th>reviewText</th>\n",
       "      <th>overall</th>\n",
       "      <th>summary</th>\n",
       "      <th>unixReviewTime</th>\n",
       "      <th>reviewTime</th>\n",
       "      <th>reviewer_count</th>\n",
       "      <th>expertise</th>\n",
       "    </tr>\n",
       "  </thead>\n",
       "  <tbody>\n",
       "    <tr>\n",
       "      <th>0</th>\n",
       "      <td>A1127LKNR08JJK</td>\n",
       "      <td>6302952727</td>\n",
       "      <td>acwpython@juno.com</td>\n",
       "      <td>[2, 51]</td>\n",
       "      <td>THis is the shortest movie but the funniest.  ...</td>\n",
       "      <td>5.0</td>\n",
       "      <td>no</td>\n",
       "      <td>879897600</td>\n",
       "      <td>1997-11-19</td>\n",
       "      <td>5</td>\n",
       "      <td>0.000137</td>\n",
       "    </tr>\n",
       "    <tr>\n",
       "      <th>1</th>\n",
       "      <td>A1127LKNR08JJK</td>\n",
       "      <td>6300248526</td>\n",
       "      <td>acwpython@juno.com</td>\n",
       "      <td>[0, 4]</td>\n",
       "      <td>This is one of the greatest shows i have ever ...</td>\n",
       "      <td>5.0</td>\n",
       "      <td>why do we have to fill this out?</td>\n",
       "      <td>879897600</td>\n",
       "      <td>1997-11-19</td>\n",
       "      <td>6</td>\n",
       "      <td>0.000085</td>\n",
       "    </tr>\n",
       "  </tbody>\n",
       "</table>\n",
       "</div>"
      ],
      "text/plain": [
       "       reviewerID     movieID        reviewerName  helpful  \\\n",
       "0  A1127LKNR08JJK  6302952727  acwpython@juno.com  [2, 51]   \n",
       "1  A1127LKNR08JJK  6300248526  acwpython@juno.com   [0, 4]   \n",
       "\n",
       "                                          reviewText  overall  \\\n",
       "0  THis is the shortest movie but the funniest.  ...      5.0   \n",
       "1  This is one of the greatest shows i have ever ...      5.0   \n",
       "\n",
       "                            summary  unixReviewTime reviewTime  \\\n",
       "0                                no       879897600 1997-11-19   \n",
       "1  why do we have to fill this out?       879897600 1997-11-19   \n",
       "\n",
       "   reviewer_count  expertise  \n",
       "0               5   0.000137  \n",
       "1               6   0.000085  "
      ]
     },
     "execution_count": 18,
     "metadata": {},
     "output_type": "execute_result"
    }
   ],
   "source": [
    "test_sample.head(2)"
   ]
  },
  {
   "cell_type": "code",
   "execution_count": 19,
   "metadata": {},
   "outputs": [
    {
     "data": {
      "text/html": [
       "<div>\n",
       "<style scoped>\n",
       "    .dataframe tbody tr th:only-of-type {\n",
       "        vertical-align: middle;\n",
       "    }\n",
       "\n",
       "    .dataframe tbody tr th {\n",
       "        vertical-align: top;\n",
       "    }\n",
       "\n",
       "    .dataframe thead th {\n",
       "        text-align: right;\n",
       "    }\n",
       "</style>\n",
       "<table border=\"1\" class=\"dataframe\">\n",
       "  <thead>\n",
       "    <tr style=\"text-align: right;\">\n",
       "      <th></th>\n",
       "      <th>reviewerID</th>\n",
       "      <th>movieID</th>\n",
       "      <th>reviewerName</th>\n",
       "      <th>helpful</th>\n",
       "      <th>reviewText</th>\n",
       "      <th>overall</th>\n",
       "      <th>summary</th>\n",
       "      <th>unixReviewTime</th>\n",
       "      <th>reviewTime</th>\n",
       "      <th>reviewer_count</th>\n",
       "      <th>expertise</th>\n",
       "    </tr>\n",
       "  </thead>\n",
       "  <tbody>\n",
       "    <tr>\n",
       "      <th>0</th>\n",
       "      <td>A1127LKNR08JJK</td>\n",
       "      <td>630174411X</td>\n",
       "      <td>acwpython@juno.com</td>\n",
       "      <td>[0, 4]</td>\n",
       "      <td>The movie was ok but it did lack a few things....</td>\n",
       "      <td>4.0</td>\n",
       "      <td>GREAT</td>\n",
       "      <td>879379200</td>\n",
       "      <td>1997-11-13</td>\n",
       "      <td>0</td>\n",
       "      <td>0.000265</td>\n",
       "    </tr>\n",
       "    <tr>\n",
       "      <th>1</th>\n",
       "      <td>A1127LKNR08JJK</td>\n",
       "      <td>0767824571</td>\n",
       "      <td>acwpython@juno.com</td>\n",
       "      <td>[0, 0]</td>\n",
       "      <td>This movie rules.  It has humor, love, suspens...</td>\n",
       "      <td>5.0</td>\n",
       "      <td>Best Movie Ever!!!</td>\n",
       "      <td>879465600</td>\n",
       "      <td>1997-11-14</td>\n",
       "      <td>1</td>\n",
       "      <td>0.000334</td>\n",
       "    </tr>\n",
       "    <tr>\n",
       "      <th>2</th>\n",
       "      <td>A1127LKNR08JJK</td>\n",
       "      <td>0783222068</td>\n",
       "      <td>acwpython@juno.com</td>\n",
       "      <td>[0, 0]</td>\n",
       "      <td>HA HA HA!!! THose were the first words anyone ...</td>\n",
       "      <td>5.0</td>\n",
       "      <td>Hilarious</td>\n",
       "      <td>879465600</td>\n",
       "      <td>1997-11-14</td>\n",
       "      <td>2</td>\n",
       "      <td>0.000523</td>\n",
       "    </tr>\n",
       "    <tr>\n",
       "      <th>3</th>\n",
       "      <td>A1127LKNR08JJK</td>\n",
       "      <td>0780022181</td>\n",
       "      <td>acwpython@juno.com</td>\n",
       "      <td>[1, 2]</td>\n",
       "      <td>This is one of the best movies in the world.  ...</td>\n",
       "      <td>5.0</td>\n",
       "      <td>This should get a 15</td>\n",
       "      <td>879897600</td>\n",
       "      <td>1997-11-19</td>\n",
       "      <td>3</td>\n",
       "      <td>0.000151</td>\n",
       "    </tr>\n",
       "    <tr>\n",
       "      <th>4</th>\n",
       "      <td>A1127LKNR08JJK</td>\n",
       "      <td>6303094880</td>\n",
       "      <td>acwpython@juno.com</td>\n",
       "      <td>[2, 3]</td>\n",
       "      <td>This is so funny.  It has a lot of good jokes ...</td>\n",
       "      <td>5.0</td>\n",
       "      <td>Awesome</td>\n",
       "      <td>879897600</td>\n",
       "      <td>1997-11-19</td>\n",
       "      <td>4</td>\n",
       "      <td>0.000152</td>\n",
       "    </tr>\n",
       "    <tr>\n",
       "      <th>...</th>\n",
       "      <td>...</td>\n",
       "      <td>...</td>\n",
       "      <td>...</td>\n",
       "      <td>...</td>\n",
       "      <td>...</td>\n",
       "      <td>...</td>\n",
       "      <td>...</td>\n",
       "      <td>...</td>\n",
       "      <td>...</td>\n",
       "      <td>...</td>\n",
       "      <td>...</td>\n",
       "    </tr>\n",
       "    <tr>\n",
       "      <th>99995</th>\n",
       "      <td>A9TARC4EV6EXK</td>\n",
       "      <td>B0000C2IVA</td>\n",
       "      <td>antistat \"kensboy\"</td>\n",
       "      <td>[6, 7]</td>\n",
       "      <td>This wonderful near miss of a movie was terrib...</td>\n",
       "      <td>5.0</td>\n",
       "      <td>Ayanna will slice your soul</td>\n",
       "      <td>1122336000</td>\n",
       "      <td>2005-07-26</td>\n",
       "      <td>2</td>\n",
       "      <td>0.008179</td>\n",
       "    </tr>\n",
       "    <tr>\n",
       "      <th>99996</th>\n",
       "      <td>A1ART5LIGLOVZO</td>\n",
       "      <td>B0000B1OC4</td>\n",
       "      <td>Chris \"Metal Reviewer\"</td>\n",
       "      <td>[4, 10]</td>\n",
       "      <td>Actually, it is extremely hard to find a good ...</td>\n",
       "      <td>3.0</td>\n",
       "      <td>A Very Biased Opinion of the Fast Food Industr...</td>\n",
       "      <td>1122336000</td>\n",
       "      <td>2005-07-26</td>\n",
       "      <td>4</td>\n",
       "      <td>0.010561</td>\n",
       "    </tr>\n",
       "    <tr>\n",
       "      <th>99997</th>\n",
       "      <td>A1ZJBZYI14PR9B</td>\n",
       "      <td>B0009B16TE</td>\n",
       "      <td>Ginny Strobl</td>\n",
       "      <td>[4, 6]</td>\n",
       "      <td>The quality of the DVD and the series is excep...</td>\n",
       "      <td>5.0</td>\n",
       "      <td>Bewitched-The Complete First Season</td>\n",
       "      <td>1122336000</td>\n",
       "      <td>2005-07-26</td>\n",
       "      <td>0</td>\n",
       "      <td>0.000092</td>\n",
       "    </tr>\n",
       "    <tr>\n",
       "      <th>99998</th>\n",
       "      <td>A1AVXIRWZ87MZM</td>\n",
       "      <td>0790731002</td>\n",
       "      <td>Darth Vader 9000 \"Crazy Guy\"</td>\n",
       "      <td>[3, 4]</td>\n",
       "      <td>Forget about what everone elese said this film...</td>\n",
       "      <td>5.0</td>\n",
       "      <td>''WHO IS BATMAN?''</td>\n",
       "      <td>1122336000</td>\n",
       "      <td>2005-07-26</td>\n",
       "      <td>3</td>\n",
       "      <td>0.000315</td>\n",
       "    </tr>\n",
       "    <tr>\n",
       "      <th>99999</th>\n",
       "      <td>AX70DRQPZQQFH</td>\n",
       "      <td>6305020310</td>\n",
       "      <td>Christopher J. Deasy</td>\n",
       "      <td>[1, 3]</td>\n",
       "      <td>this is a good look at the precursor to that k...</td>\n",
       "      <td>4.0</td>\n",
       "      <td>If you like Kung fu Hustle and Shaolin Soccer..</td>\n",
       "      <td>1122336000</td>\n",
       "      <td>2005-07-26</td>\n",
       "      <td>4</td>\n",
       "      <td>0.002642</td>\n",
       "    </tr>\n",
       "  </tbody>\n",
       "</table>\n",
       "<p>100000 rows × 11 columns</p>\n",
       "</div>"
      ],
      "text/plain": [
       "           reviewerID     movieID                  reviewerName  helpful  \\\n",
       "0      A1127LKNR08JJK  630174411X            acwpython@juno.com   [0, 4]   \n",
       "1      A1127LKNR08JJK  0767824571            acwpython@juno.com   [0, 0]   \n",
       "2      A1127LKNR08JJK  0783222068            acwpython@juno.com   [0, 0]   \n",
       "3      A1127LKNR08JJK  0780022181            acwpython@juno.com   [1, 2]   \n",
       "4      A1127LKNR08JJK  6303094880            acwpython@juno.com   [2, 3]   \n",
       "...               ...         ...                           ...      ...   \n",
       "99995   A9TARC4EV6EXK  B0000C2IVA            antistat \"kensboy\"   [6, 7]   \n",
       "99996  A1ART5LIGLOVZO  B0000B1OC4        Chris \"Metal Reviewer\"  [4, 10]   \n",
       "99997  A1ZJBZYI14PR9B  B0009B16TE                  Ginny Strobl   [4, 6]   \n",
       "99998  A1AVXIRWZ87MZM  0790731002  Darth Vader 9000 \"Crazy Guy\"   [3, 4]   \n",
       "99999   AX70DRQPZQQFH  6305020310          Christopher J. Deasy   [1, 3]   \n",
       "\n",
       "                                              reviewText  overall  \\\n",
       "0      The movie was ok but it did lack a few things....      4.0   \n",
       "1      This movie rules.  It has humor, love, suspens...      5.0   \n",
       "2      HA HA HA!!! THose were the first words anyone ...      5.0   \n",
       "3      This is one of the best movies in the world.  ...      5.0   \n",
       "4      This is so funny.  It has a lot of good jokes ...      5.0   \n",
       "...                                                  ...      ...   \n",
       "99995  This wonderful near miss of a movie was terrib...      5.0   \n",
       "99996  Actually, it is extremely hard to find a good ...      3.0   \n",
       "99997  The quality of the DVD and the series is excep...      5.0   \n",
       "99998  Forget about what everone elese said this film...      5.0   \n",
       "99999  this is a good look at the precursor to that k...      4.0   \n",
       "\n",
       "                                                 summary  unixReviewTime  \\\n",
       "0                                                  GREAT       879379200   \n",
       "1                                     Best Movie Ever!!!       879465600   \n",
       "2                                              Hilarious       879465600   \n",
       "3                                   This should get a 15       879897600   \n",
       "4                                                Awesome       879897600   \n",
       "...                                                  ...             ...   \n",
       "99995                        Ayanna will slice your soul      1122336000   \n",
       "99996  A Very Biased Opinion of the Fast Food Industr...      1122336000   \n",
       "99997                Bewitched-The Complete First Season      1122336000   \n",
       "99998                                 ''WHO IS BATMAN?''      1122336000   \n",
       "99999    If you like Kung fu Hustle and Shaolin Soccer..      1122336000   \n",
       "\n",
       "      reviewTime  reviewer_count  expertise  \n",
       "0     1997-11-13               0   0.000265  \n",
       "1     1997-11-14               1   0.000334  \n",
       "2     1997-11-14               2   0.000523  \n",
       "3     1997-11-19               3   0.000151  \n",
       "4     1997-11-19               4   0.000152  \n",
       "...          ...             ...        ...  \n",
       "99995 2005-07-26               2   0.008179  \n",
       "99996 2005-07-26               4   0.010561  \n",
       "99997 2005-07-26               0   0.000092  \n",
       "99998 2005-07-26               3   0.000315  \n",
       "99999 2005-07-26               4   0.002642  \n",
       "\n",
       "[100000 rows x 11 columns]"
      ]
     },
     "execution_count": 19,
     "metadata": {},
     "output_type": "execute_result"
    }
   ],
   "source": [
    "train_sample"
   ]
  },
  {
   "cell_type": "code",
   "execution_count": 47,
   "metadata": {},
   "outputs": [],
   "source": [
    "from sklearn.preprocessing import OneHotEncoder\n",
    "from fastFM import als\n",
    "import scipy.sparse\n",
    "from sklearn.metrics import mean_squared_error\n",
    "from sklearn.metrics import r2_score"
   ]
  },
  {
   "cell_type": "code",
   "execution_count": 44,
   "metadata": {},
   "outputs": [],
   "source": [
    "y_train = train_sample['overall'].to_numpy()\n",
    "y_test = test_sample['overall'].to_numpy()"
   ]
  },
  {
   "cell_type": "code",
   "execution_count": 21,
   "metadata": {},
   "outputs": [],
   "source": [
    "enc = OneHotEncoder(handle_unknown='ignore')\n",
    "X_1_train = enc.fit_transform(train_sample[['reviewerID','movieID']])\n",
    "X_1_test = enc.transform(test_sample[['reviewerID','movieID']])"
   ]
  },
  {
   "cell_type": "code",
   "execution_count": 28,
   "metadata": {},
   "outputs": [],
   "source": [
    "assert X_1_train.shape[1] == len(train_sample['reviewerID'].unique())+len(train_sample['movieID'].unique())"
   ]
  },
  {
   "cell_type": "code",
   "execution_count": 32,
   "metadata": {},
   "outputs": [],
   "source": [
    "#X_2_train = train_sample[['reviewer_count','expertise']].to_numpy()\n",
    "#X_2_test = test_sample[['reviewer_count','expertise']].to_numpy()\n",
    "\n",
    "sparse_X_2_train = scipy.sparse.csr_matrix(X_2_train)\n",
    "sparse_X_2_test = scipy.sparse.csr_matrix(X_2_test)\n"
   ]
  },
  {
   "cell_type": "code",
   "execution_count": 43,
   "metadata": {},
   "outputs": [],
   "source": [
    "#X_train = scipy.sparse.hstack([X_1_train,sparse_X_2_train],format='csr')\n",
    "#X_test = scipy.sparse.hstack([X_1_test,sparse_X_2_test],format='csr')"
   ]
  },
  {
   "cell_type": "code",
   "execution_count": 66,
   "metadata": {},
   "outputs": [],
   "source": [
    "X_train = X_1_train\n",
    "X_test = X_1_test"
   ]
  },
  {
   "cell_type": "code",
   "execution_count": 67,
   "metadata": {},
   "outputs": [],
   "source": [
    "n_iter = 50\n",
    "step_size = 1\n",
    "l2_reg_w = 0\n",
    "l2_reg_V = 0"
   ]
  },
  {
   "cell_type": "code",
   "execution_count": 68,
   "metadata": {},
   "outputs": [],
   "source": [
    "fm = als.FMRegression(n_iter=0, l2_reg_w=0.1, l2_reg_V=0.1, rank=4)"
   ]
  },
  {
   "cell_type": "code",
   "execution_count": 69,
   "metadata": {},
   "outputs": [
    {
     "data": {
      "text/plain": [
       "<matplotlib.legend.Legend at 0x1a21948240>"
      ]
     },
     "execution_count": 69,
     "metadata": {},
     "output_type": "execute_result"
    },
    {
     "data": {
      "image/png": "[encoded data removed]",
      "text/plain": [
       "<Figure size 1080x288 with 2 Axes>"
      ]
     },
     "metadata": {
      "needs_background": "light"
     },
     "output_type": "display_data"
    }
   ],
   "source": [
    "fm.fit(X_train, y_train)\n",
    "\n",
    "rmse_train = []\n",
    "rmse_test = []\n",
    "r2_score_train = []\n",
    "r2_score_test = []\n",
    "\n",
    "for i in range(1, n_iter):\n",
    "    fm.fit(X_train, y_train, n_more_iter=step_size)\n",
    "    y_pred = fm.predict(X_test)\n",
    "\n",
    "    rmse_train.append(np.sqrt(mean_squared_error(fm.predict(X_train), y_train)))\n",
    "    rmse_test.append(np.sqrt(mean_squared_error(fm.predict(X_test), y_test)))\n",
    "\n",
    "    r2_score_train.append(r2_score(fm.predict(X_train), y_train))\n",
    "    r2_score_test.append(r2_score(fm.predict(X_test), y_test))\n",
    "\n",
    "\n",
    "from matplotlib import pyplot as plt\n",
    "fig, axes = plt.subplots(ncols=2, figsize=(15, 4))\n",
    "\n",
    "x = np.arange(1, n_iter) * step_size\n",
    "with plt.style.context('fivethirtyeight'):\n",
    "    axes[0].plot(x, rmse_train, label='RMSE-train', color='r', ls=\"--\")\n",
    "    axes[0].plot(x, rmse_test, label='RMSE-test', color='r')\n",
    "    axes[1].plot(x, r2_score_train, label='R^2-train', color='b', ls=\"--\")\n",
    "    axes[1].plot(x, r2_score_test, label='R^2-test', color='b')\n",
    "axes[0].set_ylabel('RMSE', color='r')\n",
    "axes[1].set_ylabel('R^2', color='b')\n",
    "axes[0].legend()\n",
    "axes[1].legend()"
   ]
  },
  {
   "cell_type": "code",
   "execution_count": null,
   "metadata": {},
   "outputs": [],
   "source": []
  },
  {
   "cell_type": "code",
   "execution_count": 71,
   "metadata": {},
   "outputs": [
    {
     "data": {
      "text/plain": [
       "array([4.05977449, 5.00180449, 4.9620057 , ..., 4.98648552, 4.97370151,\n",
       "       3.99824193])"
      ]
     },
     "execution_count": 71,
     "metadata": {},
     "output_type": "execute_result"
    }
   ],
   "source": [
    "predictions = fm.predict(X_train)\n",
    "predictions"
   ]
  },
  {
   "cell_type": "code",
   "execution_count": 72,
   "metadata": {},
   "outputs": [
    {
     "data": {
      "text/plain": [
       "0        4.0\n",
       "1        5.0\n",
       "2        5.0\n",
       "3        5.0\n",
       "4        5.0\n",
       "        ... \n",
       "99995    5.0\n",
       "99996    3.0\n",
       "99997    5.0\n",
       "99998    5.0\n",
       "99999    4.0\n",
       "Name: overall, Length: 100000, dtype: float64"
      ]
     },
     "execution_count": 72,
     "metadata": {},
     "output_type": "execute_result"
    }
   ],
   "source": [
    "train_sample['overall']"
   ]
  },
  {
   "cell_type": "code",
   "execution_count": 73,
   "metadata": {},
   "outputs": [
    {
     "data": {
      "text/html": [
       "<div>\n",
       "<style scoped>\n",
       "    .dataframe tbody tr th:only-of-type {\n",
       "        vertical-align: middle;\n",
       "    }\n",
       "\n",
       "    .dataframe tbody tr th {\n",
       "        vertical-align: top;\n",
       "    }\n",
       "\n",
       "    .dataframe thead th {\n",
       "        text-align: right;\n",
       "    }\n",
       "</style>\n",
       "<table border=\"1\" class=\"dataframe\">\n",
       "  <thead>\n",
       "    <tr style=\"text-align: right;\">\n",
       "      <th></th>\n",
       "      <th>reviewerID</th>\n",
       "      <th>movieID</th>\n",
       "      <th>reviewerName</th>\n",
       "      <th>helpful</th>\n",
       "      <th>reviewText</th>\n",
       "      <th>overall</th>\n",
       "      <th>summary</th>\n",
       "      <th>unixReviewTime</th>\n",
       "      <th>reviewTime</th>\n",
       "      <th>reviewer_count</th>\n",
       "      <th>expertise</th>\n",
       "    </tr>\n",
       "  </thead>\n",
       "  <tbody>\n",
       "    <tr>\n",
       "      <th>19997</th>\n",
       "      <td>A1345VRK5MYG7</td>\n",
       "      <td>6301442962</td>\n",
       "      <td>James L.</td>\n",
       "      <td>[6, 7]</td>\n",
       "      <td>Oddly enough, I never saw this film as a child...</td>\n",
       "      <td>5.0</td>\n",
       "      <td>No Room For Cynics</td>\n",
       "      <td>974505600</td>\n",
       "      <td>2000-11-18</td>\n",
       "      <td>120</td>\n",
       "      <td>0.049461</td>\n",
       "    </tr>\n",
       "    <tr>\n",
       "      <th>19998</th>\n",
       "      <td>A24DBUIAWDQXA2</td>\n",
       "      <td>B00004Z4VI</td>\n",
       "      <td>S. C. Smith</td>\n",
       "      <td>[11, 11]</td>\n",
       "      <td>I had a smile on my face a mile wide throughou...</td>\n",
       "      <td>5.0</td>\n",
       "      <td>A smile a mile wide.</td>\n",
       "      <td>974505600</td>\n",
       "      <td>2000-11-18</td>\n",
       "      <td>9</td>\n",
       "      <td>0.000114</td>\n",
       "    </tr>\n",
       "    <tr>\n",
       "      <th>19999</th>\n",
       "      <td>A1TDC511IET8A2</td>\n",
       "      <td>6305426678</td>\n",
       "      <td>Sashie</td>\n",
       "      <td>[1, 2]</td>\n",
       "      <td>I realy liked this movie, even though the basi...</td>\n",
       "      <td>5.0</td>\n",
       "      <td>i could watch it over and over</td>\n",
       "      <td>974505600</td>\n",
       "      <td>2000-11-18</td>\n",
       "      <td>6</td>\n",
       "      <td>0.000115</td>\n",
       "    </tr>\n",
       "  </tbody>\n",
       "</table>\n",
       "</div>"
      ],
      "text/plain": [
       "           reviewerID     movieID reviewerName   helpful  \\\n",
       "19997   A1345VRK5MYG7  6301442962     James L.    [6, 7]   \n",
       "19998  A24DBUIAWDQXA2  B00004Z4VI  S. C. Smith  [11, 11]   \n",
       "19999  A1TDC511IET8A2  6305426678       Sashie    [1, 2]   \n",
       "\n",
       "                                              reviewText  overall  \\\n",
       "19997  Oddly enough, I never saw this film as a child...      5.0   \n",
       "19998  I had a smile on my face a mile wide throughou...      5.0   \n",
       "19999  I realy liked this movie, even though the basi...      5.0   \n",
       "\n",
       "                              summary  unixReviewTime reviewTime  \\\n",
       "19997              No Room For Cynics       974505600 2000-11-18   \n",
       "19998            A smile a mile wide.       974505600 2000-11-18   \n",
       "19999  i could watch it over and over       974505600 2000-11-18   \n",
       "\n",
       "       reviewer_count  expertise  \n",
       "19997             120   0.049461  \n",
       "19998               9   0.000114  \n",
       "19999               6   0.000115  "
      ]
     },
     "execution_count": 73,
     "metadata": {},
     "output_type": "execute_result"
    }
   ],
   "source": [
    "test_sample.tail(3)"
   ]
  },
  {
   "cell_type": "code",
   "execution_count": 74,
   "metadata": {},
   "outputs": [
    {
     "data": {
      "text/plain": [
       "array([3.81515849, 4.72100454, 4.40618943, ..., 4.83627052, 4.5787194 ,\n",
       "       1.16292413])"
      ]
     },
     "execution_count": 74,
     "metadata": {},
     "output_type": "execute_result"
    }
   ],
   "source": [
    "preds = fm.predict(X_test)\n",
    "preds"
   ]
  }
 ],
 "metadata": {
  "kernelspec": {
   "display_name": "Python 3",
   "language": "python",
   "name": "python3"
  },
  "language_info": {
   "codemirror_mode": {
    "name": "ipython",
    "version": 3
   },
   "file_extension": ".py",
   "mimetype": "text/x-python",
   "name": "python",
   "nbconvert_exporter": "python",
   "pygments_lexer": "ipython3",
   "version": "3.6.10"
  }
 },
 "nbformat": 4,
 "nbformat_minor": 4
}
